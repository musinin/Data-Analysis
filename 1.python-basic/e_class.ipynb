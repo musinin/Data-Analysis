{
 "cells": [
  {
   "cell_type": "code",
   "execution_count": 5,
   "metadata": {},
   "outputs": [],
   "source": [
    "# class 만들기 \n",
    "# - class내부 함수의 첫번째 전달인자는 self가 와야한다-> 만들어진 인스턴스\n",
    "# - self는 파이썬 내부에서 사용하는 것으로 제어할수 없는 인자\n",
    "class Employee:\n",
    "    'Common base class for all employees'\n",
    "\n",
    "    emp_count = 0                           # 공유변수 : 모든 인스턴스가 공유, 클래스 이름으로 사용\n",
    "\n",
    "    def __init__(self, name=\"\", salary=0):  # 초기화 함수 : 인스턴스 만들때 자동 호출\n",
    "        print('새 인스턴스를 만들었습니다.')\n",
    "        self.name = name                    # 인스턴스 변수 : 인스턴스 별로 따로 생성하고 사용\n",
    "        self.salary = salary                # 인스턴스 변수\n",
    "        Employee.emp_count += 1\n",
    "\n",
    "    def display_count(self):\n",
    "        print(\"Total Employee %d\" % Employee.emp_count)\n",
    "    def display_employee(self):\n",
    "        print(\"Name : \", self.name,  \", Salary: \", self.salary)"
   ]
  },
  {
   "cell_type": "code",
   "execution_count": 6,
   "metadata": {},
   "outputs": [
    {
     "name": "stdout",
     "output_type": "stream",
     "text": [
      "새 인스턴스를 만들었습니다.\n",
      "Name :  john Doe , Salary:  1000000000\n",
      "john Doe 1000000000\n"
     ]
    }
   ],
   "source": [
    "# class 사용 1\n",
    "emp = Employee('john Doe', 1000000000)  # 인스턴스 만들기 -> 변수 만들기\n",
    "emp.display_employee()                  # 인스턴스에 포함된 함수 사용(호출)\n",
    "print(emp.name, emp.salary)             # 인스턴스에 포함된 변수 사용"
   ]
  },
  {
   "cell_type": "code",
   "execution_count": 7,
   "metadata": {},
   "outputs": [
    {
     "name": "stdout",
     "output_type": "stream",
     "text": [
      "새 인스턴스를 만들었습니다.\n",
      "Name :  jane Doe , Salary:  200000000\n"
     ]
    }
   ],
   "source": [
    "# class 사용 2\n",
    "emp2 = Employee(\"jane Doe\", 200000000)\n",
    "emp2.display_employee()"
   ]
  },
  {
   "cell_type": "code",
   "execution_count": 8,
   "metadata": {},
   "outputs": [
    {
     "name": "stdout",
     "output_type": "stream",
     "text": [
      "새 인스턴스를 만들었습니다.\n",
      "Name :   , Salary:  0\n"
     ]
    }
   ],
   "source": [
    "# class 사용 3\n",
    "emp3 = Employee()\n",
    "emp3.display_employee()"
   ]
  },
  {
   "cell_type": "code",
   "execution_count": 9,
   "metadata": {},
   "outputs": [
    {
     "name": "stdout",
     "output_type": "stream",
     "text": [
      "새 인스턴스를 만들었습니다.\n",
      "새 인스턴스를 만들었습니다.\n",
      "1000 2000\n",
      "5 5 5\n"
     ]
    }
   ],
   "source": [
    "# class 사용 4\n",
    "emp4_1 = Employee('장동건', 1000)\n",
    "emp4_2 = Employee('송강호', 2000)\n",
    "\n",
    "print(emp4_1.salary, emp4_2.salary)\n",
    "print(emp4_1.emp_count, emp4_2.emp_count, Employee.emp_count)   \n",
    "# 앞의 두 것은 허용은 되나 적절치 않음 -> 3번째인 클래스 이름으로 사용"
   ]
  },
  {
   "cell_type": "code",
   "execution_count": null,
   "metadata": {},
   "outputs": [
    {
     "name": "stdout",
     "output_type": "stream",
     "text": [
      "새 인스턴스를 만들었습니다.\n",
      "새 인스턴스를 만들었습니다.\n",
      "1000 2000\n",
      "벤틀리\n"
     ]
    }
   ],
   "source": [
    "# class 사용 5\n",
    "emp5_1 = Employee('장동건', 1000)\n",
    "emp5_2 = Employee('송강호', 2000)\n",
    "emp5_1.car = '벤틀리'               # 객체(인스턴스)를 생성한 이후에 변수 추가\n",
    "\n",
    "print(emp5_1.salary, emp5_2.salary)\n",
    "print(emp5_1.car)\n",
    "# print(emp5_2.car)                 # 오류 : emp5_2에는 car 변수를 추가하지 않음 "
   ]
  },
  {
   "cell_type": "code",
   "execution_count": null,
   "metadata": {},
   "outputs": [],
   "source": [
    "# class 만들기 연습\n",
    "\n",
    "class ThePoint:\n",
    "    '평면상의 한 점을 구현'                     \n",
    "    def __init__(self, x=0, y=0):   # 초기화 함수 : x, y 값 초기화 (전달인자 사용)\n",
    "        self.x = x                  # 인스턴스 변수 : x, y\n",
    "        self.y = y\n",
    "\n",
    "    def show(self):                 # 함수 : show() -> x, y 위치 출력\n",
    "        print(\"x:\", self.x, \", y:\", self.y)"
   ]
  },
  {
   "cell_type": "code",
   "execution_count": 20,
   "metadata": {},
   "outputs": [
    {
     "name": "stdout",
     "output_type": "stream",
     "text": [
      "x: 3 , y: 4\n"
     ]
    }
   ],
   "source": [
    "# class 사용 연습\n",
    "\n",
    "p = ThePoint(3, 4)  # 인스턴스 생성\n",
    "p.show()            # show 함수 호출"
   ]
  },
  {
   "cell_type": "code",
   "execution_count": null,
   "metadata": {},
   "outputs": [],
   "source": [
    "class Parent:                                   # define parent class\n",
    "    parentAttr = 100\n",
    "    def __init__(self):\n",
    "        print (\"Calling parent constructor\")\n",
    "    def parentMethod(self):\n",
    "        print ('Calling parent method')\n",
    "    def setAttr(self, attr):\n",
    "        Parent.parentAttr = attr\n",
    "    def getAttr(self):\n",
    "        print (\"Parent attribute :\", Parent.parentAttr)\n",
    "\n",
    "class Parent2:          \n",
    "    pass\n",
    "\n",
    "class Child(Parent, Parent2):                   # define child class (다중 상속 허용:2개 이상의 부모 클래스)\n",
    "    def __init__(self):\n",
    "        super().__init__()                      # 자주 사용\n",
    "        print (\"Calling child constructor\")\n",
    "    def childMethod(self):\n",
    "        print ('Calling child method')\n",
    "    def parentMethod(self):                     # Method 재정의 : 부모 클래스의 Method를 바꿔쓰기 사용 (부모 Method와 이름, 전달인자가 동일)\n",
    "        super().parentMethod()                  # super() : 부모 인스턴스 추가로 가져오기\n",
    "        print('Calling modified parent method')\n",
    "\n",
    "class Child2:\n",
    "    def __init__(self):\n",
    "        print (\"Calling child constructor\")\n",
    "    def childMethod(self):\n",
    "        print ('Calling child method')\n"
   ]
  },
  {
   "cell_type": "code",
   "execution_count": 37,
   "metadata": {},
   "outputs": [
    {
     "name": "stdout",
     "output_type": "stream",
     "text": [
      "Calling child constructor\n",
      "Calling child method\n",
      "Calling parent method\n",
      "Parent attribute : 12345\n",
      "Calling child constructor\n",
      "Calling child method\n"
     ]
    }
   ],
   "source": [
    "# 상속 클래스 사용 1\n",
    "c= Child()\n",
    "c.childMethod()\n",
    "c.parentMethod()    # 상속받은 부모 클래스의 함수 호출\n",
    "c.setAttr(12345)    # 상속받은 부모 클래스의 함수 호출\n",
    "c.getAttr()         # 상속받은 부모 클래스의 함수 호출\n",
    "\n",
    "c2=Child2()\n",
    "c2.childMethod()\n",
    "# c2.parentMethod() 오류 : 상속받지 않았기에 parent 클래스의 함수를 사용할 수 없습니다.\n"
   ]
  },
  {
   "cell_type": "code",
   "execution_count": 48,
   "metadata": {},
   "outputs": [
    {
     "name": "stdout",
     "output_type": "stream",
     "text": [
      "Calling parent constructor\n",
      "Calling child constructor\n",
      "Calling parent method\n",
      "Calling modified parent method\n",
      "Calling parent constructor\n",
      "Calling parent method\n"
     ]
    }
   ],
   "source": [
    "# 상속 클래스 사용 2\n",
    "c3 = Child()\n",
    "c3.parentMethod()\n",
    "\n",
    "p3 = Parent()\n",
    "p3.parentMethod()"
   ]
  },
  {
   "cell_type": "code",
   "execution_count": null,
   "metadata": {},
   "outputs": [
    {
     "data": {
      "text/plain": [
       "[__main__.Child, __main__.Parent, __main__.Parent2, object]"
      ]
     },
     "execution_count": 49,
     "metadata": {},
     "output_type": "execute_result"
    }
   ],
   "source": [
    "Child.mro()         # 함수 이름을 해석하는 순서"
   ]
  }
 ],
 "metadata": {
  "kernelspec": {
   "display_name": "python-env-311",
   "language": "python",
   "name": "python3"
  },
  "language_info": {
   "codemirror_mode": {
    "name": "ipython",
    "version": 3
   },
   "file_extension": ".py",
   "mimetype": "text/x-python",
   "name": "python",
   "nbconvert_exporter": "python",
   "pygments_lexer": "ipython3",
   "version": "3.11.11"
  }
 },
 "nbformat": 4,
 "nbformat_minor": 2
}
