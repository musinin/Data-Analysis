{
 "cells": [
  {
   "cell_type": "code",
   "execution_count": 5,
   "metadata": {},
   "outputs": [],
   "source": [
    "import csv # csv파일 처리를 위한 도구"
   ]
  },
  {
   "cell_type": "code",
   "execution_count": 6,
   "metadata": {},
   "outputs": [
    {
     "name": "stdout",
     "output_type": "stream",
     "text": [
      "['사용월', '호선명', '역ID', '지하철역', '유임승차', '유임하차', '무임승차', '무임하차', '작업일시']\n",
      "['2025-02', '1호선', '0150', '서울역', '1,703,216', '1,561,398', '227,099', '209,611', '2025-03-03 16:39:12']\n",
      "['2025-02', '1호선', '0151', '시청', '601,471', '603,581', '125,047', '122,390', '2025-03-03 16:39:12']\n"
     ]
    }
   ],
   "source": [
    "with open('data-files/subway_data_1.csv', 'rt', encoding='utf-8') as f:\n",
    "    reader = csv.reader(f)      # csv 문법 규칙을 반영해서 데이터를 읽는 도구\n",
    "\n",
    "    for i , line in enumerate(reader):             # 지정된 파일을 csv 문법 규칙에 따라 한 줄씩 읽어서 반환\n",
    "        print(line)\n",
    "        if i == 2:\n",
    "            break\n"
   ]
  },
  {
   "cell_type": "code",
   "execution_count": 7,
   "metadata": {},
   "outputs": [
    {
     "data": {
      "text/plain": [
       "[['2025-02', '1호선', '0150', '서울역', 1703216, 1561398, 227099, 209611],\n",
       " ['2025-02', '1호선', '0151', '시청', 601471, 603581, 125047, 122390],\n",
       " ['2025-02', '1호선', '0152', '종각', 919772, 901106, 150293, 139291]]"
      ]
     },
     "execution_count": 7,
     "metadata": {},
     "output_type": "execute_result"
    }
   ],
   "source": [
    "rows = []\n",
    "with open('data-files/subway_data_1.csv', 'rt', encoding='utf-8') as f:\n",
    "    reader = csv.reader(f) \n",
    "\n",
    "    for i, line in enumerate(reader):   # 지정된 파일을 csv 문법 규칙에 따라 한 줄씩 읽어서 리스트로 반환\n",
    "        if i > 0:\n",
    "            rows.append(line[:4] + \\\n",
    "                        [ int(v.replace(\",\",\"\")) for v in line[4:-1] ])\n",
    "rows[:3]\n"
   ]
  },
  {
   "cell_type": "code",
   "execution_count": null,
   "metadata": {},
   "outputs": [
    {
     "name": "stdout",
     "output_type": "stream",
     "text": [
      "['2025-02', '경의선', '1295', '김포공항', 1, 0, 0, 0] 1.0\n",
      "['2025-02', '경의선', '1286', '운천', 31, 15, 115, 94] 0.7876712328767124\n"
     ]
    }
   ],
   "source": [
    "# 유임승차 비율 = 유임승차 / (유임승차 + 무임승차 )\n",
    "# 유임승차 비율 = 무임승차 / (유임승차 + 무임승차 )\n",
    "# 무임승차 비율이 가장높은 지하철역 검색\n",
    "\n",
    "ym_ratio = 0\n",
    "ym_row = None\n",
    "for row in rows:\n",
    "    ratio = row[4] / (row[4] + row[6])\n",
    "    if ym_ratio < ratio:\n",
    "        ym_ratio = ratio\n",
    "        ym_row = row\n",
    "print(ym_row, ym_ratio)\n",
    "\n",
    "nm_ratio = 0\n",
    "nm_row = None\n",
    "for row in rows:\n",
    "    ratio = row[6] / (row[4] + row[6])\n",
    "    if nm_ratio < ratio:\n",
    "        nm_ratio = ratio\n",
    "        nm_row = row\n",
    "print(nm_row, nm_ratio)\n"
   ]
  },
  {
   "cell_type": "code",
   "execution_count": null,
   "metadata": {},
   "outputs": [
    {
     "name": "stdout",
     "output_type": "stream",
     "text": [
      "['2025-02', '1호선', '0157', '제기동', 217314, 209127, 237622, 256212] 0.5223196229799356\n",
      "['2025-02', '2호선', '0239', '홍대입구', 1966771, 2106410, 93497, 91195] 0.9546190107306428\n"
     ]
    }
   ],
   "source": [
    "# 일정 규모 이상\n",
    "\n",
    "high_ratio = 0\n",
    "high_row = None\n",
    "for row in rows:\n",
    "    total = row[4] + row[6]\n",
    "    if total > 50000:                # 일정 규모 이상을 찾자\n",
    "        ratio = row[6] / (total)\n",
    "        if high_ratio < ratio:\n",
    "            high_ratio = ratio\n",
    "            high_row = row\n",
    "print(high_row, high_ratio)\n",
    "\n",
    "low_ratio = 0\n",
    "low_row = None\n",
    "for row in rows:\n",
    "    total = row[4] + row[6]\n",
    "    if total > 2000000:                # 일정 규모 이상을 찾자\n",
    "        ratio = row[4] / (total)\n",
    "        if low_ratio < ratio:\n",
    "            low_ratio = ratio\n",
    "            low_row = row\n",
    "print(low_row, low_ratio)\n"
   ]
  },
  {
   "cell_type": "code",
   "execution_count": null,
   "metadata": {},
   "outputs": [
    {
     "data": {
      "text/plain": [
       "[4, 7, 9, 10, 32]"
      ]
     },
     "execution_count": 40,
     "metadata": {},
     "output_type": "execute_result"
    }
   ],
   "source": [
    "a = [10, 7, 4, 32, 9]\n",
    "a.sort() # 데이터 원본을 정렬.\n",
    "a"
   ]
  },
  {
   "cell_type": "code",
   "execution_count": null,
   "metadata": {},
   "outputs": [
    {
     "name": "stdout",
     "output_type": "stream",
     "text": [
      "['2025-02', '1호선', '0157', '제기동', 217314, 209127, 237622, 256212] 0.5223196229799356\n",
      "['2025-02', '경원선', '1916', '소요산', 10112, 10587, 32512, 32265] 0.7627627627627628\n",
      "['2025-02', '경원선', '1919', '연천', 12198, 11220, 13796, 13669] 0.5307378625836732\n",
      "['2025-02', '중앙선', '1213', '신원', 2046, 1811, 5501, 5238] 0.728898900225255\n",
      "['2025-02', '중앙선', '1216', '오빈', 3720, 3651, 3806, 3891] 0.5057135264416689\n",
      "['2025-02', '중앙선', '1218', '원덕', 3608, 3452, 4707, 4477] 0.5660853878532772\n",
      "['2025-02', '중앙선', '1219', '용문', 25009, 25567, 26722, 26792] 0.5165568034640737\n",
      "['2025-02', '중앙선', '1220', '지평', 507, 644, 719, 781] 0.5864600326264274\n",
      "['2025-02', '경의선', '1286', '운천', 31, 15, 115, 94] 0.7876712328767124\n",
      "['2025-02', '경춘선', '1322', '상천', 3062, 2715, 3120, 2929] 0.5046910384988677\n"
     ]
    }
   ],
   "source": [
    "# 무임승차 비율이 높은 상위 10개 지하철역 검색\n",
    "\n",
    "high_ratios = []\n",
    "high_rows = {}                                  # {k1: v1, k2: v2, ... } 딕셔너리로 설정\n",
    "for row in rows:\n",
    "    total = row[4] + row[6]\n",
    "    if total > 0:\n",
    "        ratio = row[6] / total\n",
    "        if len(high_ratios) < 10:               # 크기와 상관없이 10개를 추가\n",
    "            high_ratios.append(ratio)\n",
    "            high_rows[str(ratio)] = row\n",
    "        elif high_ratios[0] < ratio:\n",
    "            del high_rows[str(high_ratios[0])]  # 목록 안의 제일 작은 값을 제거           \n",
    "            high_ratios[0] = ratio              # 새로운 값을 목록에 추가\n",
    "            high_rows[str(ratio)] = row     \n",
    "\n",
    "        high_ratios.sort()                      # 계속 정렬\n",
    "        # print(high_ratios) 테스트용\n",
    "\n",
    "for k, v in high_rows.items():                  # 키 벨류로 뽑기\n",
    "    print(v, k)\n",
    "\n"
   ]
  }
 ],
 "metadata": {
  "kernelspec": {
   "display_name": "python-env-311",
   "language": "python",
   "name": "python3"
  },
  "language_info": {
   "codemirror_mode": {
    "name": "ipython",
    "version": 3
   },
   "file_extension": ".py",
   "mimetype": "text/x-python",
   "name": "python",
   "nbconvert_exporter": "python",
   "pygments_lexer": "ipython3",
   "version": "3.11.11"
  }
 },
 "nbformat": 4,
 "nbformat_minor": 2
}
