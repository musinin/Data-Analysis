{
 "cells": [
  {
   "cell_type": "code",
   "execution_count": 5,
   "metadata": {},
   "outputs": [
    {
     "name": "stdout",
     "output_type": "stream",
     "text": [
      "장동건\n"
     ]
    }
   ],
   "source": [
    "name = input(\"이름을 입력하세요\")  #사용자로부터 입력받기 -> name 변수에 저장\n",
    "print(name)"
   ]
  },
  {
   "cell_type": "code",
   "execution_count": null,
   "metadata": {},
   "outputs": [
    {
     "name": "stdout",
     "output_type": "stream",
     "text": [
      "<class 'str'> 50\n",
      "<class 'int'> 50\n"
     ]
    }
   ],
   "source": [
    "number = input(\"숫자를 입력하세요\")   # input으로 받는 값은 전부 문자열\n",
    "print(type(number),number)   \n",
    "number2 = int(number)                # 숫자를 int 값으로\n",
    "print(type(number2),number2)"
   ]
  },
  {
   "cell_type": "code",
   "execution_count": null,
   "metadata": {},
   "outputs": [
    {
     "name": "stdout",
     "output_type": "stream",
     "text": [
      "짝수\n"
     ]
    }
   ],
   "source": [
    "# 숫자 입력 -> 짝수 홀수 구분해서 출력\n",
    "number = input(\"숫자(정수)를 입력하세요\")\n",
    "number = int(number) \n",
    "\n",
    "if number % 2 == 0:\n",
    "    print('짝수')\n",
    "else:   \n",
    "    print('홀수')"
   ]
  },
  {
   "cell_type": "code",
   "execution_count": null,
   "metadata": {},
   "outputs": [
    {
     "name": "stdout",
     "output_type": "stream",
     "text": [
      "0\n"
     ]
    }
   ],
   "source": [
    "# 숫자 입력 -> 양수, 음수, 0 구분해서 출력\n",
    "number = input(\"숫자를 입력하세요\")\n",
    "number = int(number) \n",
    "\n",
    "if   number > 0:\n",
    "    print('양수')\n",
    "elif number < 0:\n",
    "    print('음수')\n",
    "else:\n",
    "    print(\"0\")"
   ]
  },
  {
   "cell_type": "code",
   "execution_count": null,
   "metadata": {},
   "outputs": [
    {
     "name": "stdout",
     "output_type": "stream",
     "text": [
      "0.6134045684532199\n",
      "32\n"
     ]
    }
   ],
   "source": [
    "import random                   # 난수 발생기 (랜덤 모듈을 가져온다는 뜻)\n",
    "\n",
    "rnumber = random.random()       # 0~1 난수 발생\n",
    "print(rnumber)\n",
    "\n",
    "rnumber2 = random.randint(1, 45) # 범위에서 난수발생\n",
    "print(rnumber2)"
   ]
  },
  {
   "cell_type": "code",
   "execution_count": null,
   "metadata": {},
   "outputs": [
    {
     "name": "stdout",
     "output_type": "stream",
     "text": [
      "89 51 27\n",
      "167\n",
      "55.666666666666664\n",
      "F\n"
     ]
    }
   ],
   "source": [
    "# 0~ 100 범위 random number 3개 뽑기 -> 각각 변수에 저장 (or 리스트에 저장)\n",
    "# 각 값 출력\n",
    "# 세 값을 더해서 다른 변수에 저장\n",
    "# 합계 출력\n",
    "# 합을 사용해서 평균 계산 -> 다른 변수에 저장\n",
    "# 평균 출력\n",
    "\n",
    "# 평균 90 이상 -> 'A' 출력\n",
    "# 평균 80 이상 -> 'B' 출력\n",
    "# 평균 70 이상 -> 'C' 출력\n",
    "# 평균 60 이상 -> 'D' 출력\n",
    "# 평균 60 미만 -> 'F' 출력\n",
    "\n",
    "# 등급 출력\n",
    "import random \n",
    "\n",
    "rnumber1 = random.randint(0, 100)\n",
    "rnumber2 = random.randint(0, 100)\n",
    "rnumber3 = random.randint(0, 100)\n",
    "print(rnumber1, rnumber2, rnumber3)\n",
    "\n",
    "s = rnumber1 + rnumber2 + rnumber3\n",
    "print(s)\n",
    "\n",
    "aver= s / 3\n",
    "print(aver)\n",
    "\n",
    "if   aver >= 90:\n",
    "    print('A')\n",
    "elif aver >= 80:\n",
    "    print('B')\n",
    "elif aver >= 70:\n",
    "    print('C')\n",
    "elif aver >= 60:\n",
    "    print('D')\n",
    "else :\n",
    "    print('F')"
   ]
  },
  {
   "cell_type": "code",
   "execution_count": null,
   "metadata": {},
   "outputs": [
    {
     "name": "stdout",
     "output_type": "stream",
     "text": [
      "[83, 38, 63]\n",
      "184\n",
      "61.333333333333336\n",
      "D\n"
     ]
    }
   ],
   "source": [
    "import random\n",
    "\n",
    "numbers = []                            # 2. 3개를 list에 저장\n",
    "numbers.append( random.randint(1, 100) )# 1. 1~ 100 범위 random number 3개 뽑기\n",
    "numbers.append( random.randint(1, 100) )\n",
    "numbers.append( random.randint(1, 100) )\n",
    "\n",
    "print(numbers)                          # 3. 각 값 출력\n",
    "\n",
    "hap = sum(numbers) # list 합을 sum으로   # 4. 세 값을 더해서 다른 변수에 저장\n",
    "print(hap)                              # 5. 합계 출력\n",
    "\n",
    "mean = hap /len(numbers)                # 6. 합을 사용해서 평균 계산 -> 다른 변수에 저장\n",
    "print(mean)                             # 7. 평균 출력\n",
    "\n",
    "if   100 >= mean and mean >= 90:\n",
    "    print('A')                          # 평균 90 이상 -> 'A' 출력\n",
    "elif 90 > mean and mean >= 80:\n",
    "    print('B')                          # 평균 80 이상 -> 'B' 출력\n",
    "elif 80 > mean and mean >= 70:\n",
    "    print('C')                          # 평균 70 이상 -> 'C' 출력\n",
    "elif 70 > mean and mean >= 60:\n",
    "    print('D')                          # 평균 60 이상 -> 'D' 출력\n",
    "elif 60 > mean and mean >= 0:\n",
    "    print('F')                          # 평균 60 미만 -> 'F' 출력\n",
    "else :\n",
    "    print('비정상 데이터')               # 오류일 때 -> '비정상 데이터' 출력       "
   ]
  },
  {
   "cell_type": "code",
   "execution_count": 114,
   "metadata": {},
   "outputs": [
    {
     "name": "stdout",
     "output_type": "stream",
     "text": [
      "1 라운드 입니다.\n",
      "2 라운드 입니다.\n",
      "3 라운드 입니다.\n",
      "4 라운드 입니다.\n",
      "5 라운드 입니다.\n"
     ]
    }
   ],
   "source": [
    "rnd = 1\n",
    "while rnd <= 5:\n",
    "    print(f\"{rnd} 라운드 입니다.\")\n",
    "    rnd += 1                        # 없으면 무한 반복이 됨 -필수-\n",
    "                                    # rnd = rnd + 1 의 코드와 동일\n",
    "    pass"
   ]
  },
  {
   "cell_type": "code",
   "execution_count": null,
   "metadata": {},
   "outputs": [
    {
     "name": "stdout",
     "output_type": "stream",
     "text": [
      "장동건\n",
      "송강호\n",
      "김윤석\n",
      "1. 장동건\n",
      "2. 송강호\n",
      "3. 김윤석\n"
     ]
    }
   ],
   "source": [
    "names = ['장동건', '송강호', '김윤석']\n",
    "for name in names :\n",
    "    print(name)\n",
    "\n",
    "for idx, name in enumerate(names) :     # 현재 순서 번호, 데이터 반환\n",
    "    print(f'{idx + 1}. {name}')"
   ]
  },
  {
   "cell_type": "code",
   "execution_count": 14,
   "metadata": {},
   "outputs": [
    {
     "name": "stdout",
     "output_type": "stream",
     "text": [
      "1. 장동건 (30)\n",
      "2. 송강호 (40)\n",
      "3. 김윤석 (43)\n",
      "1. 장동건 (30)\n",
      "2. 송강호 (40)\n",
      "3. 김윤석 (43)\n"
     ]
    }
   ],
   "source": [
    "names = [('장동건', 30), ('송강호', 40), ('김윤석', 43)]\n",
    "\n",
    "for idx, (name, age) in enumerate(names) :      # 현재 순서 번호, 데이터 반환\n",
    "    print(f'{idx + 1}. {name} ({age})')\n",
    "\n",
    "for idx, name in enumerate(names) :             # 현재 순서 번호, 데이터 반환\n",
    "    print(f'{idx + 1}. {name[0]} ({name[1]})')"
   ]
  },
  {
   "cell_type": "code",
   "execution_count": null,
   "metadata": {},
   "outputs": [
    {
     "name": "stdout",
     "output_type": "stream",
     "text": [
      "장동건 (30)\n",
      "송강호 (40)\n",
      "김윤석 (43)\n",
      "1. 장동건 (30)\n",
      "2. 송강호 (40)\n",
      "3. 김윤석 (43)\n",
      "1. 장동건 (30)\n",
      "2. 송강호 (40)\n",
      "3. 김윤석 (43)\n"
     ]
    }
   ],
   "source": [
    "names = ['장동건', '송강호', '김윤석']\n",
    "ages = [ 30, 40, 43 ]\n",
    "\n",
    "for (name, age) in zip(names, ages) : # ('장동건', 30), ('송강호', 40), ('김윤석', 43)\n",
    "    print(f'{name} ({age})')\n",
    "\n",
    "for idx, (name, age) in enumerate( zip(names, ages) ) : \n",
    "    print(f'{idx + 1}. {name} ({age})')\n",
    "\n",
    "for idx, (name, age) in enumerate( zip(names, ages), start = 1 ) : \n",
    "    print(f'{idx}. {name} ({age})')"
   ]
  },
  {
   "cell_type": "code",
   "execution_count": 115,
   "metadata": {},
   "outputs": [
    {
     "name": "stdout",
     "output_type": "stream",
     "text": [
      "1 2 3 4 5 6 7 8 9 \n",
      "*****************\n",
      "1 3 5 7 9 \n",
      "*****************\n",
      "반복 실행중\n",
      "반복 실행중\n",
      "반복 실행중\n",
      "반복 실행중\n"
     ]
    }
   ],
   "source": [
    "for idx in range(1, 10):\n",
    "    print(idx, end=\" \")         # 결과를 엔터가 아닌 \" \" 내부의 스페이스바로 변경\n",
    "\n",
    "print()\n",
    "print(\"*\" * 17)\n",
    "\n",
    "for idx in range(1, 11 , 2):\n",
    "    print(idx, end=\" \")\n",
    "\n",
    "print()\n",
    "print(\"*\" * 17)\n",
    "\n",
    "for _ in range(1, 5):          # 데이터 넘어오는 것을 받기만 하는 반복에만 관심\n",
    "    print('반복 실행중')         # _는 관용적으로 버리는 값이다는 것을 표현    "
   ]
  },
  {
   "cell_type": "code",
   "execution_count": null,
   "metadata": {},
   "outputs": [
    {
     "name": "stdout",
     "output_type": "stream",
     "text": [
      "a\n",
      "b\n",
      "c\n",
      "d\n",
      "a 장동건\n",
      "b 한석규\n",
      "c 송강호\n",
      "d 최민식\n",
      "장동건\n",
      "한석규\n",
      "송강호\n",
      "최민식\n",
      "a. 장동건\n",
      "b. 한석규\n",
      "c. 송강호\n",
      "d. 최민식\n"
     ]
    }
   ],
   "source": [
    "names = { 'a': '장동건', \n",
    "          'b': '한석규',\n",
    "          'c': '송강호',\n",
    "          'd': '최민식'}\n",
    "\n",
    "for key in names:          # dict를 순회해 key의 반복\n",
    "    print(key)  \n",
    "\n",
    "for key in names:          # dict를 순회해 key의 반복, 이를 통해 뽑아냄\n",
    "    print(key, names[key])\n",
    "\n",
    "for v in names.values():   # values 값만 불러온다\n",
    "    print(v)\n",
    "\n",
    "for k, v in names.items(): # (key,values) 반환\n",
    "     print(f'{k}. {v}')"
   ]
  },
  {
   "cell_type": "code",
   "execution_count": null,
   "metadata": {},
   "outputs": [
    {
     "name": "stdout",
     "output_type": "stream",
     "text": [
      "[40, 5, 7, 17, 24, 45]\n",
      "[29, 39, 30, 29, 13, 15]\n"
     ]
    }
   ],
   "source": [
    "#    Lotto 번호 추출기 1\n",
    "# 1. 1 ~ 45, randon, 6개 뽑기 -> list 저장\n",
    "#    -> random, range, for 사용 (or random, while 사용)\n",
    "# 2. 출력\n",
    "\n",
    "import random\n",
    "\n",
    "numbers = []\n",
    "for _ in range(1,7):                        # = for _ in range(6):  \n",
    "    numbers.append( random.randint(1, 45) )\n",
    "print(numbers) \n",
    "\n",
    "numbers2 = []\n",
    "while len(numbers2) < 6:\n",
    "    numbers2.append( random.randint(1, 45) )\n",
    "print(numbers2) "
   ]
  },
  {
   "cell_type": "code",
   "execution_count": null,
   "metadata": {},
   "outputs": [
    {
     "name": "stdout",
     "output_type": "stream",
     "text": [
      "True\n",
      "False\n"
     ]
    }
   ],
   "source": [
    "# 리스트 튜플 중복 포함 여부 확인\n",
    "print (3 in [1, 2, 3, 4, 5])        # 3이 리스트에 포함된 값인가\n",
    "print (7 in [1, 2, 3, 4, 5])        # 7이 리스트에 포함된 값인가"
   ]
  },
  {
   "cell_type": "code",
   "execution_count": 109,
   "metadata": {},
   "outputs": [
    {
     "name": "stdout",
     "output_type": "stream",
     "text": [
      "[30, 31, 2, 13, 16, 37]\n",
      "[29, 10, 11, 36, 43, 41]\n"
     ]
    }
   ],
   "source": [
    "#    Lotto 번호 추출기 2\n",
    "# 1. 1 ~ 45, 중복 x , randon, 6개 뽑기 -> list 저장\n",
    "#    -> random, while 사용\n",
    "# 2. 출력\n",
    "\n",
    "import random\n",
    "\n",
    "numbers = []\n",
    "while len(numbers) < 6:\n",
    "    number = random.randint(1, 45)\n",
    "    if number not in numbers :\n",
    "        numbers.append(number)\n",
    "print(numbers) "
   ]
  },
  {
   "cell_type": "code",
   "execution_count": 142,
   "metadata": {},
   "outputs": [
    {
     "name": "stdout",
     "output_type": "stream",
     "text": [
      "others\n",
      "end of while loop\n",
      "2\n"
     ]
    }
   ],
   "source": [
    "while True:\n",
    "    n = random.randint(1,3) # 1, 2, 3\n",
    "    if n == 1:\n",
    "        print(\"1\")\n",
    "        continue             # 반복문의 처음으로 이동하세요\n",
    "    elif n == 2:\n",
    "        print(\"2\")\n",
    "        break                # 반복문을 종료\n",
    "    else:\n",
    "        print(\"others\")\n",
    "    print('end of while loop')"
   ]
  },
  {
   "cell_type": "code",
   "execution_count": null,
   "metadata": {},
   "outputs": [
    {
     "name": "stdout",
     "output_type": "stream",
     "text": [
      "T\n",
      "[17, 4, 27, 15, 44, 14] 20.166666666666668\n"
     ]
    }
   ],
   "source": [
    "#    Lotto 번호 추출기 3\n",
    "# 1. 1 ~ 45, 중복 x , randon, 6개 뽑기 -> list 저장\n",
    "# -> [ random, while 사용]\n",
    "# 2. 뽑힌 숫자의 평균 계산\n",
    "# 3. 평균이 20보다 작거나 26보다 크다면 1부터 다시\n",
    "# 4. 출력\n",
    "\n",
    "import random\n",
    "\n",
    "while True:\n",
    "\n",
    "    numbers = []\n",
    "    while len(numbers) < 6:\n",
    "        number = random.randint(1, 45)\n",
    "        if number not in numbers :\n",
    "           numbers.append(number)\n",
    "    hap = sum(numbers)                  # 합 계산\n",
    "    mean = hap /len(numbers)            # 평균 계산\n",
    "\n",
    "    if 26 > mean and mean > 20:         # 평균 검사 -> 20 < mean < 26 이면 종료\n",
    "        print(\"T\")\n",
    "        print(numbers, mean)\n",
    "        break\n",
    "    else:\n",
    "        print(\"F\")"
   ]
  },
  {
   "cell_type": "code",
   "execution_count": 1,
   "metadata": {},
   "outputs": [
    {
     "name": "stdout",
     "output_type": "stream",
     "text": [
      "1 2\n",
      "짐\n",
      "짐\n"
     ]
    }
   ],
   "source": [
    "# 가위바위보 게임\n",
    "# 1. 사용자의 값 입력 (1-가위, 2-바위, 3-보)\n",
    "#    - input 함수 사용\n",
    "# 2. 컴퓨터의 값 할당 (1-가위, 2-바위, 3-보)\n",
    "#    - random 함수 사용\n",
    "# 3. 테스트 출력\n",
    "# 4. 사용자의 값과 컴퓨터의 값 비교 + 승무패 결정 +출력\n",
    "#    -if ~ elif ~ else 사용용\n",
    "\n",
    "while True:\n",
    "    user = input(\"(1-가위, 2-바위, 3-보)를 입력하세요\")\n",
    "    user = int(user) \n",
    "    if user in [1, 2, 3]:\n",
    "        break\n",
    "    else:\n",
    "        print(\"1, 2, 3 중 하나를 다시 입력하세요\")\n",
    "\n",
    "import random\n",
    "\n",
    "com = random.randint(1, 3)\n",
    "print(user, com)\n",
    "\n",
    "if user == com:\n",
    "    print(\"무승부\")\n",
    "elif user ==3 and com ==1:\n",
    "    print(\"짐\")\n",
    "elif user ==1 and com ==3:\n",
    "    print(\"이김\")\n",
    "elif user > com:\n",
    "    print(\"이김\")\n",
    "else :\n",
    "    print(\"짐\")\n",
    "\n",
    "\n",
    "if user == com:\n",
    "    print(\"무승부\")\n",
    "elif (user ==1 and com ==3) or \\\n",
    "     (user ==2 and com ==1) or \\\n",
    "     (user ==3 and com ==2) :\n",
    "    print(\"이김\")\n",
    "else :\n",
    "    print(\"짐\")"
   ]
  },
  {
   "cell_type": "code",
   "execution_count": 270,
   "metadata": {},
   "outputs": [
    {
     "name": "stdout",
     "output_type": "stream",
     "text": [
      "1 x 1 = 1\n",
      "1 x 2 = 2\n",
      "1 x 3 = 3\n",
      "1 x 4 = 4\n",
      "1 x 5 = 5\n",
      "1 x 6 = 6\n",
      "1 x 7 = 7\n",
      "1 x 8 = 8\n",
      "1 x 9 = 9\n"
     ]
    }
   ],
   "source": [
    "# 1. 사용자 입력 : 구구단의 단 (예: 5)\n",
    "# 2. 입력한 단의 구구단 출력\n",
    "\n",
    "user = input(\"원하는 구구단의 단을 입력하세요\")\n",
    "user = int(user)\n",
    "\n",
    "#for idx in range(1, 10):\n",
    "#    num2 = user * idx\n",
    "#    print(f\"{user} x {idx} = {num2}\")1\n",
    "\n",
    "for idx in range(1, 10):\n",
    "    print(f\"{user} x {idx} = {user * idx}\")\n"
   ]
  },
  {
   "cell_type": "code",
   "execution_count": 2,
   "metadata": {},
   "outputs": [
    {
     "name": "stdout",
     "output_type": "stream",
     "text": [
      "1 x 1 =  1   2 x 1 =  2   3 x 1 =  3   4 x 1 =  4   5 x 1 =  5   6 x 1 =  6   7 x 1 =  7   8 x 1 =  8   9 x 1 =  9   \n",
      "1 x 2 =  2   2 x 2 =  4   3 x 2 =  6   4 x 2 =  8   5 x 2 = 10   6 x 2 = 12   7 x 2 = 14   8 x 2 = 16   9 x 2 = 18   \n",
      "1 x 3 =  3   2 x 3 =  6   3 x 3 =  9   4 x 3 = 12   5 x 3 = 15   6 x 3 = 18   7 x 3 = 21   8 x 3 = 24   9 x 3 = 27   \n",
      "1 x 4 =  4   2 x 4 =  8   3 x 4 = 12   4 x 4 = 16   5 x 4 = 20   6 x 4 = 24   7 x 4 = 28   8 x 4 = 32   9 x 4 = 36   \n",
      "1 x 5 =  5   2 x 5 = 10   3 x 5 = 15   4 x 5 = 20   5 x 5 = 25   6 x 5 = 30   7 x 5 = 35   8 x 5 = 40   9 x 5 = 45   \n",
      "1 x 6 =  6   2 x 6 = 12   3 x 6 = 18   4 x 6 = 24   5 x 6 = 30   6 x 6 = 36   7 x 6 = 42   8 x 6 = 48   9 x 6 = 54   \n",
      "1 x 7 =  7   2 x 7 = 14   3 x 7 = 21   4 x 7 = 28   5 x 7 = 35   6 x 7 = 42   7 x 7 = 49   8 x 7 = 56   9 x 7 = 63   \n",
      "1 x 8 =  8   2 x 8 = 16   3 x 8 = 24   4 x 8 = 32   5 x 8 = 40   6 x 8 = 48   7 x 8 = 56   8 x 8 = 64   9 x 8 = 72   \n",
      "1 x 9 =  9   2 x 9 = 18   3 x 9 = 27   4 x 9 = 36   5 x 9 = 45   6 x 9 = 54   7 x 9 = 63   8 x 9 = 72   9 x 9 = 81   \n"
     ]
    }
   ],
   "source": [
    "# 1단 ~ 9단 전체 구구단 출력\n",
    "\n",
    "for y in range(1, 10):                              # 세로방향 반복 (열방향 반복)\n",
    "    for x in range(1, 10):                          # 가로방향 반복 (행방향 반복)\n",
    "        #print(f\"{x} x {y} = {x*y}\", end='   ')\n",
    "        print(\"{0} x {1} = {2:2d}\".format(x, y, x*y), end='   ')   # 자리 맞추기 정수형(:), 2칸(2)\n",
    "    print()"
   ]
  },
  {
   "cell_type": "code",
   "execution_count": 3,
   "metadata": {},
   "outputs": [
    {
     "name": "stdout",
     "output_type": "stream",
     "text": [
      "[29, 26, 47, 65, 62, 97, 75, 51, 56, 35]\n",
      "[39, 36, 57, 75, 72, 107, 85, 61, 66, 45]\n",
      "[39, 36, 57, 75, 72, 107, 85, 61, 66, 45]\n"
     ]
    }
   ],
   "source": [
    "# 2자리 숫자 난수 10개로 구성된 리스트\n",
    "src = []\n",
    "for idx in range(10):\n",
    "    src.append(random.randint(10, 99))\n",
    "print(src)\n",
    "\n",
    "# 위의 리스트의 각 값에 10을 더한 값으로 리스트 만들기\n",
    "\n",
    "dest = []\n",
    "for n in src:\n",
    "    dest.append(n + 10)\n",
    "print(dest)\n",
    "\n",
    "# 위의 것을 간결화 한 구문 (빈도수가 높아 숙지)\n",
    "\n",
    "dest2 = [n2 + 10 for n2 in src ]\n",
    "print(dest2)"
   ]
  },
  {
   "cell_type": "code",
   "execution_count": null,
   "metadata": {},
   "outputs": [
    {
     "name": "stdout",
     "output_type": "stream",
     "text": [
      "[84, 58]\n",
      "[84, 58]\n"
     ]
    }
   ],
   "source": [
    "# 위의 리스트에서 짝수인 값만 뽑아서 10을 더한 값으로 리스트 만들기\n",
    "\n",
    "dest = []\n",
    "for n in src:\n",
    "    if n % 2 == 0:\n",
    "        dest.append(n + 10)\n",
    "print(dest)\n",
    "\n",
    "dest2 = [n2 + 10 for n2 in src if n2 % 2 == 0 ]\n",
    "print(dest2)"
   ]
  },
  {
   "cell_type": "code",
   "execution_count": 4,
   "metadata": {},
   "outputs": [
    {
     "name": "stdout",
     "output_type": "stream",
     "text": [
      "{1: 39, 2: 36, 3: 57, 4: 75, 5: 72, 6: 107, 7: 85, 8: 61, 9: 66, 10: 45}\n",
      "{1: 39, 2: 36, 3: 57, 4: 75, 5: 72, 6: 107, 7: 85, 8: 61, 9: 66, 10: 45}\n"
     ]
    }
   ],
   "source": [
    "# 위의 리스트의 각 값을 순서번호:값 형태의 딕셔너리로 만들기\n",
    "\n",
    "dest = {}\n",
    "for idx, n in enumerate(src, start=1):\n",
    "    dest[idx] = n + 10\n",
    "print(dest)\n",
    "\n",
    "dest2 = {idx : n2 + 10 for idx, n2 \n",
    "                       in enumerate(src, start=1) }\n",
    "print(dest2)"
   ]
  },
  {
   "cell_type": "code",
   "execution_count": null,
   "metadata": {},
   "outputs": [
    {
     "name": "stdout",
     "output_type": "stream",
     "text": [
      "0 0 "
     ]
    }
   ],
   "source": [
    "for idx in range(10):\n",
    "    print(idx, end=' ')\n",
    "    break\n",
    "else:                       # 반복문이 break로 종료되지 않았을때 실행되는 영역\n",
    "    print(\"\\nend of for\")\n",
    "\n",
    "n = 0\n",
    "while n < 10:\n",
    "    print(n, end=' ')\n",
    "    n += 1                  # n = n + 1\n",
    "    break\n",
    "else:                       # 반복문이 break로 종료되지 않았을때 실행되는 영역\n",
    "    print('\\nend of while') "
   ]
  }
 ],
 "metadata": {
  "kernelspec": {
   "display_name": "python-env-311",
   "language": "python",
   "name": "python3"
  },
  "language_info": {
   "codemirror_mode": {
    "name": "ipython",
    "version": 3
   },
   "file_extension": ".py",
   "mimetype": "text/x-python",
   "name": "python",
   "nbconvert_exporter": "python",
   "pygments_lexer": "ipython3",
   "version": "3.11.11"
  }
 },
 "nbformat": 4,
 "nbformat_minor": 2
}
