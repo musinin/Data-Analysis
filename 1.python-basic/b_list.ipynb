{
 "cells": [
  {
   "cell_type": "code",
   "execution_count": 1,
   "metadata": {},
   "outputs": [],
   "source": [
    "a = [ ] # a = list()\n",
    "b = [1, 2, 3]\n",
    "c = ['Life', 'is', 'too', 'short']\n",
    "d = [1, 2, 'Life', 'is']\n",
    "e = [1, 2, ['Life', 'is']]"
   ]
  },
  {
   "cell_type": "code",
   "execution_count": 9,
   "metadata": {},
   "outputs": [
    {
     "name": "stdout",
     "output_type": "stream",
     "text": [
      "2\n",
      "['is', 'too']\n",
      "['Life', 'is']\n",
      "Life\n"
     ]
    }
   ],
   "source": [
    "# 읽어 오는 작업\n",
    "print(b[1])\n",
    "print(c[1:3])\n",
    "print(e[2])\n",
    "print(e[2][0])"
   ]
  },
  {
   "cell_type": "code",
   "execution_count": 10,
   "metadata": {},
   "outputs": [
    {
     "name": "stdout",
     "output_type": "stream",
     "text": [
      "[1, 200, 3]\n"
     ]
    }
   ],
   "source": [
    "b[1] =200\n",
    "print(b)"
   ]
  },
  {
   "cell_type": "code",
   "execution_count": 12,
   "metadata": {},
   "outputs": [
    {
     "name": "stdout",
     "output_type": "stream",
     "text": [
      "[1, 2, 3, 4, 5, 6]\n"
     ]
    }
   ],
   "source": [
    "a = [1, 2, 3, 4, 5]\n",
    "a.append(6)\n",
    "print(a)"
   ]
  },
  {
   "cell_type": "code",
   "execution_count": null,
   "metadata": {},
   "outputs": [
    {
     "name": "stdout",
     "output_type": "stream",
     "text": [
      "[4, 7, 2, 10, 3, 5]\n",
      "[2, 3, 4, 5, 7, 10]\n",
      "[10, 7, 5, 4, 3, 2]\n"
     ]
    }
   ],
   "source": [
    "a = [4, 7, 2, 10, 3, 5]\n",
    "print(a)\n",
    "a.sort()\n",
    "print(a)\n",
    "a.reverse()\n",
    "print(a)"
   ]
  },
  {
   "cell_type": "code",
   "execution_count": null,
   "metadata": {},
   "outputs": [
    {
     "name": "stdout",
     "output_type": "stream",
     "text": [
      "[1, 2, 3]\n",
      "[4, 1, 2, 3]\n"
     ]
    }
   ],
   "source": [
    "a = [1, 2, 3]       \n",
    "print(a)\n",
    "a.insert(0, 4)  #0번째에 4를 넣어라\n",
    "print(a)"
   ]
  },
  {
   "cell_type": "code",
   "execution_count": null,
   "metadata": {},
   "outputs": [
    {
     "name": "stdout",
     "output_type": "stream",
     "text": [
      "[1, 2, 3, [4, 5]]\n",
      "[1, 2, 3, 4, 5]\n"
     ]
    }
   ],
   "source": [
    "a1 = [1, 2, 3]\n",
    "a2 = [1, 2, 3]\n",
    "b = [4, 5]\n",
    "c = a1.append(b)        #그대로 붙이기\n",
    "print(a1)\n",
    "d = a2.extend(b)        #풀어서 붙이기\n",
    "print(a2)"
   ]
  },
  {
   "cell_type": "code",
   "execution_count": null,
   "metadata": {},
   "outputs": [
    {
     "name": "stdout",
     "output_type": "stream",
     "text": [
      "(1, 2, 3)\n"
     ]
    }
   ],
   "source": [
    "a = (1, 2, 3)\n",
    "print(a)\n",
    "# a[1] = 200      튜플은 값을 변경할 수 없다. 읽기 전용이다.\n",
    "# print(a)"
   ]
  },
  {
   "cell_type": "code",
   "execution_count": 11,
   "metadata": {},
   "outputs": [
    {
     "name": "stdout",
     "output_type": "stream",
     "text": [
      "[1]\n",
      "(1,)\n"
     ]
    },
    {
     "data": {
      "text/plain": [
       "4.5"
      ]
     },
     "execution_count": 11,
     "metadata": {},
     "output_type": "execute_result"
    }
   ],
   "source": [
    "l = [1]\n",
    "t = (1,)    # 튜플로 하나의 값을 쓸땐 ,를 사용해야 한다. 그렇지 않으면 단일값 처리\n",
    "print(l)    # 원래 ()는 다른 용도로 쓰인다. ()는 우선순위를 정하는 문법으로 본다\n",
    "print(t)\n",
    "\n",
    "(3 + 6) / 2 # 괄호의 첫번째 문법"
   ]
  },
  {
   "cell_type": "code",
   "execution_count": null,
   "metadata": {},
   "outputs": [
    {
     "name": "stdout",
     "output_type": "stream",
     "text": [
      "dict_keys(['a', 'b', 'c', 'd'])\n",
      "dict_values(['장동건', '한석규', '송강호', '최민식'])\n",
      "장동건\n",
      "최민식\n",
      "<class 'dict_values'>\n",
      "송강호\n"
     ]
    }
   ],
   "source": [
    "names = { 'a': '장동건', \n",
    "          'b': '한석규',\n",
    "          'c': '송강호',\n",
    "          'd': '최민식'}\n",
    "\n",
    "print(names.keys())\n",
    "print(names.values())\n",
    "\n",
    "print( names['a'] )\n",
    "print( names['d'] )\n",
    "\n",
    "# print(names.values()[2])\n",
    "\n",
    "print( type(names.values()))\n",
    "values = list(names.values())       # list 형식으로 교체\n",
    "print(values[2])"
   ]
  }
 ],
 "metadata": {
  "kernelspec": {
   "display_name": "python-env-311",
   "language": "python",
   "name": "python3"
  },
  "language_info": {
   "codemirror_mode": {
    "name": "ipython",
    "version": 3
   },
   "file_extension": ".py",
   "mimetype": "text/x-python",
   "name": "python",
   "nbconvert_exporter": "python",
   "pygments_lexer": "ipython3",
   "version": "3.11.11"
  }
 },
 "nbformat": 4,
 "nbformat_minor": 2
}
