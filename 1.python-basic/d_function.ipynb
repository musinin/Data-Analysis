{
 "cells": [
  {
   "cell_type": "code",
   "execution_count": 413,
   "metadata": {},
   "outputs": [
    {
     "name": "stdout",
     "output_type": "stream",
     "text": [
      "안녕하세요.\n",
      "함수의 세계에 오신것을 환영합니다.\n",
      "수정되었습니다.\n"
     ]
    }
   ],
   "source": [
    "# 함수 정의, 함수 선언 -> 함수 만들기\n",
    "def show_message():\n",
    "    print(\"안녕하세요.\")\n",
    "    print(\"함수의 세계에 오신것을 환영합니다.\")\n",
    "    print(\"수정되었습니다.\")\n",
    "\n",
    "# 함수 호출 : 정의된 함수를 실행\n",
    "show_message()"
   ]
  },
  {
   "cell_type": "code",
   "execution_count": 8,
   "metadata": {},
   "outputs": [
    {
     "name": "stdout",
     "output_type": "stream",
     "text": [
      "<bound method Kernel.raw_input of <ipykernel.ipkernel.IPythonKernel object at 0x0000019B79899550>>\n",
      "<function show_message at 0x0000019B7AF02C00>\n"
     ]
    }
   ],
   "source": [
    "print(input)\n",
    "print(show_message)"
   ]
  },
  {
   "cell_type": "code",
   "execution_count": 16,
   "metadata": {},
   "outputs": [
    {
     "name": "stdout",
     "output_type": "stream",
     "text": [
      "********************\n",
      "*                  *\n",
      "*                  *\n",
      "*                  *\n",
      "*                  *\n",
      "*                  *\n",
      "*                  *\n",
      "*                  *\n",
      "*                  *\n",
      "********************\n"
     ]
    }
   ],
   "source": [
    "# '*' 문자를 사용해서 20 x 10 박스 그리기\n",
    "# 경계선은 *, 내부는 공백으로 표시\n",
    "\n",
    "for y in range(10):\n",
    "    for x in range(20):\n",
    "        if x == 0 or x == 19 or y==0 or y == 9:\n",
    "            print(\"*\", end='')\n",
    "        else:\n",
    "            print(\" \", end='')    \n",
    "    print()                                     # 줄바꿈"
   ]
  },
  {
   "cell_type": "code",
   "execution_count": 414,
   "metadata": {},
   "outputs": [
    {
     "name": "stdout",
     "output_type": "stream",
     "text": [
      "********************\n",
      "*                  *\n",
      "*                  *\n",
      "*                  *\n",
      "*                  *\n",
      "*                  *\n",
      "*                  *\n",
      "*                  *\n",
      "*                  *\n",
      "********************\n"
     ]
    }
   ],
   "source": [
    "# 박스 그리기 함수 만들기 -> 정의\n",
    "\n",
    "def draw_box():         # 함수의 첫번째 문자열은 문서주석. 길게 쓰기위해 \"\"\"를 사용 \n",
    "    \"\"\"\n",
    "    이 함수는 가로 20, 세로 10의 크기의 박스를 그리는 함수 입니다.\n",
    "    박스 그리기에 사용하느 문자는 '*'입니다.\n",
    "    \"\"\"\n",
    "    for y in range(10):\n",
    "        for x in range(20):\n",
    "            if x == 0 or x == 19 or y==0 or y == 9:\n",
    "                print(\"*\", end='')\n",
    "            else:\n",
    "                print(\" \", end='')    \n",
    "        print()\n",
    "\n",
    "draw_box()          # 박스 그리기 함수 실행"
   ]
  },
  {
   "cell_type": "code",
   "execution_count": 415,
   "metadata": {},
   "outputs": [
    {
     "name": "stdout",
     "output_type": "stream",
     "text": [
      "11111111111111111111\n",
      "1                  1\n",
      "1                  1\n",
      "11111111111111111111\n"
     ]
    }
   ],
   "source": [
    "# 박스 그리기 함수 만들기 2 : 전달인자 (파라미터) 사용\n",
    "def draw_box2(widfh, height, c):         \n",
    "    \"\"\"\n",
    "    이 함수는 가로 widfh, 세로 height의 크기의 박스를 그리는 함수 입니다.\n",
    "    박스 그리기에 사용하느 문자는 '*'입니다.\n",
    "    \"\"\"\n",
    "    for y in range(height):\n",
    "        for x in range(widfh):\n",
    "            if x == 0 or x == widfh-1 or y==0 or y == height-1:\n",
    "                print(c, end='')\n",
    "            else:\n",
    "                print(\" \", end='')\n",
    "        print()\n",
    "\n",
    "w = int(input('박스의 너비 : '))\n",
    "h = int(input('박스의 높이 : '))\n",
    "c = input('박스 그리기에 사용할 문자 : ')\n",
    "\n",
    "draw_box2(w, h, c) # draw_box2 함수에게 widfh, height 값 전달"
   ]
  },
  {
   "cell_type": "code",
   "execution_count": 47,
   "metadata": {},
   "outputs": [
    {
     "name": "stdout",
     "output_type": "stream",
     "text": [
      "30\n"
     ]
    }
   ],
   "source": [
    "# 결과(반환, return)가 있는 함수 만들기\n",
    "def add(a, b):\n",
    "    r = a + b\n",
    "    return r    # 함수를 종료하고 호출한 곳으로 r을 반환\n",
    "\n",
    "result = add(10, 20)\n",
    "print(result)"
   ]
  },
  {
   "cell_type": "code",
   "execution_count": 416,
   "metadata": {},
   "outputs": [
    {
     "name": "stdout",
     "output_type": "stream",
     "text": [
      "(1, 2, 3)\n",
      "6\n",
      "(1,)\n",
      "1\n",
      "(1, 2, 3)\n",
      "6\n",
      "(1, 2, 3)\n",
      "6\n"
     ]
    }
   ],
   "source": [
    "# 갯수에 관계 없는 전달인자를 사용하는 함수\n",
    "def add_all(*values):   # * = 묶어서 사용할 수 있게 함\n",
    "    print(values)\n",
    "    r = sum(values)\n",
    "    return r\n",
    "\n",
    "print( add_all(1, 2, 3) )\n",
    "print( add_all(1) )\n",
    "\n",
    "l = [1, 2, 3]           # print( add_all([l]) ) (5개로 구성된)값 1개 전달\n",
    "\n",
    "print( add_all(l[0], l[1], l[2]))\n",
    "print( add_all(*l))     # *l = l[0], l[1], l[2]  호출할땐 묶음을 풀어줌\n"
   ]
  },
  {
   "cell_type": "code",
   "execution_count": null,
   "metadata": {},
   "outputs": [
    {
     "name": "stdout",
     "output_type": "stream",
     "text": [
      "(93, 95)\n",
      "39 95\n",
      "66 33\n"
     ]
    }
   ],
   "source": [
    "# 여러 개의 값을 반환하는 함수 만들기\n",
    "import random\n",
    "\n",
    "def return_multiple_values():\n",
    "    return random.randint(10, 99), random.randint(10, 99)   \n",
    "# 여러개의 값을 묶어 한개의 tuple로 반환\n",
    "\n",
    "print(return_multiple_values())\n",
    "\n",
    "a= return_multiple_values()\n",
    "print(a[0], a[1])\n",
    "b, c = return_multiple_values()\n",
    "print(b, c)\n"
   ]
  },
  {
   "cell_type": "code",
   "execution_count": null,
   "metadata": {},
   "outputs": [
    {
     "name": "stdout",
     "output_type": "stream",
     "text": [
      "나의 이름은 john doe 입니다.\n",
      "나이는 32살입니다.\n",
      "남자입니다.\n",
      "나의 이름은 jane doe 입니다.\n",
      "나이는 32살입니다.\n",
      "여자입니다.\n"
     ]
    }
   ],
   "source": [
    "# 기본값이 지정된 전달인자를 사용하는 함수 만들기\n",
    "def say_myself(name, old, man=True): \n",
    "    print(\"나의 이름은 %s 입니다.\" % name) \n",
    "    print(\"나이는 %d살입니다.\" % old) \n",
    "    if man: \n",
    "        print(\"남자입니다.\")\n",
    "    else: \n",
    "        print(\"여자입니다.\")\n",
    "\n",
    "say_myself('john doe', 32)\n",
    "say_myself('jane doe', 32, False)"
   ]
  },
  {
   "cell_type": "code",
   "execution_count": null,
   "metadata": {},
   "outputs": [
    {
     "name": "stdout",
     "output_type": "stream",
     "text": [
      "1 2 3 20\n",
      "1 2 10 3\n"
     ]
    }
   ],
   "source": [
    "# 기본값이 지정된 전달인자를 사용하는 함수 만들기 2\n",
    "# def dafault_parameter_test(a, b, c=10, d):    전달인자 목록 중간에 기본값 사용x\n",
    "def dafault_parameter_test(a, b, c=10, d=20):  # 기본값이 전 다인자는 뒷부분 배치\n",
    "    print(a, b, c, d)\n",
    "\n",
    "\n",
    "dafault_parameter_test(1, 2, 3)                 # 3은 c전달인자에 저장\n",
    "dafault_parameter_test(1, 2, d=3)               # 3은 d전달인자에 저장"
   ]
  },
  {
   "cell_type": "code",
   "execution_count": 417,
   "metadata": {},
   "outputs": [
    {
     "name": "stdout",
     "output_type": "stream",
     "text": [
      "*         \n",
      "**        \n",
      "***       \n",
      "****      \n",
      "*****     \n",
      "******    \n",
      "*******   \n",
      "********  \n",
      "********* \n",
      "**********\n",
      "*\n",
      "**\n",
      "***\n",
      "****\n",
      "*****\n",
      "******\n",
      "*******\n",
      "********\n",
      "*********\n",
      "**********\n"
     ]
    }
   ],
   "source": [
    "# 삼각형을 출력하는 함수 만들기 (draw_triangle, 전달인자 x, 결과형 x)\n",
    "\n",
    "def draw_triangle():        \n",
    "    for y in range(10):\n",
    "        for x in range(10):\n",
    "            if x <= y :\n",
    "                print(\"*\", end='')\n",
    "            else:\n",
    "                print(\" \", end='')    \n",
    "        print()\n",
    "\n",
    "draw_triangle()\n",
    "\n",
    "\n",
    "def draw_triangle2():        \n",
    "    for y in range(1,11):\n",
    "        for x in range(y):\n",
    "                print(\"*\", end='')\n",
    "        print()\n",
    "\n",
    "draw_triangle2()\n"
   ]
  },
  {
   "cell_type": "code",
   "execution_count": null,
   "metadata": {},
   "outputs": [
    {
     "name": "stdout",
     "output_type": "stream",
     "text": [
      " 10000원의 달러는 6.9000$입니다.\n"
     ]
    }
   ],
   "source": [
    "# 환률 계산 함수 만들기 (원화를 전달인자 -> 결과 미화 반환)\n",
    "\n",
    "def trans_don(won, tran=0.00069):\n",
    "    r = won * tran\n",
    "    return r\n",
    "\n",
    "won = int(input('얼마를 바꿀것인가 : '))\n",
    "r= trans_don(won)\n",
    "print(\" %d원의 달러는 %.4f$입니다.\" % (won, r)) \n"
   ]
  },
  {
   "cell_type": "code",
   "execution_count": 418,
   "metadata": {},
   "outputs": [
    {
     "name": "stdout",
     "output_type": "stream",
     "text": [
      "존재하지 않음\n"
     ]
    }
   ],
   "source": [
    "d = {1:'a', 2:'b', 3:'c'}\n",
    "\n",
    "# print(d(-1))                      오류\n",
    "print(d.get(-1, '존재하지 않음'))   \n",
    "# 없는걸 찾아도 오류가 나지 않음 => None(=>존재하지 않음)이 나옴"
   ]
  },
  {
   "cell_type": "code",
   "execution_count": null,
   "metadata": {},
   "outputs": [
    {
     "name": "stdout",
     "output_type": "stream",
     "text": [
      " 10000원의 달러는 6.90$입니다.\n"
     ]
    }
   ],
   "source": [
    "# 환률 계산 함수 만들기 2 (원화, 화폐를 전달인자 -> 결과 달러, 엔, 위안 중 선택 반환)\n",
    "def trans_don2(won, tran):\n",
    "    trans = {'USD':0.00069, 'JPY':0.1036, 'CNY':0.0051}\n",
    "    while tran not in trans:\n",
    "        tran = input('(USD or JPY or CNY)')\n",
    "    r = won * trans[tran]\n",
    "    return r\n",
    "\n",
    "won = int(input('얼마를 바꿀것인가 : '))\n",
    "tran = input('어느나라 지폐를 원하는가 (USD or JPY or CNY)')\n",
    "r = trans_don2(won, tran)\n",
    "print(\" %d원의 달러는 %.2f$입니다.\" % (won, r))"
   ]
  },
  {
   "cell_type": "code",
   "execution_count": null,
   "metadata": {},
   "outputs": [
    {
     "name": "stdout",
     "output_type": "stream",
     "text": [
      "100000.0\n"
     ]
    }
   ],
   "source": [
    "def exchange2(won, currency):\n",
    "    exchange_rate = { 1: 0.69, 2: 0.10, 3: 0.0050 } # 1: dol, 2. yen, 3. yuan\n",
    "    rate = exchange_rate[currency]\n",
    "    result = won * rate\n",
    "    return result\n",
    "\n",
    "#won = input(\"원화 : \")\n",
    "#won = int(won)\n",
    "#currency = input(\"화폐 종류: 1: 달러, 2. 엔, 3. 위안\")\n",
    "#currency = int(currency)\n",
    "\n",
    "#dol = exchange2(won, currency)\n",
    "#print(dol)\n",
    "\n",
    "wc = input(\"원, 화폐 종류 : \\n(화폐 종류= 1:달러, 2:엔, 3: 위안) \")\n",
    "wc2 = wc.split(\",\")     # \"10,1\"->['10','1']\n",
    "wc3 = [int(v.strip()) for v in wc2]  # 'abc  '.strip() -> 'abc' 공백제거\n",
    "\n",
    "# wc3 = []\n",
    "# for v in wc2:\n",
    "#    wc3.append(int(v)) 위의 값을 간단히 한 list 내포문\n",
    "\n",
    "r = exchange2(wc3[0], wc3[1])\n",
    "print(r)"
   ]
  },
  {
   "cell_type": "code",
   "execution_count": 515,
   "metadata": {},
   "outputs": [
    {
     "name": "stdout",
     "output_type": "stream",
     "text": [
      "[9, 41, 11, 15, 4, 45] 20.833333333333332\n",
      "[17, 38, 31, 42, 16, 6] 25.0\n",
      "프로그램을 종료합니다.\n",
      "행운을 빕니다.\n"
     ]
    }
   ],
   "source": [
    "import random\n",
    "\n",
    "def select_basic_numbers():\n",
    "    \"\"\"\n",
    "    1 ~ 45의 6개의 중복 X, random number 뽑는 함수\n",
    "    전달 인자 : X\n",
    "    반환 : 뽑힌 6개의 숫자 (리스트 방식)\n",
    "    \"\"\"\n",
    "    numbers = []\n",
    "    while len(numbers) < 6:\n",
    "        number = random.randint(1, 45)\n",
    "        if number not in numbers :\n",
    "           numbers.append(number)\n",
    "    return numbers\n",
    "\n",
    "def mean(numbers):\n",
    "    \"\"\"\n",
    "    여러 숫자의 평균을 계산\n",
    "    전달인자 : 뽑힌 6개의 숫자 (리스트 형식)\n",
    "    반환 : 계산된 평균값\n",
    "    \"\"\"\n",
    "    hap = sum(numbers)\n",
    "    m = hap /len(numbers)\n",
    "    return m\n",
    "\n",
    "def check_mean(m):\n",
    "    \"\"\"\n",
    "    평균을 검사해 True or False를 확인\n",
    "    전달인자 : 평균 값\n",
    "    반환 : True or False\n",
    "    \"\"\"\n",
    "    #return 26 > m and m > 20        # 그 자체로 True or False를 반환하는 값\n",
    "    if 26 > m and m > 20:\n",
    "        return True\n",
    "    else:\n",
    "        return False\n",
    "\n",
    "def select_winning_numbers():\n",
    "    \"\"\"\n",
    "    당첨 예상 번호 뽑기\n",
    "    전달인자 : X\n",
    "    반환 : 봅힌 6개의 숫자(리스트 형식), 평균\n",
    "    \"\"\"\n",
    "    while True:\n",
    "        numbers = select_basic_numbers()\n",
    "        m = mean(numbers)\n",
    "        if check_mean(m):\n",
    "            break\n",
    "    return numbers, m\n",
    "\n",
    "while True:\n",
    "    msg = \"\"\"   1. 당첨 예상 번호 뽑기\n",
    "                2. 종료\n",
    "                원하는 작업을 선택하세요 : \"\"\"\n",
    "    selection = input(msg)\n",
    "\n",
    "    if selection == \"2\":\n",
    "        print(\"프로그램을 종료합니다.\")\n",
    "        print(\"행운을 빕니다.\")\n",
    "        break\n",
    "    elif selection != \"1\":\n",
    "        print(\"지원하지 않는 작업입니다.\")\n",
    "        continue\n",
    "\n",
    "    numbers, m = select_winning_numbers()\n",
    "    print(numbers, m)\n"
   ]
  }
 ],
 "metadata": {
  "kernelspec": {
   "display_name": "python-env-311",
   "language": "python",
   "name": "python3"
  },
  "language_info": {
   "codemirror_mode": {
    "name": "ipython",
    "version": 3
   },
   "file_extension": ".py",
   "mimetype": "text/x-python",
   "name": "python",
   "nbconvert_exporter": "python",
   "pygments_lexer": "ipython3",
   "version": "3.11.11"
  }
 },
 "nbformat": 4,
 "nbformat_minor": 2
}
