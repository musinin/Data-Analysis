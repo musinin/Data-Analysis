{
 "cells": [
  {
   "cell_type": "code",
   "execution_count": null,
   "metadata": {},
   "outputs": [],
   "source": [
    "# 오류 발생 확인 \n",
    "# open('test.txt')\n",
    "# 4 / 0\n",
    "# raise NotImplementedError(\"늑대가 나타났어요\") # 오류발생이라고 알려주는 것\n"
   ]
  },
  {
   "cell_type": "code",
   "execution_count": 53,
   "metadata": {},
   "outputs": [
    {
     "name": "stdout",
     "output_type": "stream",
     "text": [
      "오류 의심 영역\n",
      "오류가 발생했을 경우 실행되는 영역\n",
      "[Errno 2] No such file or directory: 'test.txt'\n",
      "오류발생 여부와 관계없이 실행되는 영역\n"
     ]
    }
   ],
   "source": [
    "import random\n",
    "\n",
    "try:\n",
    "    print(\"오류 의심 영역\")\n",
    "    rn = random.randint(1,2)\n",
    "    if rn == 1:                     # 서로 다른 오류를 내보기\n",
    "        open('test.txt')            # 오류 \n",
    "    else:\n",
    "        10 / 0\n",
    "                                    # except : =>오류 발생 여부만 확인  \n",
    "except Exception as e:              # 오류 정보를 변수로 저장\n",
    "    print(\"오류가 발생했을 경우 실행되는 영역\")\n",
    "    print(e)\n",
    "    pass\n",
    "else:\n",
    "    print(\"오류가 발생하지 않았을 경우 실행되는 영역\")\n",
    "    pass\n",
    "finally:\n",
    "    print(\"오류발생 여부와 관계없이 실행되는 영역\")\n",
    "    pass\n"
   ]
  },
  {
   "cell_type": "code",
   "execution_count": null,
   "metadata": {},
   "outputs": [
    {
     "name": "stdout",
     "output_type": "stream",
     "text": [
      "오류 의심 영역\n",
      "[Errno 2] No such file or directory: 'test.txt'\n",
      "오류발생 여부와 관계없이 실행되는 영역\n"
     ]
    }
   ],
   "source": [
    "import random\n",
    "\n",
    "try:\n",
    "    print(\"오류 의심 영역\")\n",
    "    rn = random.randint(1,2)\n",
    "    if rn == 1:                     # 서로 다른 오류를 내보기\n",
    "        open('test.txt')            # 오류 \n",
    "    else:\n",
    "        10 / 0\n",
    "except FileNotFoundError as e1:     # 오류마다 다르게 분리\n",
    "    print(e1)\n",
    "except ZeroDivisionError as e2:\n",
    "    print(e2)\n",
    "else:\n",
    "    print(\"오류가 발생하지 않았을 경우 실행되는 영역\")\n",
    "    pass\n",
    "finally:\n",
    "    print(\"오류발생 여부와 관계없이 실행되는 영역\")\n",
    "    pass\n"
   ]
  }
 ],
 "metadata": {
  "kernelspec": {
   "display_name": "python-env-311",
   "language": "python",
   "name": "python3"
  },
  "language_info": {
   "codemirror_mode": {
    "name": "ipython",
    "version": 3
   },
   "file_extension": ".py",
   "mimetype": "text/x-python",
   "name": "python",
   "nbconvert_exporter": "python",
   "pygments_lexer": "ipython3",
   "version": "3.11.11"
  }
 },
 "nbformat": 4,
 "nbformat_minor": 2
}
