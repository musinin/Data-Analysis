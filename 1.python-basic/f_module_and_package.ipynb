{
 "cells": [
  {
   "cell_type": "code",
   "execution_count": null,
   "metadata": {},
   "outputs": [
    {
     "data": {
      "text/plain": [
       "[0.2263103540244218,\n",
       " 0.5606765575556827,\n",
       " 0.1770226992743147,\n",
       " 0.9887266628693892,\n",
       " 0.5486529683421414]"
      ]
     },
     "execution_count": 1,
     "metadata": {},
     "output_type": "execute_result"
    }
   ],
   "source": [
    "import my_module\n",
    "\n",
    "my_module.greetings('johm Doe')     # 파일 수정한 내용을 다시 가져오지 않는다\n",
    "my_module.select_rand_number(5)     # restart를 통해 다시 실행시켜 import를 돌린다\n"
   ]
  },
  {
   "cell_type": "code",
   "execution_count": 2,
   "metadata": {},
   "outputs": [
    {
     "name": "stdout",
     "output_type": "stream",
     "text": [
      "jane Doe님 반갑습니다.\n",
      "[0.3494433917767539, 0.9986807345386606, 0.6024088494546511]\n"
     ]
    }
   ],
   "source": [
    "from my_module import greetings, select_rand_number\n",
    "\n",
    "print(greetings('jane Doe'))\n",
    "print(select_rand_number(3))"
   ]
  },
  {
   "cell_type": "code",
   "execution_count": null,
   "metadata": {},
   "outputs": [
    {
     "name": "stdout",
     "output_type": "stream",
     "text": [
      "jane Doe님 반갑습니다.\n",
      "[0.17229690332513448, 0.06143378375712172, 0.8480697877691364]\n"
     ]
    }
   ],
   "source": [
    "from my_module import greetings, select_rand_number # import에서 선언한 내용만 사용\n",
    "\n",
    "print(greetings('jane Doe'))\n",
    "print(select_rand_number(3))\n",
    "\n",
    "# print(my_module.greetings('jane Doe'))    from으로 한 것은 사용 안됨"
   ]
  },
  {
   "cell_type": "code",
   "execution_count": 3,
   "metadata": {},
   "outputs": [
    {
     "name": "stdout",
     "output_type": "stream",
     "text": [
      "jane Doe님 반갑습니다.\n",
      "[0.8323989533476782, 0.8119529326501953, 0.8356398269527021]\n"
     ]
    }
   ],
   "source": [
    "from my_module import greetings as g\n",
    "from my_module import select_rand_number as srn\n",
    "\n",
    "print(g('jane Doe'))\n",
    "print(srn(3))"
   ]
  },
  {
   "cell_type": "code",
   "execution_count": 3,
   "metadata": {},
   "outputs": [
    {
     "name": "stdout",
     "output_type": "stream",
     "text": [
      "jane Doe님 반갑습니다.\n",
      "[0.30347438307924635, 0.6578076493848398, 0.9311579513002675]\n"
     ]
    }
   ],
   "source": [
    "import my_module as mm\n",
    "\n",
    "print(mm.greetings('jane Doe'))\n",
    "print(mm.select_rand_number(3))"
   ]
  },
  {
   "cell_type": "code",
   "execution_count": null,
   "metadata": {},
   "outputs": [
    {
     "name": "stdout",
     "output_type": "stream",
     "text": [
      "jane Doe님 반갑습니다.\n",
      "[0.09615213572876113, 0.9691529843646358, 0.41165129722197324]\n"
     ]
    }
   ],
   "source": [
    "from my_module import *     # 내용에 있는것을 다 가져와라\n",
    "\n",
    "print(greetings('jane Doe'))\n",
    "print(select_rand_number(3))"
   ]
  },
  {
   "cell_type": "code",
   "execution_count": null,
   "metadata": {},
   "outputs": [],
   "source": [
    "import my_module # my_module을 실행하세요 라는 뜻을 가지고 있다."
   ]
  },
  {
   "cell_type": "code",
   "execution_count": 7,
   "metadata": {},
   "outputs": [
    {
     "name": "stdout",
     "output_type": "stream",
     "text": [
      "module1\n",
      "module2\n"
     ]
    }
   ],
   "source": [
    "# 패키지와 모듈 사용하기\n",
    "import pa.pb.module1\n",
    "import pa.pc.module2\n",
    "\n",
    "print(pa.pb.module1.message)\n",
    "print(pa.pc.module2.message)"
   ]
  },
  {
   "cell_type": "code",
   "execution_count": 8,
   "metadata": {},
   "outputs": [
    {
     "name": "stdout",
     "output_type": "stream",
     "text": [
      "module1\n",
      "module2\n"
     ]
    }
   ],
   "source": [
    "import pa.pb.module1 as m1\n",
    "import pa.pc.module2 as m2\n",
    "\n",
    "print(m1.message)\n",
    "print(m2.message)"
   ]
  },
  {
   "cell_type": "code",
   "execution_count": null,
   "metadata": {},
   "outputs": [
    {
     "name": "stdout",
     "output_type": "stream",
     "text": [
      "module1\n",
      "module1\n",
      "module1 module2\n"
     ]
    }
   ],
   "source": [
    "from pa.pb import module1\n",
    "from pa.pb.module1 import message\n",
    "from pa import pb, pc               # 패키지를 import 한 방식은 잘 사용 x\n",
    "\n",
    "print(module1.message)\n",
    "print(message)\n",
    "print(pb.module1.message, pc.module2.message)"
   ]
  }
 ],
 "metadata": {
  "kernelspec": {
   "display_name": "python-env-311",
   "language": "python",
   "name": "python3"
  },
  "language_info": {
   "codemirror_mode": {
    "name": "ipython",
    "version": 3
   },
   "file_extension": ".py",
   "mimetype": "text/x-python",
   "name": "python",
   "nbconvert_exporter": "python",
   "pygments_lexer": "ipython3",
   "version": "3.11.11"
  }
 },
 "nbformat": 4,
 "nbformat_minor": 2
}
