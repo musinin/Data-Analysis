{
 "cells": [
  {
   "cell_type": "code",
   "execution_count": null,
   "metadata": {},
   "outputs": [],
   "source": [
    "# 파일에 데이터 쓰기 1\n",
    "\n",
    "# f = open('data-files/test.txt', 'w')\n",
    "# f = open('data-files/test.txt', 'wt')   # w: 쓰기, t: 텍스트 형식\n",
    "f = open('data-files/test.txt', 'wt', encoding=\"utf-8\") # 호환성 높은 문자코드 = 디폴드값으로 되있다\n",
    "\n",
    "f.write('파일에 쓰는 데이터 1\\n')\n",
    "f.write('파일에 쓰는 데이터 2\\n')\n",
    "f.write('파일에 쓰는 데이터 3\\n')\n",
    "f.write('파일에 쓰는 데이터 4\\n')\n",
    "f.write('파일에 쓰는 데이터 5\\n')\n",
    "\n",
    "f.close()                               # 원칙적으로 파일 사용 후 닫아야 한다\n"
   ]
  },
  {
   "cell_type": "code",
   "execution_count": null,
   "metadata": {},
   "outputs": [
    {
     "name": "stdout",
     "output_type": "stream",
     "text": [
      "파일에 쓰는 데이터 1\n",
      "\n",
      "파일에 쓰는 데이터 2\n",
      "\n",
      "파일에 쓰는 데이터 3\n",
      "\n",
      "파일에 쓰는 데이터 4\n",
      "\n",
      "파일에 쓰는 데이터 5\n",
      "\n"
     ]
    }
   ],
   "source": [
    "# 파일에 데이터 읽기 2\n",
    "\n",
    "#f2 = open('data-files/test.txt', 'r')\n",
    "#f2 = open('data-files/test.txt', 'rt')  # r: 읽기, t: 텍스트 형식\n",
    "#f2 = open('data-files/test.txt', 'rt', encoding=\"euc-kr\") 쓰기에 사용한 문자코드를 동일하게 사용해야 됨\n",
    "f2 = open('data-files/test.txt', 'rt', encoding=\"utf-8\")\n",
    "\n",
    "# 1\n",
    "# print(f2.read())      # 모든 내용을 읽어서 한 단위로 반환\n",
    "\n",
    "# 2\n",
    "# print(f2.readlines()) # 모든 내용을 읽어서 행 단위로 구분된 리스트 반환\n",
    "\n",
    "# 3 \n",
    "while True:\n",
    "    l = f2.readline()   # 한 행만 읽어서 반환 (더 이상 읽을 데이터가 없으면 \"\" 반환)\n",
    "    if l:               # 한줄씩 읽어 반복으로 반환 사용\n",
    "        print(l)\n",
    "    else:\n",
    "        break\n",
    "f.close()\n"
   ]
  },
  {
   "cell_type": "code",
   "execution_count": 16,
   "metadata": {},
   "outputs": [],
   "source": [
    "# 파일에 데이터 쓰기 2\n",
    "\n",
    "with open('data-files/test2.txt', 'wt', encoding=\"utf-8\") as f:  # with block 끝에서 자동으로 f.close()\n",
    "    f.write('파일에 쓰는 데이터 1\\n')\n",
    "    f.write('파일에 쓰는 데이터 2\\n')\n",
    "    f.write('파일에 쓰는 데이터 3\\n')\n",
    "    f.write('파일에 쓰는 데이터 4\\n')\n",
    "    f.write('파일에 쓰는 데이터 5\\n')\n"
   ]
  },
  {
   "cell_type": "code",
   "execution_count": null,
   "metadata": {},
   "outputs": [],
   "source": [
    "# 파일에 데이터 읽기 2\n",
    "\n",
    "with open('data-files/test2.txt', 'rt', encoding=\"utf-8\") as f2:\n",
    "    print(f2.read())"
   ]
  }
 ],
 "metadata": {
  "kernelspec": {
   "display_name": "python-env-311",
   "language": "python",
   "name": "python3"
  },
  "language_info": {
   "codemirror_mode": {
    "name": "ipython",
    "version": 3
   },
   "file_extension": ".py",
   "mimetype": "text/x-python",
   "name": "python",
   "nbconvert_exporter": "python",
   "pygments_lexer": "ipython3",
   "version": "3.11.11"
  }
 },
 "nbformat": 4,
 "nbformat_minor": 2
}
