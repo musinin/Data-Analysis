{
 "cells": [
  {
   "cell_type": "code",
   "execution_count": 1,
   "id": "6dd10d00",
   "metadata": {},
   "outputs": [
    {
     "name": "stdout",
     "output_type": "stream",
     "text": [
      "Collecting faiss-cpu\n",
      "  Downloading faiss_cpu-1.11.0-cp311-cp311-win_amd64.whl.metadata (5.0 kB)\n",
      "Collecting numpy<3.0,>=1.25.0 (from faiss-cpu)\n",
      "  Downloading numpy-2.2.5-cp311-cp311-win_amd64.whl.metadata (60 kB)\n",
      "Requirement already satisfied: packaging in d:\\apps\\minicond3\\envs\\python-env-311\\lib\\site-packages (from faiss-cpu) (25.0)\n",
      "Downloading faiss_cpu-1.11.0-cp311-cp311-win_amd64.whl (15.0 MB)\n",
      "   ---------------------------------------- 0.0/15.0 MB ? eta -:--:--\n",
      "   ----- ---------------------------------- 2.1/15.0 MB 9.8 MB/s eta 0:00:02\n",
      "   ----------- ---------------------------- 4.2/15.0 MB 9.7 MB/s eta 0:00:02\n",
      "   ----------------- ---------------------- 6.6/15.0 MB 10.3 MB/s eta 0:00:01\n",
      "   ----------------------- ---------------- 8.7/15.0 MB 10.1 MB/s eta 0:00:01\n",
      "   --------------------------- ------------ 10.5/15.0 MB 9.9 MB/s eta 0:00:01\n",
      "   ---------------------------------- ----- 12.8/15.0 MB 10.2 MB/s eta 0:00:01\n",
      "   ---------------------------------------  14.9/15.0 MB 10.3 MB/s eta 0:00:01\n",
      "   ---------------------------------------- 15.0/15.0 MB 9.4 MB/s eta 0:00:00\n",
      "Downloading numpy-2.2.5-cp311-cp311-win_amd64.whl (12.9 MB)\n",
      "   ---------------------------------------- 0.0/12.9 MB ? eta -:--:--\n",
      "   ------- -------------------------------- 2.4/12.9 MB 12.2 MB/s eta 0:00:01\n",
      "   ------------- -------------------------- 4.5/12.9 MB 11.7 MB/s eta 0:00:01\n",
      "   --------------------- ------------------ 7.1/12.9 MB 11.5 MB/s eta 0:00:01\n",
      "   ----------------------------- ---------- 9.4/12.9 MB 11.5 MB/s eta 0:00:01\n",
      "   ------------------------------------ --- 11.8/12.9 MB 11.5 MB/s eta 0:00:01\n",
      "   ---------------------------------------- 12.9/12.9 MB 10.7 MB/s eta 0:00:00\n",
      "Installing collected packages: numpy, faiss-cpu\n",
      "  Attempting uninstall: numpy\n",
      "    Found existing installation: numpy 1.24.4\n",
      "    Uninstalling numpy-1.24.4:\n",
      "      Successfully uninstalled numpy-1.24.4\n",
      "Successfully installed faiss-cpu-1.11.0 numpy-2.2.5\n"
     ]
    },
    {
     "name": "stderr",
     "output_type": "stream",
     "text": [
      "  WARNING: Failed to remove contents in a temporary directory 'D:\\apps\\minicond3\\envs\\python-env-311\\Lib\\site-packages\\~umpy'.\n",
      "  You can safely remove it manually.\n",
      "ERROR: pip's dependency resolver does not currently take into account all the packages that are installed. This behaviour is the source of the following dependency conflicts.\n",
      "gensim 4.3.3 requires numpy<2.0,>=1.18.5, but you have numpy 2.2.5 which is incompatible.\n",
      "streamlit 1.45.0 requires packaging<25,>=20, but you have packaging 25.0 which is incompatible.\n"
     ]
    },
    {
     "name": "stdout",
     "output_type": "stream",
     "text": [
      "Requirement already satisfied: sentence-transformers in d:\\apps\\minicond3\\envs\\python-env-311\\lib\\site-packages (4.1.0)\n",
      "Requirement already satisfied: transformers<5.0.0,>=4.41.0 in d:\\apps\\minicond3\\envs\\python-env-311\\lib\\site-packages (from sentence-transformers) (4.51.3)\n",
      "Requirement already satisfied: tqdm in d:\\apps\\minicond3\\envs\\python-env-311\\lib\\site-packages (from sentence-transformers) (4.67.1)\n",
      "Requirement already satisfied: torch>=1.11.0 in d:\\apps\\minicond3\\envs\\python-env-311\\lib\\site-packages (from sentence-transformers) (2.7.0)\n",
      "Requirement already satisfied: scikit-learn in d:\\apps\\minicond3\\envs\\python-env-311\\lib\\site-packages (from sentence-transformers) (1.6.1)\n",
      "Requirement already satisfied: scipy in d:\\apps\\minicond3\\envs\\python-env-311\\lib\\site-packages (from sentence-transformers) (1.13.1)\n",
      "Requirement already satisfied: huggingface-hub>=0.20.0 in d:\\apps\\minicond3\\envs\\python-env-311\\lib\\site-packages (from sentence-transformers) (0.31.1)\n",
      "Requirement already satisfied: Pillow in d:\\apps\\minicond3\\envs\\python-env-311\\lib\\site-packages (from sentence-transformers) (11.2.1)\n",
      "Requirement already satisfied: typing_extensions>=4.5.0 in d:\\apps\\minicond3\\envs\\python-env-311\\lib\\site-packages (from sentence-transformers) (4.13.2)\n",
      "Requirement already satisfied: filelock in d:\\apps\\minicond3\\envs\\python-env-311\\lib\\site-packages (from huggingface-hub>=0.20.0->sentence-transformers) (3.18.0)\n",
      "Requirement already satisfied: fsspec>=2023.5.0 in d:\\apps\\minicond3\\envs\\python-env-311\\lib\\site-packages (from huggingface-hub>=0.20.0->sentence-transformers) (2025.3.2)\n",
      "Requirement already satisfied: packaging>=20.9 in d:\\apps\\minicond3\\envs\\python-env-311\\lib\\site-packages (from huggingface-hub>=0.20.0->sentence-transformers) (25.0)\n",
      "Requirement already satisfied: pyyaml>=5.1 in d:\\apps\\minicond3\\envs\\python-env-311\\lib\\site-packages (from huggingface-hub>=0.20.0->sentence-transformers) (6.0.2)\n",
      "Requirement already satisfied: requests in d:\\apps\\minicond3\\envs\\python-env-311\\lib\\site-packages (from huggingface-hub>=0.20.0->sentence-transformers) (2.32.3)\n",
      "Requirement already satisfied: sympy>=1.13.3 in d:\\apps\\minicond3\\envs\\python-env-311\\lib\\site-packages (from torch>=1.11.0->sentence-transformers) (1.14.0)\n",
      "Requirement already satisfied: networkx in d:\\apps\\minicond3\\envs\\python-env-311\\lib\\site-packages (from torch>=1.11.0->sentence-transformers) (3.4.2)\n",
      "Requirement already satisfied: jinja2 in d:\\apps\\minicond3\\envs\\python-env-311\\lib\\site-packages (from torch>=1.11.0->sentence-transformers) (3.1.5)\n",
      "Requirement already satisfied: colorama in d:\\apps\\minicond3\\envs\\python-env-311\\lib\\site-packages (from tqdm->sentence-transformers) (0.4.6)\n",
      "Requirement already satisfied: numpy>=1.17 in d:\\apps\\minicond3\\envs\\python-env-311\\lib\\site-packages (from transformers<5.0.0,>=4.41.0->sentence-transformers) (2.2.5)\n",
      "Requirement already satisfied: regex!=2019.12.17 in d:\\apps\\minicond3\\envs\\python-env-311\\lib\\site-packages (from transformers<5.0.0,>=4.41.0->sentence-transformers) (2024.11.6)\n",
      "Requirement already satisfied: tokenizers<0.22,>=0.21 in d:\\apps\\minicond3\\envs\\python-env-311\\lib\\site-packages (from transformers<5.0.0,>=4.41.0->sentence-transformers) (0.21.1)\n",
      "Requirement already satisfied: safetensors>=0.4.3 in d:\\apps\\minicond3\\envs\\python-env-311\\lib\\site-packages (from transformers<5.0.0,>=4.41.0->sentence-transformers) (0.5.3)\n",
      "Requirement already satisfied: joblib>=1.2.0 in d:\\apps\\minicond3\\envs\\python-env-311\\lib\\site-packages (from scikit-learn->sentence-transformers) (1.4.2)\n",
      "Requirement already satisfied: threadpoolctl>=3.1.0 in d:\\apps\\minicond3\\envs\\python-env-311\\lib\\site-packages (from scikit-learn->sentence-transformers) (3.6.0)\n",
      "Requirement already satisfied: mpmath<1.4,>=1.1.0 in d:\\apps\\minicond3\\envs\\python-env-311\\lib\\site-packages (from sympy>=1.13.3->torch>=1.11.0->sentence-transformers) (1.3.0)\n",
      "Requirement already satisfied: MarkupSafe>=2.0 in d:\\apps\\minicond3\\envs\\python-env-311\\lib\\site-packages (from jinja2->torch>=1.11.0->sentence-transformers) (3.0.2)\n",
      "Requirement already satisfied: charset-normalizer<4,>=2 in d:\\apps\\minicond3\\envs\\python-env-311\\lib\\site-packages (from requests->huggingface-hub>=0.20.0->sentence-transformers) (3.4.1)\n",
      "Requirement already satisfied: idna<4,>=2.5 in d:\\apps\\minicond3\\envs\\python-env-311\\lib\\site-packages (from requests->huggingface-hub>=0.20.0->sentence-transformers) (3.10)\n",
      "Requirement already satisfied: urllib3<3,>=1.21.1 in d:\\apps\\minicond3\\envs\\python-env-311\\lib\\site-packages (from requests->huggingface-hub>=0.20.0->sentence-transformers) (2.4.0)\n",
      "Requirement already satisfied: certifi>=2017.4.17 in d:\\apps\\minicond3\\envs\\python-env-311\\lib\\site-packages (from requests->huggingface-hub>=0.20.0->sentence-transformers) (2025.4.26)\n"
     ]
    }
   ],
   "source": [
    "!pip install faiss-cpu\n",
    "!pip install -U sentence-transformers"
   ]
  },
  {
   "cell_type": "code",
   "execution_count": 2,
   "id": "6eee8ef1",
   "metadata": {},
   "outputs": [],
   "source": [
    "import numpy as np\n",
    "import os\n",
    "import pandas as pd\n",
    "import urllib.request\n",
    "import faiss\n",
    "import time\n",
    "from sentence_transformers import SentenceTransformer\n"
   ]
  },
  {
   "cell_type": "code",
   "execution_count": 3,
   "id": "02d50480",
   "metadata": {},
   "outputs": [],
   "source": [
    "urllib.request.urlretrieve(\"https://raw.githubusercontent.com/ukairia777/tensorflow-nlp-tutorial/main/19.%20Topic%20Modeling%20(LDA%2C%20BERT-Based)/dataset/abcnews-date-text.csv\", filename=\"abcnews-date-text.csv\")\n",
    "\n",
    "df = pd.read_csv(\"abcnews-date-text.csv\")\n",
    "data = df.headline_text.to_list()\n"
   ]
  },
  {
   "cell_type": "code",
   "execution_count": 4,
   "id": "bd625bb5",
   "metadata": {},
   "outputs": [
    {
     "data": {
      "text/plain": [
       "['aba decides against community broadcasting licence',\n",
       " 'act fire witnesses must be aware of defamation',\n",
       " 'a g calls for infrastructure protection summit',\n",
       " 'air nz staff in aust strike for pay rise',\n",
       " 'air nz strike to affect australian travellers']"
      ]
     },
     "execution_count": 4,
     "metadata": {},
     "output_type": "execute_result"
    }
   ],
   "source": [
    "# 상위 5개의 샘플 출력\n",
    "data[:5]\n"
   ]
  },
  {
   "cell_type": "code",
   "execution_count": 5,
   "id": "2df33215",
   "metadata": {},
   "outputs": [],
   "source": [
    "sample_data = data[:50000]"
   ]
  },
  {
   "cell_type": "code",
   "execution_count": 8,
   "id": "d5b3596c",
   "metadata": {},
   "outputs": [
    {
     "name": "stdout",
     "output_type": "stream",
     "text": [
      "임베딩 된 벡터 수 : 1082168\n"
     ]
    }
   ],
   "source": [
    "model = SentenceTransformer('distilbert-base-nli-mean-tokens')\n",
    "encoded_data = model.encode(data)\n",
    "print('임베딩 된 벡터 수 :', len(encoded_data))\n"
   ]
  },
  {
   "cell_type": "code",
   "execution_count": 9,
   "id": "6b6ec6f1",
   "metadata": {},
   "outputs": [
    {
     "data": {
      "text/plain": [
       "array([ 2.34322146e-01,  6.47809356e-02,  5.66731766e-03, -6.41409338e-01,\n",
       "       -8.33231807e-01, -4.70671564e-01,  6.38423026e-01,  3.07533801e-01,\n",
       "       -4.75608185e-02,  1.12707591e+00, -5.76588750e-01,  8.35552573e-01,\n",
       "       -1.91012323e-01,  1.32028624e-01, -1.64615765e-01,  7.57894874e-01,\n",
       "       -7.95390844e-01, -1.35660782e-01, -2.17980444e-01, -7.71341920e-01,\n",
       "       -2.55783707e-01,  3.68490100e-01,  5.84458590e-01,  1.26727033e+00,\n",
       "       -4.01900172e-01,  7.27741838e-01,  1.22834504e+00,  2.10323520e-02,\n",
       "       -4.19087440e-01, -1.76390320e-01,  5.22855520e-01,  7.29816556e-01,\n",
       "        1.60852581e-01, -1.66725963e-01,  6.06119812e-01, -6.20593369e-01,\n",
       "        1.24506974e+00, -4.85746622e-01, -1.09488308e-01,  2.76897997e-01,\n",
       "       -1.80745006e-01,  2.97808737e-01, -3.38694930e-01,  7.76368007e-02,\n",
       "       -5.82226276e-01,  4.28490967e-01, -5.10707259e-01, -4.82756831e-02,\n",
       "       -1.60961699e+00, -8.42346966e-01, -1.05387115e+00,  1.62615985e-01,\n",
       "        1.51811290e+00, -1.96300343e-01, -7.64196992e-01, -9.08676922e-01,\n",
       "       -9.18600082e-01, -2.53535867e-01, -3.54615860e-02,  7.50775337e-01,\n",
       "        7.45180726e-01,  2.91433334e-01, -7.39326775e-01, -8.37345123e-01,\n",
       "       -7.61462808e-01, -3.07459414e-01,  7.55321324e-01,  4.40351337e-01,\n",
       "       -4.15237159e-01, -8.44913125e-01,  1.01851737e+00, -2.97094345e-01,\n",
       "       -9.30903375e-01, -6.70961797e-01,  8.13360333e-01, -4.60738063e-01,\n",
       "        4.29133892e-01,  9.29011554e-02,  5.11616841e-03, -3.65598410e-01,\n",
       "        5.85735023e-01, -1.28939256e-01, -1.02012980e+00,  2.64661193e-01,\n",
       "       -1.92091182e-01, -8.30269396e-01, -6.75184056e-02, -6.48359895e-01,\n",
       "       -5.14915824e-01,  9.82661605e-01,  7.23516226e-01, -6.86405838e-01,\n",
       "        8.05173755e-01,  4.59914058e-02, -7.51795471e-01, -8.33278537e-01,\n",
       "        1.84254497e-01,  2.74891317e-01, -4.23325986e-01,  4.12808895e-01,\n",
       "        1.50713205e-01, -6.37778163e-01,  1.88470304e-01,  7.26716161e-01,\n",
       "       -3.33272845e-01, -1.46230683e-01,  7.66823053e-01, -1.26218170e-01,\n",
       "       -2.58452833e-01,  1.81075826e-01,  1.88685477e-01, -2.36014053e-01,\n",
       "        9.75067139e-01, -2.93006927e-01, -4.32261944e-01, -1.11171341e+00,\n",
       "       -9.17730331e-02, -1.02923584e+00, -6.00804448e-01,  1.08276355e+00,\n",
       "        1.06677376e-01,  9.77520943e-01, -2.95567662e-02, -4.85386908e-01,\n",
       "        1.57870263e-01, -3.78834695e-01,  8.12401056e-01, -2.33061209e-01,\n",
       "       -2.95046926e-01, -4.72278118e-01,  3.37217629e-01,  3.52333248e-01,\n",
       "        2.10606232e-01,  1.53053720e-02, -9.54816461e-01, -2.76984304e-01,\n",
       "        1.00761688e+00,  2.60370195e-01, -7.23696172e-01, -2.26288691e-01,\n",
       "       -2.05499277e-01,  5.34994185e-01, -2.03921497e-01,  3.29959542e-02,\n",
       "       -1.86650530e-01, -3.79717320e-01, -4.52534229e-01,  1.12886560e+00,\n",
       "        1.07641530e+00, -5.17360568e-01, -1.59046102e+00,  6.67323709e-01,\n",
       "       -4.48117495e-01, -3.98589671e-01, -3.29690605e-01, -2.37415016e-01,\n",
       "        8.89453411e-01, -8.72326672e-01, -1.60874084e-01,  2.76984662e-01,\n",
       "        6.33751988e-01, -1.05392790e+00, -5.57785273e-01,  1.48723221e+00,\n",
       "        7.63467193e-01, -5.42701781e-01, -3.57273668e-01,  5.58689982e-02,\n",
       "        7.74659291e-02,  4.64413524e-01,  6.29536361e-02, -9.51767385e-01,\n",
       "        1.15023160e+00, -6.44082189e-01, -4.74417895e-01,  4.40359443e-01,\n",
       "        1.96001127e-01,  1.35479003e-01, -6.95984602e-01,  8.45494121e-02,\n",
       "       -1.06418028e-01, -3.37193608e-01, -1.05277598e-01,  5.37702560e-01,\n",
       "        8.31893682e-02, -1.78146213e-02, -2.98594058e-01, -6.73414886e-01,\n",
       "        1.00730598e+00,  4.73927319e-01, -6.24699295e-02, -4.58166718e-01,\n",
       "        4.61163104e-01,  2.08681047e-01, -7.66245052e-02, -1.94165438e-01,\n",
       "       -2.18463629e-01, -7.97085345e-01,  1.68021351e-01, -4.32373255e-01,\n",
       "        2.44164154e-01, -1.28609285e-01,  1.04309058e+00,  3.00191104e-01,\n",
       "        1.98452950e-01, -1.72257334e-01,  3.12444150e-01, -3.01099848e-03,\n",
       "        5.30005872e-01,  2.68302798e-01,  5.31608343e-01,  4.90284503e-01,\n",
       "       -3.90572459e-01, -4.81372535e-01,  4.73830342e-01,  3.78105432e-01,\n",
       "        1.31572032e+00, -5.31985998e-01, -3.12559605e-01,  5.83539248e-01,\n",
       "       -4.77529138e-01, -6.46870494e-01, -4.12288308e-01,  3.33513856e-01,\n",
       "       -5.94209433e-01, -4.43480998e-01,  1.35212183e-01,  5.34508348e-01,\n",
       "       -1.49958923e-01,  3.41752589e-01,  1.82063013e-01,  6.50533676e-01,\n",
       "       -1.64330125e-01,  3.09751555e-02, -2.04325214e-01,  8.89188170e-01,\n",
       "       -1.46849468e-01, -5.68388030e-02, -1.85372978e-01, -1.03177011e+00,\n",
       "        5.52161217e-01,  4.44382489e-01,  1.04095027e-01, -1.89467937e-01,\n",
       "        8.30777824e-01,  2.33809710e-01,  7.53144085e-01, -1.77990705e-01,\n",
       "        7.51197994e-01,  1.02238154e+00,  9.74098966e-03, -1.39357352e+00,\n",
       "        1.40683264e-01,  7.86300004e-02,  1.13739789e-01,  2.54144490e-01,\n",
       "       -4.77916420e-01,  3.59680384e-01,  5.45307696e-01, -1.50196624e+00,\n",
       "       -1.72253206e-01, -3.01099002e-01,  7.62728095e-01,  4.12873663e-02,\n",
       "       -3.84752378e-02, -6.55275345e-01, -3.90113145e-01,  4.17171746e-01,\n",
       "        1.12687074e-01,  5.79263806e-01,  1.30270906e-02,  2.45930061e-01,\n",
       "        1.61083594e-01,  1.00395679e+00, -7.50274777e-01, -3.96172136e-01,\n",
       "        6.20526135e-01, -3.75659198e-01, -4.25466985e-01,  5.61661601e-01,\n",
       "       -4.09515411e-01, -1.11379385e+00, -3.15273762e-01, -2.00894065e-02,\n",
       "       -4.48886514e-01,  3.02043799e-02,  4.45812166e-01, -5.28514147e-01,\n",
       "       -7.15824604e-01, -1.99095294e-01, -5.06413937e-01,  8.83407593e-01,\n",
       "       -6.28546774e-01,  7.42293179e-01,  4.34808046e-01,  7.72471011e-01,\n",
       "       -1.38577685e-01, -2.49539942e-01, -1.76617712e-01,  3.33707273e-01,\n",
       "        1.02681406e-01, -2.92001575e-01, -6.46598458e-01,  1.56335986e+00,\n",
       "       -4.26677644e-01,  5.43685019e-01,  1.17496073e-01, -1.29523456e-01,\n",
       "       -1.33078262e-01, -1.82281852e-01, -5.65890670e-01, -4.05943573e-01,\n",
       "        5.61541915e-01,  9.95505750e-02,  5.40446579e-01,  8.44070613e-01,\n",
       "        3.87975335e-01,  7.20104635e-01, -8.49155784e-02, -1.51500612e-01,\n",
       "       -1.56975329e-01,  3.16399932e-01,  7.97749609e-02,  5.77616632e-01,\n",
       "       -1.39421141e+00,  2.13216186e-01, -8.00649643e-01,  1.32309806e+00,\n",
       "        7.23754391e-02, -7.68655002e-01,  8.83074164e-01, -1.52107656e-01,\n",
       "        9.86182988e-02,  4.22530591e-01,  1.48024306e-01,  1.23309267e+00,\n",
       "       -3.10536474e-01, -4.15471494e-01, -6.36197090e-01,  7.19053030e-01,\n",
       "        1.60645992e-02,  2.72618502e-01, -1.88620798e-02,  5.92600346e-01,\n",
       "        1.00473717e-01,  6.41024292e-01,  2.16306835e-01,  1.52048692e-01,\n",
       "       -6.48895875e-02,  5.98547757e-02, -2.61041075e-01,  1.74541938e+00,\n",
       "        3.26980561e-01, -9.33884561e-01,  4.39919770e-01,  2.99402773e-02,\n",
       "       -5.05145252e-01, -2.41019100e-01,  4.54118460e-01,  1.11885941e+00,\n",
       "       -1.31615841e+00,  8.58691096e-01,  9.01037335e-01, -2.44212486e-02,\n",
       "       -9.19434190e-01,  7.26293474e-02, -9.64428723e-01, -3.98431152e-01,\n",
       "        6.47014499e-01,  4.78963196e-01,  3.20843846e-01,  5.06078482e-01,\n",
       "       -5.96671999e-01, -4.25450265e-01, -3.13834548e-01,  2.78553516e-01,\n",
       "       -2.95002580e-01, -5.28129302e-02, -8.01148653e-01, -3.82516742e-01,\n",
       "        7.63950229e-01, -5.22108853e-01,  1.41264424e-01, -6.49201930e-01,\n",
       "       -3.23989540e-01,  1.08807421e+00,  4.60593626e-02, -3.27425480e-01,\n",
       "       -7.23919496e-02,  6.68328941e-01, -1.92018449e-01,  3.02394897e-01,\n",
       "       -5.73492765e-01, -7.53218710e-01, -3.75213981e-01, -1.74511999e-01,\n",
       "       -2.47763649e-01,  6.81501448e-01,  4.80128765e-01, -5.34580983e-02,\n",
       "       -7.93393075e-01,  5.90250313e-01,  1.10696271e-01, -1.21814287e+00,\n",
       "        5.81149697e-01, -7.16931760e-01,  7.64327526e-01,  1.25563681e+00,\n",
       "        6.99057400e-01, -7.73944139e-01, -5.99128544e-01, -9.23641443e-01,\n",
       "       -5.17505109e-01,  1.63719192e-01, -8.93067598e-01,  1.46115273e-01,\n",
       "       -4.76989716e-01,  4.49509501e-01, -1.16672710e-01, -3.44969034e-01,\n",
       "       -4.63493407e-01,  9.05895531e-01, -5.75173914e-01, -8.83092433e-02,\n",
       "       -8.57510388e-01,  3.66840899e-01, -2.10930258e-01, -8.85849774e-01,\n",
       "        5.82199335e-01,  4.23656702e-01, -1.24682045e+00, -1.09028172e+00,\n",
       "       -6.77137852e-01, -7.14884624e-02, -1.12493145e+00, -4.98831391e-01,\n",
       "       -3.92060637e-01, -6.25046968e-01, -9.55241919e-01, -7.95311630e-01,\n",
       "        9.90038365e-03, -9.65224728e-02, -2.31969714e-01, -1.04546770e-01,\n",
       "       -1.90184951e-01,  9.73035276e-01,  1.04073334e+00,  1.72529697e-01,\n",
       "       -1.95363551e-01,  6.90171421e-02,  4.40533161e-01,  8.58038589e-02,\n",
       "       -6.41680002e-01,  2.71968603e-01,  5.63390255e-01, -8.17835853e-02,\n",
       "       -3.59168142e-01,  1.22294009e-01,  1.41639069e-01,  4.92024451e-01,\n",
       "       -3.76710117e-01, -4.48383927e-01, -1.76600233e-01,  2.85787821e-01,\n",
       "        1.81492090e-01,  1.10775208e+00,  1.17070842e+00, -1.06742084e+00,\n",
       "        3.76945317e-01,  2.70382226e-01, -4.68751550e-01, -9.83092263e-02,\n",
       "        5.41019291e-02,  6.54499531e-01, -1.38999462e-01, -3.49925190e-01,\n",
       "       -8.79472196e-01, -1.00046468e+00, -4.53797847e-01, -1.50437817e-01,\n",
       "       -3.96591246e-01, -8.10793862e-02, -3.89826745e-01, -4.17762160e-01,\n",
       "        1.38774425e-01, -1.30588830e+00,  1.36066929e-01,  1.09161414e-01,\n",
       "        5.84925652e-01,  6.88381553e-01, -4.35967222e-02,  5.71009696e-01,\n",
       "        7.42057085e-01, -1.48966610e-01,  1.40107274e-01,  4.43679601e-01,\n",
       "        2.24532589e-01,  4.54167783e-01, -3.87071408e-02,  3.20884958e-02,\n",
       "        5.16222715e-01,  4.93122846e-01, -4.51547265e-01,  7.05432177e-01,\n",
       "        7.88107216e-01, -2.43389785e-01, -3.47575665e-01,  5.20092487e-01,\n",
       "        2.39030644e-02,  1.35932282e-01,  2.39721090e-01,  3.70078295e-01,\n",
       "       -8.12516928e-01,  4.73357171e-01,  8.83911014e-01, -4.30836350e-01,\n",
       "        5.16258597e-01, -7.43588269e-01, -3.83696526e-01, -2.90700287e-01,\n",
       "       -6.14744782e-01,  1.06000125e-01, -5.48297048e-01, -6.89804256e-02,\n",
       "       -3.14929307e-01,  6.14705384e-01,  8.41662288e-02,  1.83183886e-03,\n",
       "        1.00287180e-02,  2.72766680e-01, -2.03655474e-02,  1.00690556e+00,\n",
       "       -6.85986519e-01,  1.84232485e+00, -5.63083708e-01,  6.73597813e-01,\n",
       "       -4.83710021e-01, -5.33267617e-01,  7.86667824e-01,  4.94829774e-01,\n",
       "       -4.68316525e-01,  2.34417260e-01,  1.75058913e+00,  4.64970529e-01,\n",
       "       -1.19344723e+00, -3.84930789e-01, -5.31609237e-01, -8.13580751e-01,\n",
       "        7.34947100e-02,  4.33476955e-01, -1.84436649e-01, -6.04963422e-01,\n",
       "        5.12165487e-01,  1.22754073e+00,  3.51914853e-01, -2.61374980e-01,\n",
       "       -1.15457988e+00, -2.47608349e-01,  7.59091377e-01,  6.01117253e-01,\n",
       "       -6.13382220e-01, -3.63478959e-01, -6.30753577e-01, -9.65643406e-01,\n",
       "        5.82401276e-01,  2.38349959e-01, -3.87271553e-01,  1.78626955e-01,\n",
       "       -2.73787349e-01,  1.46393335e+00,  8.53393734e-01, -8.57514977e-01,\n",
       "       -6.05991066e-01,  4.48826551e-01,  1.30869418e-01, -4.43309635e-01,\n",
       "       -8.84765208e-01, -1.18351087e-01,  1.25517535e+00, -4.24884170e-01,\n",
       "        3.44908595e-01,  1.23655081e+00, -6.79086387e-01, -5.99852502e-01,\n",
       "        5.38968444e-01, -1.14111967e-01, -1.86042666e-01, -7.58123696e-01,\n",
       "       -1.60210468e-02,  2.61384815e-01, -8.78080070e-01, -1.19822240e+00,\n",
       "        7.96731532e-01, -2.95110285e-01, -3.40333819e-01, -1.67851865e-01,\n",
       "        7.43291855e-01, -5.46202995e-02,  8.11959505e-02, -3.49225909e-01,\n",
       "        3.09069306e-01,  9.39895064e-02, -4.57340807e-01,  1.83314979e+00,\n",
       "       -5.82805693e-01, -2.88912743e-01,  3.13796610e-01, -8.57134223e-01,\n",
       "       -6.91715360e-01,  1.53650075e-01,  2.65291363e-01,  1.32383227e-01,\n",
       "       -1.15172550e-01, -2.85874188e-01, -4.51172262e-01,  5.33207178e-01,\n",
       "        4.01959330e-01,  3.51050377e-01, -8.42644796e-02,  2.66202949e-02,\n",
       "        5.52536488e-01, -1.11685090e-01, -5.77834070e-01,  2.28158996e-01,\n",
       "        5.30501127e-01,  8.17906260e-01, -5.89986026e-01,  1.47872135e-01,\n",
       "       -5.63626476e-02, -9.07123759e-02,  2.50103861e-01, -1.08145392e+00,\n",
       "        5.16076326e-01,  1.80057168e-01, -2.53479153e-01,  2.11584345e-01,\n",
       "       -4.57592636e-01, -4.97836143e-01, -4.15127248e-01, -6.82274103e-01,\n",
       "        2.93002665e-01, -6.12528205e-01, -8.93886626e-01,  2.72391647e-01,\n",
       "        1.50849074e-01, -3.44701231e-01, -5.73501229e-01, -1.16978005e-01,\n",
       "       -7.85862327e-01,  1.19372773e+00, -2.52694070e-01, -5.70975721e-01,\n",
       "        9.74149048e-01,  1.01246881e+00, -5.57412148e-01,  1.36332178e+00,\n",
       "       -5.17366350e-01,  2.98719108e-01,  6.43864393e-01,  4.42282587e-01,\n",
       "       -6.90158546e-01, -1.40476257e-01,  6.16976380e-01,  1.92474917e-01,\n",
       "        5.79070807e-01, -5.66487074e-01,  7.78785706e-01,  9.05714035e-01,\n",
       "        2.26593748e-01, -1.03668153e+00,  2.52030820e-01,  6.34348616e-02,\n",
       "        3.76943462e-02, -6.51700795e-01, -8.42970833e-02,  3.80282432e-01,\n",
       "       -2.78241513e-03,  6.17126465e-01,  7.72383332e-01, -3.14400345e-01,\n",
       "        6.00161195e-01,  3.11009258e-01,  3.72423619e-01,  6.81415439e-01,\n",
       "       -5.95210671e-01, -1.16817676e-01, -5.42884111e-01,  1.18958855e+00,\n",
       "       -3.00123155e-01,  3.40799913e-02, -8.16899538e-02, -6.72522843e-01,\n",
       "       -6.05696380e-01, -1.63811326e-01, -6.91337466e-01, -4.68644291e-01,\n",
       "       -1.46574342e+00, -1.17784262e+00, -9.41044450e-01,  4.80317682e-01,\n",
       "       -1.41807353e+00, -8.85192335e-01, -1.03577757e+00, -4.66746688e-01,\n",
       "       -2.28052437e-01, -1.35451406e-01,  1.76200420e-01,  4.53044683e-01,\n",
       "       -4.03529704e-01, -9.94194508e-01,  6.25528574e-01, -3.63965362e-01,\n",
       "        1.97342277e-01,  6.51736736e-01,  1.43534448e-02,  3.80430073e-01,\n",
       "       -9.10295486e-01, -1.32188058e+00,  2.55646445e-02, -6.79373920e-01,\n",
       "       -3.20079774e-02, -1.12303460e+00, -1.99729018e-02, -9.36720610e-01,\n",
       "        3.21947783e-01, -4.35206920e-01, -6.35727882e-01,  2.76538074e-01,\n",
       "       -8.39420855e-02,  3.77483480e-03, -4.81536299e-01,  1.70805052e-01,\n",
       "       -5.34532011e-01,  2.28829384e-01,  2.23862380e-01,  6.06542706e-01,\n",
       "        8.87118280e-01,  4.18509662e-01, -3.63491595e-01, -1.09164023e+00,\n",
       "       -5.83893836e-01, -2.82173008e-01, -2.39418596e-01, -7.54703641e-01,\n",
       "       -5.85516274e-01,  5.76533675e-01,  5.42411283e-02,  1.93747506e-01,\n",
       "       -1.04999590e+00,  1.14250273e-01,  1.14835811e+00, -3.25733423e-02,\n",
       "       -1.62845328e-02, -7.35329270e-01, -4.92495328e-01,  9.20048915e-03,\n",
       "       -2.25649446e-01, -1.57168005e-02, -2.73546338e-01,  8.57327580e-01,\n",
       "        4.32608396e-01,  9.58120823e-01,  2.13224351e-01, -7.52776861e-01,\n",
       "       -5.46763718e-01,  8.60337242e-02,  3.42038780e-01, -8.49620461e-01],\n",
       "      dtype=float32)"
      ]
     },
     "execution_count": 9,
     "metadata": {},
     "output_type": "execute_result"
    }
   ],
   "source": [
    "encoded_data[0]"
   ]
  },
  {
   "cell_type": "code",
   "execution_count": 11,
   "id": "2e39ef7a",
   "metadata": {},
   "outputs": [],
   "source": [
    "index = faiss.IndexIDMap(faiss.IndexFlatIP(768))\n",
    "index.add_with_ids(encoded_data, np.array(range(0, len(data))))\n",
    "\n",
    "faiss.write_index(index, 'abc_news')\n"
   ]
  },
  {
   "cell_type": "code",
   "execution_count": 12,
   "id": "a150ab1c",
   "metadata": {},
   "outputs": [],
   "source": [
    "def search(query):\n",
    "   t = time.time()\n",
    "   query_vector = model.encode([query])\n",
    "   k = 5\n",
    "   top_k = index.search(query_vector, k)\n",
    "   print('total time: {}'.format(time.time() - t))\n",
    "   return [data[_id] for _id in top_k[1].tolist()[0]]\n"
   ]
  },
  {
   "cell_type": "code",
   "execution_count": null,
   "id": "d7580a1a",
   "metadata": {},
   "outputs": [
    {
     "name": "stdout",
     "output_type": "stream",
     "text": [
      "total time: 0.7157418727874756\n",
      "results :\n",
      "\t underwater loop\n",
      "\t thriving underwater antarctic garden discovered\n",
      "\t baton goes underwater in wa\n",
      "\t underwater footage shows inside doomed costa\n",
      "\t underwater uluru found off wa coast\n"
     ]
    }
   ],
   "source": [
    "# Underwater Forest Discovered\n",
    "query = str(input())\n",
    "results = search(query)\n",
    "\n",
    "print('results :')\n",
    "for result in results:\n",
    "   print('\\t', result)\n"
   ]
  }
 ],
 "metadata": {
  "kernelspec": {
   "display_name": "python-env-311",
   "language": "python",
   "name": "python3"
  },
  "language_info": {
   "codemirror_mode": {
    "name": "ipython",
    "version": 3
   },
   "file_extension": ".py",
   "mimetype": "text/x-python",
   "name": "python",
   "nbconvert_exporter": "python",
   "pygments_lexer": "ipython3",
   "version": "3.11.11"
  }
 },
 "nbformat": 4,
 "nbformat_minor": 5
}
