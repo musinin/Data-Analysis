{
 "cells": [
  {
   "cell_type": "code",
   "execution_count": 4,
   "metadata": {
    "trusted": true
   },
   "outputs": [],
   "source": [
    "# pip install -q langchain langchain-community langchain_huggingface chromadb"
   ]
  },
  {
   "cell_type": "code",
   "execution_count": 5,
   "metadata": {
    "collapsed": true,
    "execution": {
     "iopub.execute_input": "2025-05-12T05:21:59.559479Z",
     "iopub.status.busy": "2025-05-12T05:21:59.559044Z",
     "iopub.status.idle": "2025-05-12T05:22:12.636872Z",
     "shell.execute_reply": "2025-05-12T05:22:12.635415Z",
     "shell.execute_reply.started": "2025-05-12T05:21:59.559428Z"
    },
    "jupyter": {
     "outputs_hidden": true
    },
    "trusted": true
   },
   "outputs": [],
   "source": [
    "# !pip install langchain langchain-community langchain_huggingface huggingface_hub chromadb --upgrade"
   ]
  },
  {
   "cell_type": "markdown",
   "metadata": {},
   "source": [
    "# 1. Use langchain"
   ]
  },
  {
   "cell_type": "code",
   "execution_count": 6,
   "metadata": {
    "execution": {
     "iopub.execute_input": "2025-05-12T05:22:19.141336Z",
     "iopub.status.busy": "2025-05-12T05:22:19.140912Z",
     "iopub.status.idle": "2025-05-12T05:22:20.414207Z",
     "shell.execute_reply": "2025-05-12T05:22:20.412868Z",
     "shell.execute_reply.started": "2025-05-12T05:22:19.141295Z"
    },
    "trusted": true
   },
   "outputs": [],
   "source": [
    "import os\n",
    "from langchain_text_splitters import RecursiveCharacterTextSplitter\n",
    "from langchain_community.vectorstores import Chroma\n",
    "from langchain.chains import RetrievalQA\n",
    "from langchain.prompts import PromptTemplate"
   ]
  },
  {
   "cell_type": "code",
   "execution_count": null,
   "metadata": {
    "execution": {
     "iopub.execute_input": "2025-05-12T05:22:20.416981Z",
     "iopub.status.busy": "2025-05-12T05:22:20.416432Z",
     "iopub.status.idle": "2025-05-12T05:22:20.422851Z",
     "shell.execute_reply": "2025-05-12T05:22:20.421483Z",
     "shell.execute_reply.started": "2025-05-12T05:22:20.416939Z"
    },
    "trusted": true
   },
   "outputs": [],
   "source": [
    "os.environ[\"HUGGINGFACEHUB_API_TOKEN\"] = \"Your-API-Key\""
   ]
  },
  {
   "cell_type": "code",
   "execution_count": 8,
   "metadata": {
    "trusted": true
   },
   "outputs": [],
   "source": [
    "# os.environ.get(\"HUGGINGFACEHUB_API_TOKEN\")"
   ]
  },
  {
   "cell_type": "code",
   "execution_count": 9,
   "metadata": {
    "execution": {
     "iopub.execute_input": "2025-05-12T05:44:38.429800Z",
     "iopub.status.busy": "2025-05-12T05:44:38.429310Z",
     "iopub.status.idle": "2025-05-12T05:44:40.529144Z",
     "shell.execute_reply": "2025-05-12T05:44:40.527870Z",
     "shell.execute_reply.started": "2025-05-12T05:44:38.429757Z"
    },
    "trusted": true
   },
   "outputs": [
    {
     "name": "stderr",
     "output_type": "stream",
     "text": [
      "C:\\Users\\human\\AppData\\Local\\Temp\\ipykernel_4456\\3535075103.py:9: LangChainDeprecationWarning: The class `HuggingFaceEmbeddings` was deprecated in LangChain 0.2.2 and will be removed in 1.0. An updated version of the class exists in the :class:`~langchain-huggingface package and should be used instead. To use it run `pip install -U :class:`~langchain-huggingface` and import as `from :class:`~langchain_huggingface import HuggingFaceEmbeddings``.\n",
      "  hf_embeddings = HuggingFaceEmbeddings(model_name=\"jhgan/ko-sroberta-multitask\")\n",
      "Device set to use cpu\n",
      "C:\\Users\\human\\AppData\\Local\\Temp\\ipykernel_4456\\3535075103.py:21: LangChainDeprecationWarning: The class `HuggingFacePipeline` was deprecated in LangChain 0.0.37 and will be removed in 1.0. An updated version of the class exists in the :class:`~langchain-huggingface package and should be used instead. To use it run `pip install -U :class:`~langchain-huggingface` and import as `from :class:`~langchain_huggingface import HuggingFacePipeline``.\n",
      "  hf_llm = HuggingFacePipeline(pipeline=pipe)\n"
     ]
    }
   ],
   "source": [
    "from langchain.embeddings import HuggingFaceEmbeddings\n",
    "from langchain.llms import HuggingFaceHub\n",
    "\n",
    "from transformers import pipeline\n",
    "from langchain.llms import HuggingFacePipeline\n",
    "\n",
    "# 1. embeddings 모델 \n",
    "# set Korean embedding and llm odel\n",
    "hf_embeddings = HuggingFaceEmbeddings(model_name=\"jhgan/ko-sroberta-multitask\")\n",
    "\n",
    "# hf_llm = HuggingFaceHub(\n",
    "#     repo_id=\"skt/kogpt2-base-v2\",\n",
    "#     model_kwargs={\"task\": \"text-generation\"} ## question-answering tasK X. text-generation\n",
    "# )\n",
    "\n",
    "# 2. LLM 모델 \n",
    "# pipeline 생성 (gpt2 또는 한국어 모델로 교체 가능)\n",
    "pipe = pipeline(\"text-generation\", model=\"skt/kogpt2-base-v2\", max_new_tokens=64) # 128\n",
    "\n",
    "# LangChain에서 호환되는 HuggingFacePipeline로 감싸기\n",
    "hf_llm = HuggingFacePipeline(pipeline=pipe)"
   ]
  },
  {
   "cell_type": "markdown",
   "metadata": {},
   "source": [
    "## Crawl Wiki data"
   ]
  },
  {
   "cell_type": "code",
   "execution_count": 10,
   "metadata": {
    "execution": {
     "iopub.execute_input": "2025-05-12T05:28:22.018137Z",
     "iopub.status.busy": "2025-05-12T05:28:22.017693Z",
     "iopub.status.idle": "2025-05-12T05:28:22.027210Z",
     "shell.execute_reply": "2025-05-12T05:28:22.025965Z",
     "shell.execute_reply.started": "2025-05-12T05:28:22.018093Z"
    },
    "trusted": true
   },
   "outputs": [],
   "source": [
    "import requests\n",
    "from langchain.schema import Document\n",
    "from bs4 import BeautifulSoup\n",
    "\n",
    "# for Wikipedia documents (EN, KO)\n",
    "\n",
    "# from langchain_community.document_loaders import WikipediaLoader\n",
    "\n",
    "# By default, English documents (https://en.wikipedia.org))\n",
    "# def load_Wiki_docs(query):\n",
    "#     loader = WikipediaLoader(query=query, load_max_docs=1) # need !pip install wikipedia\n",
    "#     documents = loader.load()\n",
    "    \n",
    "#     text_splitter = RecursiveCharacterTextSplitter(\n",
    "#         chunk_size=1000,\n",
    "#         chunk_overlap=200\n",
    "#     )\n",
    "#     splits = text_splitter.split_documents(documents)\n",
    "    \n",
    "#     return splits\n",
    "\n",
    "\n",
    "# For Korean query, get results from Korean wikipedia website and crawl and parse results\n",
    "def load_Korean_wiki_docs(흑백요리사):\n",
    "    url = f\"https://ko.wikipedia.org/wiki/{topic}\"\n",
    "    \n",
    "    response = requests.get(url)\n",
    "    response.raise_for_status()  # raise Exception when error occurs\n",
    "\n",
    "    # HTML parsing and extract body contents\n",
    "    soup = BeautifulSoup(response.text, 'html.parser')\n",
    "    content = soup.find('div', {'class': 'mw-parser-output'})  # find div including body contents \n",
    "    \n",
    "    # Extract contents\n",
    "    paragraphs = content.find_all('p')\n",
    "    text = \"\\n\".join([p.get_text() for p in paragraphs])  # concat all context in <p> tags \n",
    " \n",
    "    # convert to Document object (required for LangChain)\n",
    "    documents = [Document(page_content=text, metadata={\"source\": url})]\n",
    "    \n",
    "    text_splitter = RecursiveCharacterTextSplitter(\n",
    "        chunk_size=50, # 1000\n",
    "        chunk_overlap=10 # 20\n",
    "    )\n",
    "    splits = text_splitter.split_documents(documents)\n",
    "    \n",
    "    return splits"
   ]
  },
  {
   "cell_type": "markdown",
   "metadata": {},
   "source": [
    "## Create vector DB"
   ]
  },
  {
   "cell_type": "code",
   "execution_count": 11,
   "metadata": {
    "execution": {
     "iopub.execute_input": "2025-05-12T05:28:23.361279Z",
     "iopub.status.busy": "2025-05-12T05:28:23.360871Z",
     "iopub.status.idle": "2025-05-12T05:28:23.367680Z",
     "shell.execute_reply": "2025-05-12T05:28:23.366367Z",
     "shell.execute_reply.started": "2025-05-12T05:28:23.361241Z"
    },
    "trusted": true
   },
   "outputs": [],
   "source": [
    "def create_vectorstore(splits): \n",
    "    vectorstore = Chroma.from_documents(documents=splits, embedding=hf_embeddings)\n",
    "    return vectorstore"
   ]
  },
  {
   "cell_type": "code",
   "execution_count": 12,
   "metadata": {
    "execution": {
     "iopub.execute_input": "2025-05-12T05:28:23.715282Z",
     "iopub.status.busy": "2025-05-12T05:28:23.714896Z",
     "iopub.status.idle": "2025-05-12T05:28:24.492593Z",
     "shell.execute_reply": "2025-05-12T05:28:24.489349Z",
     "shell.execute_reply.started": "2025-05-12T05:28:23.715250Z"
    },
    "trusted": true
   },
   "outputs": [],
   "source": [
    "topic = \"흑백요리사\"\n",
    "# Load wikipedia documents for this topic\n",
    "splits = load_Korean_wiki_docs(topic) \n",
    "# Create vectorstore with this fetched docs\n",
    "vectorstore = create_vectorstore(splits)"
   ]
  },
  {
   "cell_type": "code",
   "execution_count": 13,
   "metadata": {
    "execution": {
     "iopub.execute_input": "2025-05-12T05:28:25.420200Z",
     "iopub.status.busy": "2025-05-12T05:28:25.419784Z",
     "iopub.status.idle": "2025-05-12T05:28:25.429223Z",
     "shell.execute_reply": "2025-05-12T05:28:25.427732Z",
     "shell.execute_reply.started": "2025-05-12T05:28:25.420162Z"
    },
    "trusted": true
   },
   "outputs": [
    {
     "data": {
      "text/plain": [
       "[Document(metadata={'source': 'https://ko.wikipedia.org/wiki/흑백요리사'}, page_content='《흑백요리사: 요리 계급 전쟁》(영어: Culinary Class Wars)은 넷플릭스의'),\n",
       " Document(metadata={'source': 'https://ko.wikipedia.org/wiki/흑백요리사'}, page_content='넷플릭스의 요리 서바이벌 프로그램이다. 방송 직후 세계 여러 나라에서 시청률 1위를'),\n",
       " Document(metadata={'source': 'https://ko.wikipedia.org/wiki/흑백요리사'}, page_content='시청률 1위를 기록했고, 대만인들의 한국 관광 열풍과 한국 음식에 대한 사랑을'),\n",
       " Document(metadata={'source': 'https://ko.wikipedia.org/wiki/흑백요리사'}, page_content='대한 사랑을 불러일으켰다. 유명 레스토랑 셰프 등 100인의 요리사가 출연한다.'),\n",
       " Document(metadata={'source': 'https://ko.wikipedia.org/wiki/흑백요리사'}, page_content='출연한다. 심사위원은 백종원과 안성재가 맡았다. 가제는 《무명요리사》였다.[1]')]"
      ]
     },
     "execution_count": 13,
     "metadata": {},
     "output_type": "execute_result"
    }
   ],
   "source": [
    "splits"
   ]
  },
  {
   "cell_type": "markdown",
   "metadata": {},
   "source": [
    "## Answer with RAG"
   ]
  },
  {
   "cell_type": "code",
   "execution_count": 14,
   "metadata": {
    "execution": {
     "iopub.execute_input": "2025-05-12T05:44:46.993273Z",
     "iopub.status.busy": "2025-05-12T05:44:46.992747Z",
     "iopub.status.idle": "2025-05-12T05:44:47.000292Z",
     "shell.execute_reply": "2025-05-12T05:44:46.998779Z",
     "shell.execute_reply.started": "2025-05-12T05:44:46.993234Z"
    },
    "trusted": true
   },
   "outputs": [],
   "source": [
    "def create_rag_chain(vectorstore):\n",
    "    prompt_template = \"\"\"문맥을 참고하여 질문에 정확하고 간결하게 답하십시오.\n",
    "    문맥: {context}\n",
    "    질문: {question}\n",
    "    답변:\"\"\"\n",
    "    \n",
    "    PROMPT = PromptTemplate(\n",
    "        template=prompt_template, input_variables=[\"context\", \"question\"]\n",
    "    )\n",
    "\n",
    "    chain_type_kwargs = {\"prompt\": PROMPT}\n",
    "\n",
    "    qa_chain = RetrievalQA.from_chain_type(\n",
    "        llm=hf_llm,\n",
    "        chain_type=\"stuff\",\n",
    "        retriever=vectorstore.as_retriever(),\n",
    "        chain_type_kwargs=chain_type_kwargs,\n",
    "        return_source_documents=True\n",
    "    )\n",
    "    \n",
    "    return qa_chain"
   ]
  },
  {
   "cell_type": "code",
   "execution_count": 15,
   "metadata": {
    "execution": {
     "iopub.execute_input": "2025-05-12T05:43:35.469207Z",
     "iopub.status.busy": "2025-05-12T05:43:35.468571Z",
     "iopub.status.idle": "2025-05-12T05:43:35.475562Z",
     "shell.execute_reply": "2025-05-12T05:43:35.474157Z",
     "shell.execute_reply.started": "2025-05-12T05:43:35.469159Z"
    },
    "trusted": true
   },
   "outputs": [],
   "source": [
    "# create langchang RAG chain\n",
    "\n",
    "qa_chain = create_rag_chain(vectorstore)"
   ]
  },
  {
   "cell_type": "code",
   "execution_count": 16,
   "metadata": {
    "execution": {
     "iopub.execute_input": "2025-05-12T05:44:53.650691Z",
     "iopub.status.busy": "2025-05-12T05:44:53.650179Z",
     "iopub.status.idle": "2025-05-12T05:44:58.901279Z",
     "shell.execute_reply": "2025-05-12T05:44:58.900074Z",
     "shell.execute_reply.started": "2025-05-12T05:44:53.650603Z"
    },
    "trusted": true
   },
   "outputs": [
    {
     "name": "stdout",
     "output_type": "stream",
     "text": [
      "결과:\n",
      "문맥을 참고하여 질문에 정확하고 간결하게 답하십시오.\n",
      "    문맥: 출연한다. 심사위원은 백종원과 안성재가 맡았다. 가제는 《무명요리사》였다.[1]\n",
      "\n",
      "《흑백요리사: 요리 계급 전쟁》(영어: Culinary Class Wars)은 넷플릭스의\n",
      "\n",
      "넷플릭스의 요리 서바이벌 프로그램이다. 방송 직후 세계 여러 나라에서 시청률 1위를\n",
      "\n",
      "대한 사랑을 불러일으켰다. 유명 레스토랑 셰프 등 100인의 요리사가 출연한다.\n",
      "    질문: 심사위원을 누가 맡았어?\n",
      "    답변: 심사위원은 이다\n",
      "(중략 ) 멘트: 심사의 난이도별로 선정하였다.\n",
      "( 중략 )\n",
      "심사 대상\n",
      "심사위원별 명단이 정리 정리되어 있다.\n",
      "이 내용은 아래와 같다.\n",
      "심사위원 : 셰프가 가장 선호하는 레시피로 선정되었다.\n",
      "이런 레시피를 소개할 때가 있는데, 조리 과정이 다소\n",
      "===============================\n",
      "출처:\n",
      "출연한다. 심사위원은 백종원과 안성재가 맡았다. 가제는 《무명요리사》였다.[1]\n",
      "---\n",
      "《흑백요리사: 요리 계급 전쟁》(영어: Culinary Class Wars)은 넷플릭스의\n",
      "---\n",
      "넷플릭스의 요리 서바이벌 프로그램이다. 방송 직후 세계 여러 나라에서 시청률 1위를\n",
      "---\n",
      "대한 사랑을 불러일으켰다. 유명 레스토랑 셰프 등 100인의 요리사가 출연한다.\n",
      "---\n"
     ]
    }
   ],
   "source": [
    "question = \"심사위원을 누가 맡았어?\"\n",
    "\n",
    "# result = qa_chain({\"query\": question})\n",
    "result = qa_chain.invoke({\"query\": question})\n",
    "\n",
    "print (\"결과:\")\n",
    "print(result[\"result\"])\n",
    "\n",
    "print(\"===============================\")\n",
    "print(\"출처:\")\n",
    "for doc in result[\"source_documents\"]:\n",
    "    print(doc.page_content)\n",
    "    print(\"---\")"
   ]
  },
  {
   "cell_type": "code",
   "execution_count": 17,
   "metadata": {
    "trusted": true
   },
   "outputs": [
    {
     "name": "stderr",
     "output_type": "stream",
     "text": [
      "C:\\Users\\human\\AppData\\Local\\Temp\\ipykernel_4456\\2742417880.py:1: LangChainDeprecationWarning: The method `BaseRetriever.get_relevant_documents` was deprecated in langchain-core 0.1.46 and will be removed in 1.0. Use :meth:`~invoke` instead.\n",
      "  docs = vectorstore.as_retriever().get_relevant_documents(question)\n"
     ]
    },
    {
     "data": {
      "text/plain": [
       "[Document(metadata={'source': 'https://ko.wikipedia.org/wiki/흑백요리사'}, page_content='출연한다. 심사위원은 백종원과 안성재가 맡았다. 가제는 《무명요리사》였다.[1]'),\n",
       " Document(metadata={'source': 'https://ko.wikipedia.org/wiki/흑백요리사'}, page_content='《흑백요리사: 요리 계급 전쟁》(영어: Culinary Class Wars)은 넷플릭스의'),\n",
       " Document(metadata={'source': 'https://ko.wikipedia.org/wiki/흑백요리사'}, page_content='넷플릭스의 요리 서바이벌 프로그램이다. 방송 직후 세계 여러 나라에서 시청률 1위를'),\n",
       " Document(metadata={'source': 'https://ko.wikipedia.org/wiki/흑백요리사'}, page_content='대한 사랑을 불러일으켰다. 유명 레스토랑 셰프 등 100인의 요리사가 출연한다.')]"
      ]
     },
     "execution_count": 17,
     "metadata": {},
     "output_type": "execute_result"
    }
   ],
   "source": [
    "docs = vectorstore.as_retriever().get_relevant_documents(question)\n",
    "docs"
   ]
  },
  {
   "cell_type": "code",
   "execution_count": 18,
   "metadata": {
    "trusted": true
   },
   "outputs": [
    {
     "data": {
      "text/plain": [
       "[Document(metadata={'source': 'https://ko.wikipedia.org/wiki/흑백요리사'}, page_content='출연한다. 심사위원은 백종원과 안성재가 맡았다. 가제는 《무명요리사》였다.[1]'),\n",
       " Document(metadata={'source': 'https://ko.wikipedia.org/wiki/흑백요리사'}, page_content='《흑백요리사: 요리 계급 전쟁》(영어: Culinary Class Wars)은 넷플릭스의'),\n",
       " Document(metadata={'source': 'https://ko.wikipedia.org/wiki/흑백요리사'}, page_content='넷플릭스의 요리 서바이벌 프로그램이다. 방송 직후 세계 여러 나라에서 시청률 1위를'),\n",
       " Document(metadata={'source': 'https://ko.wikipedia.org/wiki/흑백요리사'}, page_content='대한 사랑을 불러일으켰다. 유명 레스토랑 셰프 등 100인의 요리사가 출연한다.')]"
      ]
     },
     "execution_count": 18,
     "metadata": {},
     "output_type": "execute_result"
    }
   ],
   "source": [
    "docs = vectorstore.similarity_search(question, k=4)\n",
    "docs"
   ]
  },
  {
   "cell_type": "code",
   "execution_count": 19,
   "metadata": {
    "trusted": true
   },
   "outputs": [],
   "source": [
    "# It seems vectorDB loading from embedding model works fine, but seems llm model does not.\n",
    "# Some Korean llm model seems to work fine in text-generation task, but for Question-Ansering task, we might need another approach."
   ]
  },
  {
   "cell_type": "markdown",
   "metadata": {},
   "source": [
    "# 2. Use QA pipeline"
   ]
  },
  {
   "cell_type": "code",
   "execution_count": 20,
   "metadata": {
    "trusted": true
   },
   "outputs": [
    {
     "name": "stderr",
     "output_type": "stream",
     "text": [
      "Device set to use cpu\n"
     ]
    }
   ],
   "source": [
    "# import torch\n",
    "from transformers import AutoModelForQuestionAnswering, AutoTokenizer, pipeline\n",
    "\n",
    "# Load model and tokenizer\n",
    "model_name = \"yjgwak/klue-bert-base-finetuned-squard-kor-v1\"\n",
    "model = AutoModelForQuestionAnswering.from_pretrained(model_name)\n",
    "tokenizer = AutoTokenizer.from_pretrained(model_name)\n",
    "\n",
    "# Set Q_A pipeline\n",
    "qa_pipeline = pipeline(\"question-answering\", model=model, tokenizer=tokenizer)"
   ]
  },
  {
   "cell_type": "code",
   "execution_count": 21,
   "metadata": {
    "trusted": true
   },
   "outputs": [
    {
     "name": "stdout",
     "output_type": "stream",
     "text": [
      "질문: 오늘 날씨 어때?\n",
      "답변: 맑고 따뜻한 기온이\n"
     ]
    }
   ],
   "source": [
    "# Example: define question and context \n",
    "question = \"오늘 날씨 어때?\"\n",
    "context = \"오늘의 날씨는 맑고 따뜻한 기온이 유지될 것으로 보입니다.\"\n",
    "\n",
    "# model chain\n",
    "result = qa_pipeline(question=question, context=context)\n",
    "\n",
    "# Result\n",
    "print(\"질문:\", question)\n",
    "print(\"답변:\", result['answer'])"
   ]
  },
  {
   "cell_type": "markdown",
   "metadata": {},
   "source": [
    "## Answer with RAG"
   ]
  },
  {
   "cell_type": "code",
   "execution_count": 22,
   "metadata": {
    "trusted": true
   },
   "outputs": [],
   "source": [
    "# search context in VectorStore\n",
    "def retrieve_context(question, vectorstore):\n",
    "    docs = vectorstore.similarity_search(question, k=4)\n",
    "    if docs:\n",
    "        return \" \".join([doc.page_content for doc in docs])\n",
    "        # return docs[0].page_content  # return first relevant doc\n",
    "    else:\n",
    "        return None\n",
    "\n",
    "# Generate answer based on query and searched context similar to RAG chain\n",
    "def answer_question_with_context(question, vectorstore):\n",
    "    context = retrieve_context(question, vectorstore)\n",
    "    if context:\n",
    "        result = qa_pipeline(question=question, context=context)\n",
    "        return result['answer'], context  # return answer and used source doc\n",
    "    else:\n",
    "        return \"관련 문맥을 찾지 못했습니다.\", None"
   ]
  },
  {
   "cell_type": "code",
   "execution_count": 23,
   "metadata": {
    "trusted": true
   },
   "outputs": [
    {
     "name": "stdout",
     "output_type": "stream",
     "text": [
      "질문: 심사위원을 누가 맡았어?\n",
      "답변: 백종원과 안성재가\n",
      "사용된 문맥: 출연한다. 심사위원은 백종원과 안성재가 맡았다. 가제는 《무명요리사》였다.[1] 《흑백요리사: 요리 계급 전쟁》(영어: Culinary Class Wars)은 넷플릭스의 넷플릭스의 요리 서바이벌 프로그램이다. 방송 직후 세계 여러 나라에서 시청률 1위를 대한 사랑을 불러일으켰다. 유명 레스토랑 셰프 등 100인의 요리사가 출연한다.\n"
     ]
    }
   ],
   "source": [
    "# Example\n",
    "question = \"심사위원을 누가 맡았어?\"\n",
    "\n",
    "answer, used_context = answer_question_with_context(question, vectorstore)\n",
    "\n",
    "print(\"질문:\", question)\n",
    "print(\"답변:\", answer)\n",
    "print(\"사용된 문맥:\", used_context)"
   ]
  },
  {
   "cell_type": "markdown",
   "metadata": {},
   "source": [
    "# 3. Use Gemini+RAG"
   ]
  },
  {
   "cell_type": "code",
   "execution_count": 24,
   "metadata": {
    "trusted": true
   },
   "outputs": [],
   "source": [
    "# It seems the best and simple and cost-free option when OpenAI api cannot be used."
   ]
  },
  {
   "cell_type": "code",
   "execution_count": 25,
   "metadata": {
    "trusted": true
   },
   "outputs": [],
   "source": [
    "#!pip install -q langchain langchain-community langchain_huggingface faiss-cpu google-generativeai #chromadb"
   ]
  },
  {
   "cell_type": "code",
   "execution_count": 26,
   "metadata": {
    "trusted": true
   },
   "outputs": [],
   "source": [
    "from langchain.embeddings import HuggingFaceEmbeddings\n",
    "from langchain.vectorstores import Chroma\n",
    "from langchain_community.vectorstores import FAISS\n",
    "from langchain.schema import Document\n",
    "from langchain_text_splitters import RecursiveCharacterTextSplitter\n",
    "import google.generativeai as genai\n",
    "import os"
   ]
  },
  {
   "cell_type": "markdown",
   "metadata": {},
   "source": [
    "## RAG 없는 LLM 사용"
   ]
  },
  {
   "cell_type": "code",
   "execution_count": null,
   "metadata": {
    "trusted": true
   },
   "outputs": [],
   "source": [
    "# 1. Gemini model\n",
    "genai_api_key = \"YOUR-API-KEY\"\n",
    "genai.configure(api_key=genai_api_key)\n",
    "\n",
    "gemini_model = genai.GenerativeModel('gemini-1.5-flash')"
   ]
  },
  {
   "cell_type": "code",
   "execution_count": 28,
   "metadata": {
    "trusted": true
   },
   "outputs": [
    {
     "name": "stdout",
     "output_type": "stream",
     "text": [
      "1 + 1 = 11\n",
      "\n"
     ]
    }
   ],
   "source": [
    "prompt = f\"\"\"문맥을 바탕으로 답변\n",
    "\\n문맥: '+' 연산의 경우 X+y = 10X+y 다 \n",
    "\\n질문: 1+1? \n",
    "\\n대답:\"\"\"\n",
    "response = gemini_model.generate_content(prompt)\n",
    "answer = response.candidates[0].content.parts[0].text\n",
    "print(answer)"
   ]
  },
  {
   "cell_type": "markdown",
   "metadata": {},
   "source": [
    "## VectorDB 에 데이터 저장"
   ]
  },
  {
   "cell_type": "code",
   "execution_count": null,
   "metadata": {
    "trusted": true
   },
   "outputs": [],
   "source": [
    "# set Korean embedding and llm model\n",
    "os.environ[\"HUGGINGFACEHUB_API_TOKEN\"] = \"Your-API-Key\" \n",
    "# hf_embeddings = HuggingFaceEmbeddings(model_name=\"sentence-transformers/paraphrase-multilingual-MiniLM-L12-v2\")\n",
    "hf_embeddings = HuggingFaceEmbeddings(model_name=\"jhgan/ko-sroberta-multitask\") "
   ]
  },
  {
   "cell_type": "code",
   "execution_count": 30,
   "metadata": {
    "trusted": true
   },
   "outputs": [],
   "source": [
    "# from langchain.vectorstores import Chroma\n",
    "# # sample docs\n",
    "# docs = [\n",
    "#     Document(page_content=\"한국어 챗봇은 자연어 처리 기술을 사용하여 사용자와 대화를 나눕니다.\", metadata={\"source\": \"doc1\"}),\n",
    "#     Document(page_content=\"인공지능을 활용한 챗봇은 여러 산업에서 사용되고 있습니다.\", metadata={\"source\": \"doc2\"}),\n",
    "#     Document(page_content=\"한국어와 영어를 동시에 지원하는 챗봇이 점점 늘어나고 있습니다.\", metadata={\"source\": \"doc3\"}),\n",
    "#     Document(page_content=\"챗봇은 고객 서비스를 개선하고 사용자 경험을 향상시키는 데 중요한 역할을 합니다.\", metadata={\"source\": \"doc4\"})\n",
    "# ]\n",
    "\n",
    "# # to avoid collision with previous one\n",
    "# persist_directory = \"./new_chroma_db\"\n",
    "# vectorstore = Chroma.from_documents(docs, embedding=hf_embeddings, persist_directory=\"./chroma_db\")"
   ]
  },
  {
   "cell_type": "code",
   "execution_count": 31,
   "metadata": {
    "trusted": true
   },
   "outputs": [
    {
     "name": "stdout",
     "output_type": "stream",
     "text": [
      "12\n"
     ]
    }
   ],
   "source": [
    "comments_list = [\n",
    "    {\n",
    "        \"writer\": \"@박은정-t1t\",\n",
    "        \"comments\": \"우아 영상의 퀄리티가 어마어마 하네요 이런건 좋아요 눌러야 함\",\n",
    "        \"like\": 184 \n",
    "    },\n",
    "    {\n",
    "        \"writer\": \"@GhosttownKOR\",\n",
    "        \"comments\": \"1:17 밀면은 아니고 소면입니다ㅋㅋㅋ 다른 지역은 모르겠는데 부산은 돼지국밥 시키면 소면주는 집들이 있습니다! 밀가루로 만들었으니 밀면이라고 하면 할 말 없지만.. 보통 부산에서 밀면은 냉면처럼 시원한 그 밀면에만 사용합니다\",\n",
    "        \"like\": 89        \n",
    "    },\n",
    "    {\n",
    "        \"writer\": \"@후후-k2q\",\n",
    "        \"comments\": \"진짜 야무지게 드시고 가셨네... 퀸님 맛집 추천은 진짜 믿고봐요ㅋㅋㅋㅋ\",\n",
    "        \"like\": 70        \n",
    "    },    \n",
    "    {\n",
    "        \"writer\": \"@zheen4385\",\n",
    "        \"comments\": \"송정3대국밥은 저도 가서 실망했어요… ㅋㅋㅋㅋ 저야 부산사니까 저기 한 번 간다고 손해는 없지만 끼니 횟수가 정해져 있는 관광객 입장에선 매우 실망했을 수도 있다 생각해요\",\n",
    "        \"like\": 504        \n",
    "    },    \n",
    "    {\n",
    "        \"writer\": \"@고효성-q8g\",\n",
    "        \"comments\": \"부산인인데 부산사람은 각자 마음속에 자신이 제일 좋아하는 국밥집이 하나씩 있다고 합니다 ㅋㅋㅋ 간짜장 좋아하는데 유원은 꼭 가보고싶네요 좋은 정보알아갑니다 감사합니다.\",\n",
    "        \"like\": 161        \n",
    "    },    \n",
    "    {\n",
    "        \"writer\": \"@jeonpodong-jumin\",\n",
    "        \"comments\": \"드디어 백설대학을 가셨네요! 매장이전하고 많이 깔끔해졌네요 ㅎㅎ 참치김밥을 드셨는데 여기 기본김밥이 미친맛이예요!! 유부와 우엉조림이 찌이이이인한 고소한 맛이랍니다 그리고 사장님 처음에 보면 투빅하고 불친절하다고 느낄수 있는데 부산아재의 유쾌솔직한 모습을 보셨네요 부산에 맛집들 많으니까 더 오셔서 영상올려주세요~\",\n",
    "        \"like\": 9        \n",
    "    },  \n",
    "    {\n",
    "        \"writer\": \"@soothingcream\",\n",
    "        \"comments\": \"부산사람들한테 돼지국밥은 집앞이나 동네에 돼지국밥이 최고인 경우가 많고 워낙 돼지국밥 종류가 다양해서 (농도, 부위 등등) 개취가 심한 음식중 하나라 맛없다고 단정지어 말하기엔 그렇지만 국밥집은 관광오는분들에게 알려진 곳은 거르는게 맞는것 같아요 고관은 그냥 동네 가성비 맛집이었는데 sns이런데 알려지면서 더 그냥저냥 되어버렸고 가끔 포장용 함박만 사서 집에서 해먹는게 맛있더라고요 무튼 sns 맛집은 거의 맛이 변했거나 맛없는 경우가 대부분입니다..\",\n",
    "        \"like\": 30        \n",
    "    },  \n",
    "    {\n",
    "        \"writer\": \"@겉돌이-s5w\",\n",
    "        \"comments\": \"08:57  와 김밥 써는거 개신기하네 ㅋㅋㅋㅋ ㄹㅇ 첨보는데 저런 광경은 ㅋㅋㅋ\",\n",
    "        \"like\": 128        \n",
    "    },  \n",
    "    {\n",
    "        \"writer\": \"@BrandoDio-u1e\",\n",
    "        \"comments\": \"1:57 바오하우스 13팀 대기면 좋게 가셨네요ㅠㅠ. 부산 토백인데도 갈 때 마다 웨이팅이 30팀 넘게 있어서 아직도 못먹은...\",\n",
    "        \"like\": 35        \n",
    "    },  \n",
    "    {\n",
    "        \"writer\": \"@kjpark9951\",\n",
    "        \"comments\": \"백설대학...  거의 10년전부터 가끔 가던 곳인데... 장사가 잘되어서 그런지 가게를 옮겨서 그런지... 사장님 쫌...  카드되냐고 물으니 계좌이체된다고 답하시더군요. 마법의 문장입니다.\",\n",
    "        \"like\": 27        \n",
    "    },  \n",
    "    {\n",
    "        \"writer\": \"@콩-k3z\",\n",
    "        \"comments\": \"부산 현지인인데 동영상 다 보기도 전에 송정 국밥집 보고 이마 짚었습니다 ..😵‍💫 다음에 부산 오시면 송정국밥집 옆에 수영 본가국밥 가셔서 오겹국밥 셀프 코너에서 청양고추 몇개 가져와서 잘게 다진 후 국밥에 섞어서 꼭 드셔보세요! 서면시장 국밥 라인에선 수영이 젤 맛있고 양 많아용\",\n",
    "        \"like\": 7        \n",
    "    },  \n",
    "    {\n",
    "        \"writer\": \"@minsim8275\",\n",
    "        \"comments\": \"부산국밥은 진짜 각양각색입니다 조금씩 다 다달라요 각자의 최애가 존재합니다 ㅎㅎ 저의 최애는 지금은 폐업한 용호동 국밥집,,과,,, 경성대 형제 돼지국밥, 영진돼지국밥입니다(본점)\",\n",
    "        \"like\": 43       \n",
    "    }\n",
    "]\n",
    "\n",
    "print(len(comments_list))"
   ]
  },
  {
   "cell_type": "code",
   "execution_count": 32,
   "metadata": {
    "trusted": true
   },
   "outputs": [
    {
     "name": "stdout",
     "output_type": "stream",
     "text": [
      "{'writer': '@박은정-t1t', 'comments': '우아 영상의 퀄리티가 어마어마 하네요 이런건 좋아요 눌러야 함', 'like': 184}\n",
      "{'writer': '@GhosttownKOR', 'comments': '1:17 밀면은 아니고 소면입니다ㅋㅋㅋ 다른 지역은 모르겠는데 부산은 돼지국밥 시키면 소면주는 집들이 있습니다! 밀가루로 만들었으니 밀면이라고 하면 할 말 없지만.. 보통 부산에서 밀면은 냉면처럼 시원한 그 밀면에만 사용합니다', 'like': 89}\n",
      "{'writer': '@후후-k2q', 'comments': '진짜 야무지게 드시고 가셨네... 퀸님 맛집 추천은 진짜 믿고봐요ㅋㅋㅋㅋ', 'like': 70}\n",
      "{'writer': '@zheen4385', 'comments': '송정3대국밥은 저도 가서 실망했어요… ㅋㅋㅋㅋ 저야 부산사니까 저기 한 번 간다고 손해는 없지만 끼니 횟수가 정해져 있는 관광객 입장에선 매우 실망했을 수도 있다 생각해요', 'like': 504}\n",
      "{'writer': '@고효성-q8g', 'comments': '부산인인데 부산사람은 각자 마음속에 자신이 제일 좋아하는 국밥집이 하나씩 있다고 합니다 ㅋㅋㅋ 간짜장 좋아하는데 유원은 꼭 가보고싶네요 좋은 정보알아갑니다 감사합니다.', 'like': 161}\n",
      "{'writer': '@jeonpodong-jumin', 'comments': '드디어 백설대학을 가셨네요! 매장이전하고 많이 깔끔해졌네요 ㅎㅎ 참치김밥을 드셨는데 여기 기본김밥이 미친맛이예요!! 유부와 우엉조림이 찌이이이인한 고소한 맛이랍니다 그리고 사장님 처음에 보면 투빅하고 불친절하다고 느낄수 있는데 부산아재의 유쾌솔직한 모습을 보셨네요 부산에 맛집들 많으니까 더 오셔서 영상올려주세요~', 'like': 9}\n",
      "{'writer': '@soothingcream', 'comments': '부산사람들한테 돼지국밥은 집앞이나 동네에 돼지국밥이 최고인 경우가 많고 워낙 돼지국밥 종류가 다양해서 (농도, 부위 등등) 개취가 심한 음식중 하나라 맛없다고 단정지어 말하기엔 그렇지만 국밥집은 관광오는분들에게 알려진 곳은 거르는게 맞는것 같아요 고관은 그냥 동네 가성비 맛집이었는데 sns이런데 알려지면서 더 그냥저냥 되어버렸고 가끔 포장용 함박만 사서 집에서 해먹는게 맛있더라고요 무튼 sns 맛집은 거의 맛이 변했거나 맛없는 경우가 대부분입니다..', 'like': 30}\n",
      "{'writer': '@겉돌이-s5w', 'comments': '08:57  와 김밥 써는거 개신기하네 ㅋㅋㅋㅋ ㄹㅇ 첨보는데 저런 광경은 ㅋㅋㅋ', 'like': 128}\n",
      "{'writer': '@BrandoDio-u1e', 'comments': '1:57 바오하우스 13팀 대기면 좋게 가셨네요ㅠㅠ. 부산 토백인데도 갈 때 마다 웨이팅이 30팀 넘게 있어서 아직도 못먹은...', 'like': 35}\n",
      "{'writer': '@kjpark9951', 'comments': '백설대학...  거의 10년전부터 가끔 가던 곳인데... 장사가 잘되어서 그런지 가게를 옮겨서 그런지... 사장님 쫌...  카드되냐고 물으니 계좌이체된다고 답하시더군요. 마법의 문장입니다.', 'like': 27}\n",
      "{'writer': '@콩-k3z', 'comments': '부산 현지인인데 동영상 다 보기도 전에 송정 국밥집 보고 이마 짚었습니다 ..😵\\u200d💫 다음에 부산 오시면 송정국밥집 옆에 수영 본가국밥 가셔서 오겹국밥 셀프 코너에서 청양고추 몇개 가져와서 잘게 다진 후 국밥에 섞어서 꼭 드셔보세요! 서면시장 국밥 라인에선 수영이 젤 맛있고 양 많아용', 'like': 7}\n",
      "{'writer': '@minsim8275', 'comments': '부산국밥은 진짜 각양각색입니다 조금씩 다 다달라요 각자의 최애가 존재합니다 ㅎㅎ 저의 최애는 지금은 폐업한 용호동 국밥집,,과,,, 경성대 형제 돼지국밥, 영진돼지국밥입니다(본점)', 'like': 43}\n"
     ]
    }
   ],
   "source": [
    "for doc in comments_list:\n",
    "    print(doc)"
   ]
  },
  {
   "cell_type": "code",
   "execution_count": 33,
   "metadata": {
    "trusted": true
   },
   "outputs": [],
   "source": [
    "documents = []\n",
    "for doc in comments_list:\n",
    "    each = Document(page_content=doc[\"comments\"], \n",
    "                    metadata={\"writer\": doc[\"writer\"], \"like\": doc[\"like\"]})\n",
    "    documents.append(each)\n",
    "    "
   ]
  },
  {
   "cell_type": "code",
   "execution_count": 34,
   "metadata": {
    "trusted": true
   },
   "outputs": [],
   "source": [
    "# convert to Document object (required for LangChain)\n",
    "documents = [Document(page_content=doc[\"comments\"], \n",
    "                    metadata={\"writer\": doc[\"writer\"], \"like\": doc[\"like\"]}) \n",
    "             for doc in comments_list]\n",
    "\n",
    "# text_splitter = RecursiveCharacterTextSplitter(\n",
    "#     chunk_size=1000,\n",
    "#     chunk_overlap=200\n",
    "# )\n",
    "# splits = text_splitter.split_documents(documents)    \n",
    "\n",
    "vectorstore = FAISS.from_documents(documents=documents, embedding=hf_embeddings)"
   ]
  },
  {
   "cell_type": "markdown",
   "metadata": {},
   "source": [
    "## VectorDB로 쿼리와 유사한 문서 검색"
   ]
  },
  {
   "cell_type": "code",
   "execution_count": 35,
   "metadata": {
    "trusted": true
   },
   "outputs": [
    {
     "name": "stdout",
     "output_type": "stream",
     "text": [
      "* 유사도: [SIM=136.265320]\n",
      "댓글: 백설대학...  거의 10년전부터 가끔 가던 곳인데... 장사가 잘되어서 그런지 가게를 옮겨서 그런지... 사장님 쫌...  카드되냐고 물으니 계좌이체된다고 답하시더군요. 마법의 문장입니다.\n",
      "메타데이터: {'writer': '@kjpark9951', 'like': 27}]\n",
      "\n",
      "* 유사도: [SIM=196.744522]\n",
      "댓글: 드디어 백설대학을 가셨네요! 매장이전하고 많이 깔끔해졌네요 ㅎㅎ 참치김밥을 드셨는데 여기 기본김밥이 미친맛이예요!! 유부와 우엉조림이 찌이이이인한 고소한 맛이랍니다 그리고 사장님 처음에 보면 투빅하고 불친절하다고 느낄수 있는데 부산아재의 유쾌솔직한 모습을 보셨네요 부산에 맛집들 많으니까 더 오셔서 영상올려주세요~\n",
      "메타데이터: {'writer': '@jeonpodong-jumin', 'like': 9}]\n",
      "\n",
      "* 유사도: [SIM=211.218658]\n",
      "댓글: 부산 현지인인데 동영상 다 보기도 전에 송정 국밥집 보고 이마 짚었습니다 ..😵‍💫 다음에 부산 오시면 송정국밥집 옆에 수영 본가국밥 가셔서 오겹국밥 셀프 코너에서 청양고추 몇개 가져와서 잘게 다진 후 국밥에 섞어서 꼭 드셔보세요! 서면시장 국밥 라인에선 수영이 젤 맛있고 양 많아용\n",
      "메타데이터: {'writer': '@콩-k3z', 'like': 7}]\n",
      "\n",
      "* 유사도: [SIM=213.062714]\n",
      "댓글: 1:57 바오하우스 13팀 대기면 좋게 가셨네요ㅠㅠ. 부산 토백인데도 갈 때 마다 웨이팅이 30팀 넘게 있어서 아직도 못먹은...\n",
      "메타데이터: {'writer': '@BrandoDio-u1e', 'like': 35}]\n",
      "\n"
     ]
    }
   ],
   "source": [
    "query = \"계좌이체\"\n",
    "\n",
    "results = vectorstore.similarity_search_with_score(query, k=4) # similarity_search_with_score(query=query, k=4)\n",
    "\n",
    "for doc, score in results:\n",
    "    print(f\"* 유사도: [SIM={score:3f}]\\n댓글: {doc.page_content}\\n메타데이터: {doc.metadata}]\")\n",
    "    print()"
   ]
  },
  {
   "cell_type": "markdown",
   "metadata": {},
   "source": [
    "## RAG + LLM"
   ]
  },
  {
   "cell_type": "code",
   "execution_count": null,
   "metadata": {
    "trusted": true
   },
   "outputs": [],
   "source": [
    "# RAG using prompt\n",
    "def rag_chatbot(question):\n",
    "    context_doc = vectorstore.similarity_search(question, k=3 ) # filter={\"like\": {\"$gte\": 10}}\n",
    "    \n",
    "    # context = \" \".join([doc.page_content for doc in context_doc])\n",
    "    context = \"\\n\".join([f\"문서{i+1}: \" + doc.page_content for i, doc in enumerate(context_doc)])\n",
    "\n",
    "    prompt = f\"\"\"Context에 기반해서 짧게 대답해줘\n",
    "    Context: {context}\\\n",
    "    질문: {question}\n",
    "    답변: \"\"\"\n",
    "    \n",
    "    # response = gemini_model(prompt)    \n",
    "    response = gemini_model.generate_content(prompt)\n",
    "    answer = response.candidates[0].content.parts[0].text\n",
    "\n",
    "    return answer, context"
   ]
  },
  {
   "cell_type": "code",
   "execution_count": 41,
   "metadata": {
    "trusted": true
   },
   "outputs": [
    {
     "name": "stdout",
     "output_type": "stream",
     "text": [
      "질문: 백설대학 계좌이체 가능해?\n",
      "답변: 문서1에 따르면 백설대학은 계좌이체 가능하다고 합니다.\n",
      "\n",
      "====================================================================================================\n",
      "출처 문서: 문서1: 백설대학...  거의 10년전부터 가끔 가던 곳인데... 장사가 잘되어서 그런지 가게를 옮겨서 그런지... 사장님 쫌...  카드되냐고 물으니 계좌이체된다고 답하시더군요. 마법의 문장입니다.\n",
      "문서2: 드디어 백설대학을 가셨네요! 매장이전하고 많이 깔끔해졌네요 ㅎㅎ 참치김밥을 드셨는데 여기 기본김밥이 미친맛이예요!! 유부와 우엉조림이 찌이이이인한 고소한 맛이랍니다 그리고 사장님 처음에 보면 투빅하고 불친절하다고 느낄수 있는데 부산아재의 유쾌솔직한 모습을 보셨네요 부산에 맛집들 많으니까 더 오셔서 영상올려주세요~\n",
      "문서3: 1:57 바오하우스 13팀 대기면 좋게 가셨네요ㅠㅠ. 부산 토백인데도 갈 때 마다 웨이팅이 30팀 넘게 있어서 아직도 못먹은...\n",
      "문서4: 부산사람들한테 돼지국밥은 집앞이나 동네에 돼지국밥이 최고인 경우가 많고 워낙 돼지국밥 종류가 다양해서 (농도, 부위 등등) 개취가 심한 음식중 하나라 맛없다고 단정지어 말하기엔 그렇지만 국밥집은 관광오는분들에게 알려진 곳은 거르는게 맞는것 같아요 고관은 그냥 동네 가성비 맛집이었는데 sns이런데 알려지면서 더 그냥저냥 되어버렸고 가끔 포장용 함박만 사서 집에서 해먹는게 맛있더라고요 무튼 sns 맛집은 거의 맛이 변했거나 맛없는 경우가 대부분입니다..\n"
     ]
    }
   ],
   "source": [
    "# sample question\n",
    "question = \"백설대학 계좌이체 가능해?\"\n",
    "response, context = rag_chatbot(question)\n",
    "\n",
    "print(\"질문:\", question)\n",
    "print(\"답변:\", response)\n",
    "print('='*100)\n",
    "print(\"출처 문서:\", context)"
   ]
  },
  {
   "cell_type": "markdown",
   "metadata": {},
   "source": [
    "## 목적에 맞게 Prompt engineering: 요약하기, 해시태그 생성 등"
   ]
  },
  {
   "cell_type": "code",
   "execution_count": 38,
   "metadata": {
    "trusted": true
   },
   "outputs": [
    {
     "name": "stdout",
     "output_type": "stream",
     "text": [
      "답변\n",
      ": hashtags=[\"#부산맛집\", \"#돼지국밥\", \"#수영본가국밥\", \"#오겹국밥\", \"#개인취향존중\", \"#SNS맛집거르기\", \"#현지인추천\", \"#가성비맛집\"]\n",
      "\n",
      "출처 문서:\n",
      " 문서1: 부산 현지인인데 동영상 다 보기도 전에 송정 국밥집 보고 이마 짚었습니다 ..😵‍💫 다음에 부산 오시면 송정국밥집 옆에 수영 본가국밥 가셔서 오겹국밥 셀프 코너에서 청양고추 몇개 가져와서 잘게 다진 후 국밥에 섞어서 꼭 드셔보세요! 서면시장 국밥 라인에선 수영이 젤 맛있고 양 많아용\n",
      "문서2: 부산사람들한테 돼지국밥은 집앞이나 동네에 돼지국밥이 최고인 경우가 많고 워낙 돼지국밥 종류가 다양해서 (농도, 부위 등등) 개취가 심한 음식중 하나라 맛없다고 단정지어 말하기엔 그렇지만 국밥집은 관광오는분들에게 알려진 곳은 거르는게 맞는것 같아요 고관은 그냥 동네 가성비 맛집이었는데 sns이런데 알려지면서 더 그냥저냥 되어버렸고 가끔 포장용 함박만 사서 집에서 해먹는게 맛있더라고요 무튼 sns 맛집은 거의 맛이 변했거나 맛없는 경우가 대부분입니다..\n",
      "문서3: 부산인인데 부산사람은 각자 마음속에 자신이 제일 좋아하는 국밥집이 하나씩 있다고 합니다 ㅋㅋㅋ 간짜장 좋아하는데 유원은 꼭 가보고싶네요 좋은 정보알아갑니다 감사합니다.\n"
     ]
    }
   ],
   "source": [
    "query = \"송정3대국밥\"\n",
    "context_doc = vectorstore.similarity_search(query, k=3)    \n",
    "\n",
    "context = \"\\n\".join([f\"문서{i+1}: \" + doc.page_content for i, doc in enumerate(context_doc)])\n",
    "prompt = f\"Context:\\n{context}\\n\\n주어진 정보를 기반으로 중요한 정보만을 추출해서 해시태그 형태로 list에 담아 한 줄로 리턴해줘. hashtags=\"\n",
    "# prompt = f\"Context:\\n{context}\\n\\n주어진 정보를 기반으로 간단하게 요약해줘.\"\n",
    "\n",
    "response = gemini_model.generate_content(prompt)\n",
    "answer = response.candidates[0].content.parts[0].text\n",
    "\n",
    "print(\"답변\\n:\", answer)\n",
    "print(\"출처 문서:\\n\", context)"
   ]
  },
  {
   "cell_type": "code",
   "execution_count": 39,
   "metadata": {
    "trusted": true
   },
   "outputs": [],
   "source": [
    "# # Note:\n",
    "# 1. vectorstore에 들어가는 임베딩 모델 (예: jhgan/ko-sroberta-multitask)의 성능 체크 및 한국어데이터에 최적화 되어 있을 것\n",
    "# 2. LLM에 들어가는 prompt 엔지니어링\n",
    "\n",
    "# 참고:\n",
    "# https://python.langchain.com/docs/integrations/vectorstores/faiss/"
   ]
  }
 ],
 "metadata": {
  "kaggle": {
   "accelerator": "none",
   "dataSources": [],
   "dockerImageVersionId": 30786,
   "isGpuEnabled": false,
   "isInternetEnabled": true,
   "language": "python",
   "sourceType": "notebook"
  },
  "kernelspec": {
   "display_name": "python-env-311",
   "language": "python",
   "name": "python3"
  },
  "language_info": {
   "codemirror_mode": {
    "name": "ipython",
    "version": 3
   },
   "file_extension": ".py",
   "mimetype": "text/x-python",
   "name": "python",
   "nbconvert_exporter": "python",
   "pygments_lexer": "ipython3",
   "version": "3.11.11"
  }
 },
 "nbformat": 4,
 "nbformat_minor": 4
}
