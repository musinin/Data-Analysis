{
 "cells": [
  {
   "cell_type": "code",
   "execution_count": null,
   "metadata": {},
   "outputs": [],
   "source": [
    "# winequality-red.csv , winequality-white.csv파일의 데이터를 읽어서 테이블에 저장\n",
    "\n",
    "# 3. 데이터베이스는 _2.ipynb에서 만든 data_repo 사용\n",
    "# 4. 테이블 만들기 (red_wine -> wine)\n",
    "# 5. 데이터 읽어서 red_wine 테이블에 저장\n",
    "# 6. 7등급 이상의 데이터를 조회해서 파일로 저장 (high-quality-wine.csv)"
   ]
  },
  {
   "cell_type": "code",
   "execution_count": null,
   "metadata": {},
   "outputs": [],
   "source": [
    "# 데이터베이스 연동 패키지(모듈) 준비\n",
    "import pymysql\n",
    "# 데이터 분석 패키지 준비\n",
    "import numpy as np\n",
    "import pandas as pd\n",
    "import matplotlib.pyplot as plt"
   ]
  },
  {
   "cell_type": "code",
   "execution_count": 3,
   "metadata": {},
   "outputs": [
    {
     "name": "stdout",
     "output_type": "stream",
     "text": [
      "Index(['fixed acidity', 'volatile acidity', 'citric acid', 'residual sugar',\n",
      "       'chlorides', 'free sulfur dioxide', 'total sulfur dioxide', 'density',\n",
      "       'pH', 'sulphates', 'alcohol', 'quality'],\n",
      "      dtype='object') Index(['fixed acidity', 'volatile acidity', 'citric acid', 'residual sugar',\n",
      "       'chlorides', 'free sulfur dioxide', 'total sulfur dioxide', 'density',\n",
      "       'pH', 'sulphates', 'alcohol', 'quality'],\n",
      "      dtype='object')\n"
     ]
    },
    {
     "data": {
      "text/html": [
       "<div>\n",
       "<style scoped>\n",
       "    .dataframe tbody tr th:only-of-type {\n",
       "        vertical-align: middle;\n",
       "    }\n",
       "\n",
       "    .dataframe tbody tr th {\n",
       "        vertical-align: top;\n",
       "    }\n",
       "\n",
       "    .dataframe thead th {\n",
       "        text-align: right;\n",
       "    }\n",
       "</style>\n",
       "<table border=\"1\" class=\"dataframe\">\n",
       "  <thead>\n",
       "    <tr style=\"text-align: right;\">\n",
       "      <th></th>\n",
       "      <th>fixed acidity</th>\n",
       "      <th>volatile acidity</th>\n",
       "      <th>citric acid</th>\n",
       "      <th>residual sugar</th>\n",
       "      <th>chlorides</th>\n",
       "      <th>free sulfur dioxide</th>\n",
       "      <th>total sulfur dioxide</th>\n",
       "      <th>density</th>\n",
       "      <th>pH</th>\n",
       "      <th>sulphates</th>\n",
       "      <th>alcohol</th>\n",
       "      <th>quality</th>\n",
       "      <th>type</th>\n",
       "    </tr>\n",
       "  </thead>\n",
       "  <tbody>\n",
       "    <tr>\n",
       "      <th>0</th>\n",
       "      <td>7.4</td>\n",
       "      <td>0.70</td>\n",
       "      <td>0.00</td>\n",
       "      <td>1.9</td>\n",
       "      <td>0.076</td>\n",
       "      <td>11.0</td>\n",
       "      <td>34.0</td>\n",
       "      <td>0.9978</td>\n",
       "      <td>3.51</td>\n",
       "      <td>0.56</td>\n",
       "      <td>9.4</td>\n",
       "      <td>5</td>\n",
       "      <td>red</td>\n",
       "    </tr>\n",
       "    <tr>\n",
       "      <th>1</th>\n",
       "      <td>7.8</td>\n",
       "      <td>0.88</td>\n",
       "      <td>0.00</td>\n",
       "      <td>2.6</td>\n",
       "      <td>0.098</td>\n",
       "      <td>25.0</td>\n",
       "      <td>67.0</td>\n",
       "      <td>0.9968</td>\n",
       "      <td>3.20</td>\n",
       "      <td>0.68</td>\n",
       "      <td>9.8</td>\n",
       "      <td>5</td>\n",
       "      <td>red</td>\n",
       "    </tr>\n",
       "    <tr>\n",
       "      <th>2</th>\n",
       "      <td>7.8</td>\n",
       "      <td>0.76</td>\n",
       "      <td>0.04</td>\n",
       "      <td>2.3</td>\n",
       "      <td>0.092</td>\n",
       "      <td>15.0</td>\n",
       "      <td>54.0</td>\n",
       "      <td>0.9970</td>\n",
       "      <td>3.26</td>\n",
       "      <td>0.65</td>\n",
       "      <td>9.8</td>\n",
       "      <td>5</td>\n",
       "      <td>red</td>\n",
       "    </tr>\n",
       "  </tbody>\n",
       "</table>\n",
       "</div>"
      ],
      "text/plain": [
       "   fixed acidity  volatile acidity  citric acid  residual sugar  chlorides  \\\n",
       "0            7.4              0.70         0.00             1.9      0.076   \n",
       "1            7.8              0.88         0.00             2.6      0.098   \n",
       "2            7.8              0.76         0.04             2.3      0.092   \n",
       "\n",
       "   free sulfur dioxide  total sulfur dioxide  density    pH  sulphates  \\\n",
       "0                 11.0                  34.0   0.9978  3.51       0.56   \n",
       "1                 25.0                  67.0   0.9968  3.20       0.68   \n",
       "2                 15.0                  54.0   0.9970  3.26       0.65   \n",
       "\n",
       "   alcohol  quality type  \n",
       "0      9.4        5  red  \n",
       "1      9.8        5  red  \n",
       "2      9.8        5  red  "
      ]
     },
     "execution_count": 3,
     "metadata": {},
     "output_type": "execute_result"
    }
   ],
   "source": [
    "# 1. 각 파일의 데이터를 읽어서 type 컬럼을 만들고 'red', 'white' 저장\n",
    "df_red = pd.read_csv('data-files/winequality-red.csv', sep=\";\")\n",
    "df_white = pd.read_csv('data-files/winequality-white.csv', sep=\";\")\n",
    "\n",
    "print(df_red.columns, df_white.columns) # 컬럼 동일성 확인\n",
    "\n",
    "df_red['type'] = 'red'\n",
    "df_white['type'] = 'white'"
   ]
  },
  {
   "cell_type": "code",
   "execution_count": 6,
   "metadata": {},
   "outputs": [
    {
     "name": "stdout",
     "output_type": "stream",
     "text": [
      "(1599, 13) (4898, 13) (6497, 13)\n"
     ]
    }
   ],
   "source": [
    "# 2. 두 파일의 데이터를 병합\n",
    "df_combined = pd.concat([df_red, df_white])\n",
    "print(df_red.shape, df_white.shape, df_combined.shape)"
   ]
  },
  {
   "cell_type": "code",
   "execution_count": null,
   "metadata": {},
   "outputs": [],
   "source": [
    "try:\n",
    "    conn = pymysql.connect(\n",
    "        host= \"127.0.0.1\",\n",
    "        user=\"humanda5\",\n",
    "        password=\"humanda5\",\n",
    "        database=\"data_repo\"\n",
    "    )\n",
    "    \n",
    "    cursor= conn.cursor()\n",
    "\n",
    "    sql = \"drop table if exists wine\"\n",
    "    cursor.execute(sql)\n",
    "    sql = \"\"\" create table if not exists wine\n",
    "         ( \n",
    "              idx int primary key auto_increment,\n",
    "              fixed_acidity float not null,\n",
    "              volatile_acidity float not null,\n",
    "              citric_acid float not null,\n",
    "              residual_sugar float not null,\n",
    "              chlorides float not null,\n",
    "              free_sulfur_dioxide float not null,\n",
    "              total_sulfur_dioxide float not null,\n",
    "              density float not null,\n",
    "              pH float not null,\n",
    "              sulphates float not null,\n",
    "              alcohol float not null,\n",
    "              quality int not null,\n",
    "              type varchar(10) not null\n",
    "         )\"\"\"\n",
    "    cursor.execute(sql)\n",
    "\n",
    "except Exception as e:\n",
    "    print(\"오류발생 : \", e)\n",
    "finally:\n",
    "\n",
    "    if cursor:\n",
    "        cursor.close()\n",
    "    if conn:\n",
    "        conn.close()"
   ]
  },
  {
   "cell_type": "code",
   "execution_count": 10,
   "metadata": {},
   "outputs": [],
   "source": [
    "try:\n",
    "    conn = pymysql.connect(\n",
    "        host= \"127.0.0.1\",\n",
    "        user=\"humanda5\",\n",
    "        password=\"humanda5\",\n",
    "        database=\"data_repo\"\n",
    "    )\n",
    "\n",
    "    cursor = conn.cursor()\n",
    "\n",
    "    # 명령 실행\n",
    "    sql = \"delete from wine\"\n",
    "    cursor.execute(sql)\n",
    "\n",
    "    sql = \"\"\"insert into wine \n",
    "             (fixed_acidity, volatile_acidity, citric_acid, residual_sugar, chlorides, free_sulfur_dioxide, total_sulfur_dioxide, density, pH, sulphates, alcohol, quality, type)\n",
    "             values \n",
    "             (%s, %s, %s, %s, %s, %s, %s, %s, %s, %s, %s, %s, %s)\"\"\"\n",
    "\n",
    "    data = df_combined.values.tolist()\n",
    "    cursor.executemany(sql, data)\n",
    "    conn.commit()\n",
    "\n",
    "except Exception as e:\n",
    "    print(\"오류발생 : \", e)\n",
    "    if conn:\n",
    "        conn.rollback()\n",
    "\n",
    "finally:\n",
    "    if cursor:\n",
    "        cursor.close()\n",
    "    if conn:    \n",
    "        conn.close()"
   ]
  },
  {
   "cell_type": "code",
   "execution_count": null,
   "metadata": {},
   "outputs": [],
   "source": [
    "# 6. 7등급 이상의 데이터를 조회해서 파일로 저장 (high-quality-wine.csv)\n",
    "try:\n",
    "    conn = pymysql.connect(\n",
    "        host= \"127.0.0.1\",\n",
    "        user=\"humanda5\",\n",
    "        password=\"humanda5\",\n",
    "        database=\"data_repo\"\n",
    "    )\n",
    "    cursor = conn.cursor()\n",
    "\n",
    "    sql = \"\"\"select * from wine where quality >= %s\"\"\"\n",
    "    cursor.execute(sql, [7])\n",
    "    wine_data = cursor.fetchall()\n",
    "\n",
    "    df_wine = pd.DataFrame(wine_data,  columns=['idx'] + list(df_combined.columns))\n",
    "    df_wine.drop(['idx'], axis=1, inplace=True)\n",
    "    df_wine.to_csv('data-files/high-quality-wine.csv', index=False)\n",
    "\n",
    "except Exception as e:\n",
    "    print(\"오류발생 : \", e)\n",
    "finally:\n",
    "    if cursor:\n",
    "        cursor.close()\n",
    "    if conn:    \n",
    "        conn.close()"
   ]
  },
  {
   "cell_type": "code",
   "execution_count": 19,
   "metadata": {},
   "outputs": [
    {
     "name": "stdout",
     "output_type": "stream",
     "text": [
      "Index(['idxfixed acidity', 'idxvolatile acidity', 'idxcitric acid',\n",
      "       'idxresidual sugar', 'idxchlorides', 'idxfree sulfur dioxide',\n",
      "       'idxtotal sulfur dioxide', 'idxdensity', 'idxpH', 'idxsulphates',\n",
      "       'idxalcohol', 'idxquality', 'idxtype'],\n",
      "      dtype='object')\n",
      "['idx', 'fixed acidity', 'volatile acidity', 'citric acid', 'residual sugar', 'chlorides', 'free sulfur dioxide', 'total sulfur dioxide', 'density', 'pH', 'sulphates', 'alcohol', 'quality', 'type']\n"
     ]
    }
   ],
   "source": [
    "print(['idx'] + df_combined.columns)        # df_combined.columns 각 요소에 idx를 결합, 원하는게 아님\n",
    "print(['idx'] + list(df_combined.columns))  # 두 리스트 병합"
   ]
  }
 ],
 "metadata": {
  "kernelspec": {
   "display_name": "python-env-311",
   "language": "python",
   "name": "python3"
  },
  "language_info": {
   "codemirror_mode": {
    "name": "ipython",
    "version": 3
   },
   "file_extension": ".py",
   "mimetype": "text/x-python",
   "name": "python",
   "nbconvert_exporter": "python",
   "pygments_lexer": "ipython3",
   "version": "3.11.11"
  }
 },
 "nbformat": 4,
 "nbformat_minor": 2
}
