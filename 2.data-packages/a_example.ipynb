{
 "cells": [
  {
   "cell_type": "code",
   "execution_count": 132,
   "metadata": {},
   "outputs": [],
   "source": [
    "import numpy as np"
   ]
  },
  {
   "cell_type": "code",
   "execution_count": 133,
   "metadata": {},
   "outputs": [
    {
     "name": "stdout",
     "output_type": "stream",
     "text": [
      "<class 'list'> <class 'numpy.ndarray'>\n",
      "int64 float32 int16\n"
     ]
    }
   ],
   "source": [
    "l = [1, 2, 3]\n",
    "x = np.array(1)\n",
    "x2 = np.array([1, 2, 3], dtype='f') \n",
    "x3 = np.array([1, 2, 3], dtype= np.int16)       # 권하는 형식\n",
    "\n",
    "print(type(l), type(x))\n",
    "print(x.dtype, x2.dtype, x3.dtype)"
   ]
  },
  {
   "cell_type": "code",
   "execution_count": 134,
   "metadata": {},
   "outputs": [
    {
     "name": "stdout",
     "output_type": "stream",
     "text": [
      "[1 2 3] 1\n",
      "[[1 2]\n",
      " [3 4]] 2\n"
     ]
    }
   ],
   "source": [
    "a=np.array([1,2,3])\n",
    "print(a, a.ndim)            # 몇 차원 데이터인지 확인\n",
    "\n",
    "a = np.array([[1, 2], [3, 4]])\n",
    "print(a, a.ndim)"
   ]
  },
  {
   "cell_type": "code",
   "execution_count": 135,
   "metadata": {},
   "outputs": [
    {
     "name": "stdout",
     "output_type": "stream",
     "text": [
      "[1 2 3 4 5] 1\n",
      "[[1 2 3 4 5]] 2\n"
     ]
    }
   ],
   "source": [
    "a=np.array([1, 2, 3, 4, 5], )\n",
    "print (a, a.ndim)\n",
    "\n",
    "a=np.array([1, 2, 3, 4, 5], ndmin=2)     # 어느 차원으로 만들지 지정  \n",
    "print (a, a.ndim)"
   ]
  },
  {
   "cell_type": "code",
   "execution_count": 136,
   "metadata": {},
   "outputs": [
    {
     "name": "stdout",
     "output_type": "stream",
     "text": [
      "[[1 2 3]\n",
      " [4 5 6]]\n",
      "(2, 3)\n",
      "[[1 2]\n",
      " [3 4]\n",
      " [5 6]]\n",
      "(3, 2)\n",
      "[[1 2]\n",
      " [3 4]\n",
      " [5 6]]\n",
      "(3, 2) (2, 3)\n"
     ]
    }
   ],
   "source": [
    "a = np.array([[1,2,3],[4,5,6]]) \n",
    "print(a)\n",
    "print(a.shape)         # .shape 배열의 차수(행/열) 정보 : 읽기/쓰기 가능\n",
    "\n",
    "a = np.array([[1,2,3],[4,5,6]]) \n",
    "a.shape = (3,2)         # 3행 2열로 변환, 실제데이터는 그대로 유지, 읽어내고 제어하는 방식만 변화\n",
    "print(a) \n",
    "print(a.shape)\n",
    "\n",
    "a = np.array([[1,2,3],[4,5,6]]) \n",
    "b = a.reshape(3,2)      # 3행 2열로 변환해서 b에 저장, a는 바뀌지 않음, 원본은 두고 복사본 사용\n",
    "print(b)\n",
    "print(b.shape, a.shape)"
   ]
  },
  {
   "cell_type": "code",
   "execution_count": 137,
   "metadata": {},
   "outputs": [
    {
     "name": "stdout",
     "output_type": "stream",
     "text": [
      "1\n",
      "3\n",
      "[[[ 0  1  2]\n",
      "  [ 3  4  5]\n",
      "  [ 6  7  8]\n",
      "  [ 9 10 11]]\n",
      "\n",
      " [[12 13 14]\n",
      "  [15 16 17]\n",
      "  [18 19 20]\n",
      "  [21 22 23]]]\n"
     ]
    }
   ],
   "source": [
    "# a = np.array(range(24))     결과적으론 약간 다르나 동일함\n",
    "a = np.arange(24)           # np.arange(i) 0 ~ (i-1) 까지 정수로 ndarray 만들기\n",
    "print(a.ndim)\n",
    "b = a.reshape(2,4,3) \n",
    "print(b.ndim)\n",
    "print(b)"
   ]
  },
  {
   "cell_type": "code",
   "execution_count": 138,
   "metadata": {},
   "outputs": [
    {
     "name": "stdout",
     "output_type": "stream",
     "text": [
      "[[4.9e-324 9.9e-324]\n",
      " [1.5e-323 2.0e-323]\n",
      " [2.5e-323 3.0e-323]]\n",
      "[[0. 0.]\n",
      " [0. 0.]\n",
      " [0. 0.]]\n",
      "[[1. 1.]\n",
      " [1. 1.]\n",
      " [1. 1.]]\n"
     ]
    }
   ],
   "source": [
    "x = np.empty([3,2])     # 3행 2열로 만들며 비워둬라, 쓸모없는 값이 들어있을 수도 있다.\n",
    "print(x)                # 사용빈도가 적다.\n",
    "\n",
    "x = np.zeros((3,2))     # 3행 2열로 만들며 0으로 채워라\n",
    "print(x)\n",
    "\n",
    "x = np.ones([3,2])      # 3행 2열로 만들며 1로 채워라\n",
    "print(x)"
   ]
  },
  {
   "cell_type": "code",
   "execution_count": 139,
   "metadata": {},
   "outputs": [
    {
     "name": "stdout",
     "output_type": "stream",
     "text": [
      "[10 12 14 16 18 20]\n"
     ]
    }
   ],
   "source": [
    "x = np.arange(10,21,2) \n",
    "print (x)\n"
   ]
  },
  {
   "cell_type": "code",
   "execution_count": 140,
   "metadata": {},
   "outputs": [
    {
     "name": "stdout",
     "output_type": "stream",
     "text": [
      "(array([1.  , 1.25, 1.5 , 1.75, 2.  ]), np.float64(0.25))\n"
     ]
    }
   ],
   "source": [
    "x = np.linspace(1,2,5, retstep = True) \n",
    "print (x) "
   ]
  },
  {
   "cell_type": "code",
   "execution_count": 141,
   "metadata": {},
   "outputs": [
    {
     "name": "stdout",
     "output_type": "stream",
     "text": [
      "[0 1 2 3 4 5 6 7 8 9]\n",
      "[2 3 4 5 6]\n",
      "[2 4 6]\n"
     ]
    }
   ],
   "source": [
    "a = np.arange(10) \n",
    "b1 = a[2:7]\n",
    "b2 = a[2:7:2]\n",
    "print(a)\n",
    "print(b1)\n",
    "print(b2)"
   ]
  },
  {
   "cell_type": "code",
   "execution_count": 142,
   "metadata": {},
   "outputs": [
    {
     "name": "stdout",
     "output_type": "stream",
     "text": [
      "[0 1 2 3 4 5 6 7 8 9]\n",
      "5\n"
     ]
    }
   ],
   "source": [
    "a = np.arange(10) \n",
    "b = a[5] \n",
    "print(a)\n",
    "print(b)"
   ]
  },
  {
   "cell_type": "code",
   "execution_count": 143,
   "metadata": {},
   "outputs": [
    {
     "name": "stdout",
     "output_type": "stream",
     "text": [
      "[[ 0  1  2  3  4  5]\n",
      " [ 6  7  8  9 10 11]\n",
      " [12 13 14 15 16 17]\n",
      " [18 19 20 21 22 23]]\n"
     ]
    },
    {
     "data": {
      "text/plain": [
       "[[0, 1, 2, 3, 4, 5],\n",
       " [6, 7, 8, 9, 10, 11],\n",
       " [12, 13, 14, 15, 16, 17],\n",
       " [18, 19, 20, 21, 22, 23]]"
      ]
     },
     "execution_count": 143,
     "metadata": {},
     "output_type": "execute_result"
    }
   ],
   "source": [
    "a = np.arange(24)\n",
    "a = a.reshape((4,6))\n",
    "b = a.tolist()  #ndarry-> list 변환 2차원 이상으로 가면 단일명령으로 특정 행열을 가지고 오는방법은 없다\n",
    "\n",
    "print(a)\n",
    "b"
   ]
  },
  {
   "cell_type": "code",
   "execution_count": 144,
   "metadata": {},
   "outputs": [
    {
     "name": "stdout",
     "output_type": "stream",
     "text": [
      "[[ 6  7  8  9 10 11]\n",
      " [12 13 14 15 16 17]\n",
      " [18 19 20 21 22 23]]\n",
      "[[6, 7, 8, 9, 10, 11], [12, 13, 14, 15, 16, 17], [18, 19, 20, 21, 22, 23]]\n"
     ]
    }
   ],
   "source": [
    "print(a[1:])\n",
    "print(b[1:])\n"
   ]
  },
  {
   "cell_type": "code",
   "execution_count": 145,
   "metadata": {},
   "outputs": [
    {
     "name": "stdout",
     "output_type": "stream",
     "text": [
      "[[ 0  1  2  3  4  5]\n",
      " [12 13 14 15 16 17]]\n",
      "[[0, 1, 2, 3, 4, 5], [12, 13, 14, 15, 16, 17]]\n"
     ]
    }
   ],
   "source": [
    "# 0행과 2행 데이터 조회\n",
    "print(a[[0,2]])     # 인덱싱을 튜플 리스트로 \n",
    "print([b[0],b[2]])"
   ]
  },
  {
   "cell_type": "code",
   "execution_count": 146,
   "metadata": {},
   "outputs": [
    {
     "name": "stdout",
     "output_type": "stream",
     "text": [
      "[ 3  9 15 21]\n",
      "[3, 9, 15, 21]\n"
     ]
    }
   ],
   "source": [
    "# 3열 데이터 조회\n",
    "print(a[:,3])       # ndarray의 2차원 인덱싱->ar[row-indexing, col-indexing]\n",
    "                    # ndarray의 2차원 슬라이싱 ->ar[row-slicing, col-slicing] 둘을 섞어 사용가능\n",
    "print([v[3] for v in b ])  # 못함 \n"
   ]
  },
  {
   "cell_type": "code",
   "execution_count": 147,
   "metadata": {},
   "outputs": [
    {
     "name": "stdout",
     "output_type": "stream",
     "text": [
      "[[ 2  5]\n",
      " [ 8 11]\n",
      " [14 17]\n",
      " [20 23]]\n"
     ]
    }
   ],
   "source": [
    "print( a[:, [2,5]]) # 모든 행의 2열 , 5열 데이터 조회, 앞인덱싱 뒤 슬라이싱"
   ]
  },
  {
   "cell_type": "code",
   "execution_count": 148,
   "metadata": {},
   "outputs": [
    {
     "name": "stdout",
     "output_type": "stream",
     "text": [
      "[[ 6  7  8  9 10 11]\n",
      " [18 19 20 21 22 23]]\n"
     ]
    }
   ],
   "source": [
    "print(a[[1,3],:])   # 1, 3행의 모든 열 데이터 조회"
   ]
  },
  {
   "cell_type": "code",
   "execution_count": 149,
   "metadata": {},
   "outputs": [
    {
     "name": "stdout",
     "output_type": "stream",
     "text": [
      "[[ 0  1  2  3  4  5]\n",
      " [ 6  7  8  9 10 11]\n",
      " [12 13 14 15 16 17]\n",
      " [18 19 20 21 22 23]]\n",
      "[[ 0  1  2  3  4  5]\n",
      " [12 13 14 15 16 17]\n",
      " [18 19 20 21 22 23]]\n",
      "[[ 0  1  4]\n",
      " [ 6  7 10]\n",
      " [12 13 16]\n",
      " [18 19 22]]\n"
     ]
    }
   ],
   "source": [
    "# boolean indexing         True, False로 행과열을 값을 선택하도록 하는것이 가능\n",
    "print(a)\n",
    "#print(a[[True, False, True, True]]) 모든행에 자동으로됨\n",
    "print(a[[True, False, True, True],:])               # 행에 True, False\n",
    "\n",
    "print(a[:,[True, True, False, False, True, False]]) #열에 True, False\n",
    "# print(a[:,[True, True, False, False]]) 오류 : boolean 리스트와 행 또는 열의 개수는 일치해야 한다"
   ]
  },
  {
   "cell_type": "code",
   "execution_count": 150,
   "metadata": {},
   "outputs": [
    {
     "name": "stdout",
     "output_type": "stream",
     "text": [
      "[[ 0  1  2  3  4  5]\n",
      " [ 6  7  8  9 10 11]\n",
      " [12 13 14 15 16 17]\n",
      " [18 19 20 21 22 23]]\n",
      "[False  True  True  True]\n"
     ]
    },
    {
     "data": {
      "text/plain": [
       "array([[ 6,  7,  8,  9, 10, 11],\n",
       "       [12, 13, 14, 15, 16, 17],\n",
       "       [18, 19, 20, 21, 22, 23]])"
      ]
     },
     "execution_count": 150,
     "metadata": {},
     "output_type": "execute_result"
    }
   ],
   "source": [
    "# boolean indexing 4열의 데이터가 10보다 큰 모든 행을 뽑아라\n",
    "print(a)\n",
    "print( a[:, 4] >=10 ) # 4열의 값이 10 이상인지 여부\n",
    "\n",
    "# print( b[0] > 3 ) 리스트와 단일값 연산 불가능   \n",
    " \n",
    "# 4열의 값이 10 이상인 행 조회\n",
    "# a[ a[:, 4] >= 10 ]  # 트루일때만 전체 뽑기 아주 자용 사용됨\n",
    "\n",
    "mask =  a[:, 4] >= 10   # 한번 걸러서 사용 가능\n",
    "a[ mask ]\n"
   ]
  },
  {
   "cell_type": "code",
   "execution_count": 151,
   "metadata": {},
   "outputs": [
    {
     "name": "stdout",
     "output_type": "stream",
     "text": [
      "True\n",
      "False\n",
      "True\n",
      "[ True False False]\n"
     ]
    }
   ],
   "source": [
    "a1 = np.array([True, False, True])\n",
    "b1 = np.array([True, False, False])\n",
    "\n",
    "print(True and True)\n",
    "print(True and False)\n",
    "print(True or False)\n",
    "\n",
    "\n",
    "# print(a and b)        # 오류 : and / or는 단일값에 대한 논리연산\n",
    "print(a1 & b1)            # ndarray의 각 값에 대한 논리연산은 &, |"
   ]
  },
  {
   "cell_type": "code",
   "execution_count": 152,
   "metadata": {},
   "outputs": [
    {
     "name": "stdout",
     "output_type": "stream",
     "text": [
      "[[ 0  1  2  3  4  5]\n",
      " [ 6  7  8  9 10 11]\n",
      " [12 13 14 15 16 17]\n",
      " [18 19 20 21 22 23]]\n"
     ]
    },
    {
     "data": {
      "text/plain": [
       "array([ 2,  4,  6,  8, 10, 12, 14, 16, 18, 20, 22])"
      ]
     },
     "execution_count": 152,
     "metadata": {},
     "output_type": "execute_result"
    }
   ],
   "source": [
    "# 전제 데이터 대상으로 짝수만 조회\n",
    "print(a)\n",
    "mask1 = a % 2 ==0\n",
    "mask2 = a > 0 \n",
    "mask3 = mask1 & mask2\n",
    "#print(mask3)\n",
    "\n",
    "a[mask3]"
   ]
  },
  {
   "cell_type": "code",
   "execution_count": null,
   "metadata": {},
   "outputs": [
    {
     "name": "stdout",
     "output_type": "stream",
     "text": [
      "[11 22 33 44]\n",
      "[1, 2, 3, 4, 10, 20, 30, 40]\n",
      "[[ 1.  2.  3.]\n",
      " [11. 12. 13.]\n",
      " [21. 22. 23.]\n",
      " [31. 32. 33.]]\n"
     ]
    }
   ],
   "source": [
    "a2 = np.array([1,2,3,4]) \n",
    "b2 = np.array([10,20,30,40]) \n",
    "print(a2 + b2)                       # 두 ndarray를 더하면 요소별 연산 수행\n",
    "print([1,2,3,4]+[10,20,30,40])  # 두 리스트를 더하면 리스트 결합\n",
    "\n",
    "\n",
    "# 쌍이 맞지않을때 알아서 맞춤 없는 부분을 확장하여 처리\n",
    "a3 = np.array([[0.0,0.0,0.0],[10.0,10.0,10.0],[20.0,20.0,20.0],[30.0,30.0,30.0]])\n",
    "b3 = np.array([1.0,2.0,3.0])\n",
    "print (a3 + b3)"
   ]
  }
 ],
 "metadata": {
  "kernelspec": {
   "display_name": "python-env-311",
   "language": "python",
   "name": "python3"
  },
  "language_info": {
   "codemirror_mode": {
    "name": "ipython",
    "version": 3
   },
   "file_extension": ".py",
   "mimetype": "text/x-python",
   "name": "python",
   "nbconvert_exporter": "python",
   "pygments_lexer": "ipython3",
   "version": "3.11.11"
  }
 },
 "nbformat": 4,
 "nbformat_minor": 2
}
