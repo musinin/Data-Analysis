{
 "cells": [
  {
   "cell_type": "code",
   "execution_count": 70,
   "metadata": {},
   "outputs": [],
   "source": [
    "# 'data-files/subway_data_1.csv' 파일 사용\n",
    "# 유임승차 비율 = 유임승차 / (유임승차 + 무임승차 )\n",
    "# 유임승차 비율 = 무임승차 / (유임승차 + 무임승차 )\n",
    "# 유임승차비율과 무임승차 비율이 가장 높은 지하철역을 각각 검색\n",
    "# 승차인원이 1000명 이상인 데이터만 사용\n",
    "\n",
    "import numpy as np\n",
    "import pandas as pd\n",
    "import matplotlib.pyplot as plt\n",
    "\n",
    "df_sub = pd.read_csv('data-files/subway_data_1.csv', encoding=\"utf-8\", thousands= \",\")\n",
    "\n",
    "# 확인용 \n",
    "# df_sub.info()\n",
    "# df_sub.head()\n",
    "# df_sub.iloc[:3, :8] \n",
    "# print(df_sub.columns[[4, 6]])"
   ]
  },
  {
   "cell_type": "code",
   "execution_count": 23,
   "metadata": {},
   "outputs": [
    {
     "name": "stdout",
     "output_type": "stream",
     "text": [
      "     호선명 지하철역     무임승차비\n",
      "329  경의선   운천  0.787671\n",
      "     호선명  지하철역  유임승차비\n",
      "334  경의선  김포공항    1.0\n",
      "336  경의선    검암    1.0\n",
      "483  6호선    신내    1.0\n"
     ]
    }
   ],
   "source": [
    "df_sub['무임승차비'] = df_sub.iloc[:,6] / (df_sub.iloc[:,4] + df_sub.iloc[:,6])\n",
    "df_sub['유임승차비'] = df_sub['유임승차'] / (df_sub['유임승차'] + df_sub['무임승차'])\n",
    "\n",
    "mask1 = df_sub['무임승차비'] == df_sub['무임승차비'].max()\n",
    "mask2 = df_sub['유임승차비'] == df_sub['유임승차비'].max()\n",
    "\n",
    "print(df_sub[mask1].iloc[:, [1,3,-2]])\n",
    "print(df_sub[mask2].iloc[:, [1,3,-1]])"
   ]
  },
  {
   "cell_type": "code",
   "execution_count": null,
   "metadata": {},
   "outputs": [
    {
     "name": "stdout",
     "output_type": "stream",
     "text": [
      "     호선명 지하철역     유임승차비     무임승차비\n",
      "208  경원선  소요산  0.237237  0.762763\n",
      "          호선명  지하철역     유임승차비     무임승차비\n",
      "572  공항철도 1호선  홍대입구  0.956434  0.043566\n"
     ]
    }
   ],
   "source": [
    "mask = (df_sub['유임승차'] | df_sub['무임승차']) >= 10000\n",
    "\n",
    "df_sub['무임승차비'] = df_sub['무임승차'] / (df_sub['유임승차'] + df_sub['무임승차'])\n",
    "df_sub['유임승차비'] = df_sub['유임승차'] / (df_sub['유임승차'] + df_sub['무임승차'])\n",
    "\n",
    "df_sub.loc[~mask, ['무임승차비', '유임승차비']] = None\n",
    "\n",
    "mask1 = df_sub['무임승차비'] == df_sub['무임승차비'].max()\n",
    "mask2 = df_sub['유임승차비'] == df_sub['유임승차비'].max()\n",
    "\n",
    "print(df_sub[mask1].iloc[:, [1,3,-1,-2]])\n",
    "print(df_sub[mask2].iloc[:, [1,3,-1,-2]])"
   ]
  },
  {
   "cell_type": "code",
   "execution_count": null,
   "metadata": {},
   "outputs": [
    {
     "name": "stdout",
     "output_type": "stream",
     "text": [
      "    지하철역     무임승차비     유임승차비\n",
      "208  소요산  0.762763  0.237237\n",
      "     지하철역     무임승차비     유임승차비\n",
      "572  홍대입구  0.043566  0.956434\n"
     ]
    }
   ],
   "source": [
    "df_sub = pd.read_csv('data-files/subway_data_1.csv', encoding=\"utf-8\", thousands= \",\")\n",
    "\n",
    "df_sub['무임승차비'] = df_sub['무임승차'] / (df_sub['유임승차'] + df_sub['무임승차'])\n",
    "df_sub['유임승차비'] = df_sub['유임승차'] / (df_sub['유임승차'] + df_sub['무임승차'])\n",
    "\n",
    "# df_sub.head()\n",
    "\n",
    "df_sub['임계치이상'] = df_sub['무임승차'] + df_sub['유임승차'] > 1000\n",
    "\n",
    "mask1 = df_sub['임계치이상']\n",
    "df_subway = df_sub[mask1]\n",
    "mask2 = df_subway['무임승차비'] == df_subway['무임승차비'].max()\n",
    "mask3 = df_subway['유임승차비'] == df_subway['유임승차비'].max()\n",
    "\n",
    "print(df_subway[mask2].iloc[:,[3,-3,-2]])\n",
    "print(df_subway[mask3].iloc[:,[3,-3,-2]])\n",
    "\n"
   ]
  },
  {
   "cell_type": "code",
   "execution_count": null,
   "metadata": {},
   "outputs": [
    {
     "name": "stdout",
     "output_type": "stream",
     "text": [
      "<class 'pandas.core.frame.DataFrame'>\n",
      "RangeIndex: 620 entries, 0 to 619\n",
      "Data columns (total 53 columns):\n",
      " #   Column               Non-Null Count  Dtype \n",
      "---  ------               --------------  ----- \n",
      " 0   2025-02              620 non-null    object\n",
      " 1   1호선                  620 non-null    object\n",
      " 2   0150                 620 non-null    int64 \n",
      " 3   서울역                  620 non-null    object\n",
      " 4   587                  620 non-null    int64 \n",
      " 5   54                   620 non-null    int64 \n",
      " 6   8,095                620 non-null    int64 \n",
      " 7   7,283                620 non-null    int64 \n",
      " 8   22,011               620 non-null    int64 \n",
      " 9   47,821               620 non-null    int64 \n",
      " 10  71,085               620 non-null    int64 \n",
      " 11  111,528              620 non-null    int64 \n",
      " 12  119,083              620 non-null    int64 \n",
      " 13  233,868              620 non-null    int64 \n",
      " 14  94,584               620 non-null    int64 \n",
      " 15  152,230              620 non-null    int64 \n",
      " 16  84,901               620 non-null    int64 \n",
      " 17  85,218               620 non-null    int64 \n",
      " 18  102,298              620 non-null    int64 \n",
      " 19  82,794               620 non-null    int64 \n",
      " 20  115,097              620 non-null    int64 \n",
      " 21  92,799               620 non-null    int64 \n",
      " 22  109,127              620 non-null    int64 \n",
      " 23  90,322               620 non-null    int64 \n",
      " 24  95,089               620 non-null    int64 \n",
      " 25  85,159               620 non-null    int64 \n",
      " 26  118,760              620 non-null    int64 \n",
      " 27  95,891               620 non-null    int64 \n",
      " 28  131,583              620 non-null    int64 \n",
      " 29  104,583              620 non-null    int64 \n",
      " 30  201,824              620 non-null    int64 \n",
      " 31  123,994              620 non-null    int64 \n",
      " 32  240,781              620 non-null    int64 \n",
      " 33  144,802              620 non-null    int64 \n",
      " 34  130,836              620 non-null    int64 \n",
      " 35  101,179              620 non-null    int64 \n",
      " 36  93,425               620 non-null    int64 \n",
      " 37  71,725               620 non-null    int64 \n",
      " 38  96,326               620 non-null    int64 \n",
      " 39  64,305               620 non-null    int64 \n",
      " 40  60,849               620 non-null    int64 \n",
      " 41  45,557               620 non-null    int64 \n",
      " 42  30,226               620 non-null    int64 \n",
      " 43  23,594               620 non-null    int64 \n",
      " 44  3,738                620 non-null    int64 \n",
      " 45  6,137                620 non-null    int64 \n",
      " 46  10                   620 non-null    int64 \n",
      " 47  165                  620 non-null    int64 \n",
      " 48  0                    620 non-null    int64 \n",
      " 49  1                    620 non-null    int64 \n",
      " 50  0.1                  620 non-null    int64 \n",
      " 51  0.2                  620 non-null    int64 \n",
      " 52  2025-03-03 16:39:16  620 non-null    object\n",
      "dtypes: int64(49), object(4)\n",
      "memory usage: 256.8+ KB\n"
     ]
    },
    {
     "data": {
      "text/html": [
       "<div>\n",
       "<style scoped>\n",
       "    .dataframe tbody tr th:only-of-type {\n",
       "        vertical-align: middle;\n",
       "    }\n",
       "\n",
       "    .dataframe tbody tr th {\n",
       "        vertical-align: top;\n",
       "    }\n",
       "\n",
       "    .dataframe thead th {\n",
       "        text-align: right;\n",
       "    }\n",
       "</style>\n",
       "<table border=\"1\" class=\"dataframe\">\n",
       "  <thead>\n",
       "    <tr style=\"text-align: right;\">\n",
       "      <th></th>\n",
       "      <th>2025-02</th>\n",
       "      <th>1호선</th>\n",
       "      <th>0150</th>\n",
       "      <th>서울역</th>\n",
       "      <th>587</th>\n",
       "      <th>54</th>\n",
       "      <th>8,095</th>\n",
       "      <th>7,283</th>\n",
       "    </tr>\n",
       "  </thead>\n",
       "  <tbody>\n",
       "    <tr>\n",
       "      <th>0</th>\n",
       "      <td>2025-02</td>\n",
       "      <td>1호선</td>\n",
       "      <td>151</td>\n",
       "      <td>시청</td>\n",
       "      <td>118</td>\n",
       "      <td>0</td>\n",
       "      <td>1599</td>\n",
       "      <td>4243</td>\n",
       "    </tr>\n",
       "    <tr>\n",
       "      <th>1</th>\n",
       "      <td>2025-02</td>\n",
       "      <td>1호선</td>\n",
       "      <td>152</td>\n",
       "      <td>종각</td>\n",
       "      <td>122</td>\n",
       "      <td>2</td>\n",
       "      <td>3547</td>\n",
       "      <td>5593</td>\n",
       "    </tr>\n",
       "    <tr>\n",
       "      <th>2</th>\n",
       "      <td>2025-02</td>\n",
       "      <td>1호선</td>\n",
       "      <td>153</td>\n",
       "      <td>종로3가</td>\n",
       "      <td>108</td>\n",
       "      <td>7</td>\n",
       "      <td>2804</td>\n",
       "      <td>2329</td>\n",
       "    </tr>\n",
       "  </tbody>\n",
       "</table>\n",
       "</div>"
      ],
      "text/plain": [
       "   2025-02  1호선  0150   서울역  587  54  8,095  7,283\n",
       "0  2025-02  1호선   151    시청  118   0   1599   4243\n",
       "1  2025-02  1호선   152    종각  122   2   3547   5593\n",
       "2  2025-02  1호선   153  종로3가  108   7   2804   2329"
      ]
     },
     "execution_count": 63,
     "metadata": {},
     "output_type": "execute_result"
    }
   ],
   "source": [
    "# df_sub2 = pd.read_csv('data-files/subway_data_2.csv', encoding=\"utf-8\", thousands= \",\")\n",
    "\n",
    "# df_sub2.info()\n",
    "# df_sub2.head()\n",
    "# df_sub2.iloc[:3, :8]\n"
   ]
  }
 ],
 "metadata": {
  "kernelspec": {
   "display_name": "python-env-311",
   "language": "python",
   "name": "python3"
  },
  "language_info": {
   "codemirror_mode": {
    "name": "ipython",
    "version": 3
   },
   "file_extension": ".py",
   "mimetype": "text/x-python",
   "name": "python",
   "nbconvert_exporter": "python",
   "pygments_lexer": "ipython3",
   "version": "3.11.11"
  }
 },
 "nbformat": 4,
 "nbformat_minor": 2
}
